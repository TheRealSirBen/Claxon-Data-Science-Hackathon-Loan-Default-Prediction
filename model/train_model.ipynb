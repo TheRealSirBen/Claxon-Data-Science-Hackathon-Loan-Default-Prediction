{
 "cells": [
  {
   "cell_type": "markdown",
   "id": "a6a41dcd-6cc1-4eda-a315-1e6c44ca54a1",
   "metadata": {
    "id": "a6a41dcd-6cc1-4eda-a315-1e6c44ca54a1"
   },
   "source": [
    "\n",
    "\n",
    "-# Install packages"
   ]
  },
  {
   "cell_type": "code",
   "execution_count": 1,
   "id": "605496d0-dbad-476b-9a5e-ae73cb099a46",
   "metadata": {
    "colab": {
     "base_uri": "https://localhost:8080/"
    },
    "id": "605496d0-dbad-476b-9a5e-ae73cb099a46",
    "outputId": "c77171a1-f5a2-4aad-dc4f-b7a16c34afad"
   },
   "outputs": [],
   "source": [
    "# !pip install pandas\n",
    "# !pip install numpy\n",
    "# !pip install matplotlib\n",
    "# !pip install seaborn\n",
    "# !pip install statsmodels\n",
    "# !pip install fuzzywuzzy\n",
    "# !pip install python-Levenshtein\n",
    "# !pip install scikit-learn\n",
    "# !pip install imblearn\n",
    "# !pip install xgboost\n",
    "# !pip install lightgbm\n",
    "# !pip install keras\n",
    "# !pip install dill"
   ]
  },
  {
   "cell_type": "markdown",
   "id": "2deea285-90fe-4018-a01d-6c42d63a3e67",
   "metadata": {
    "id": "2deea285-90fe-4018-a01d-6c42d63a3e67"
   },
   "source": [
    "# Import libraries"
   ]
  },
  {
   "cell_type": "code",
   "execution_count": 2,
   "id": "5c92d595-bfb6-4019-ba52-989b989518f4",
   "metadata": {
    "id": "5c92d595-bfb6-4019-ba52-989b989518f4"
   },
   "outputs": [],
   "source": [
    "## Data loading and manipulation\n",
    "from pandas import read_csv\n",
    "from pandas import DataFrame\n",
    "from pandas import to_datetime\n",
    "from pandas import to_numeric\n",
    "from pandas.api.types import is_numeric_dtype\n",
    "from pandas.api.types import is_string_dtype\n",
    "from pandas import CategoricalDtype\n",
    "from numpy import nan as nan_value\n",
    "from pandas import concat\n",
    "from pandas import cut\n",
    "from numpy import quantile\n",
    "from numpy import linspace\n",
    "from numpy import concatenate\n",
    "from numpy import inf as np_inf\n",
    "from fuzzywuzzy import process\n",
    "\n",
    "## EDA\n",
    "import matplotlib.pyplot as plt\n",
    "from pandas import DatetimeIndex\n",
    "import seaborn as sns\n",
    "from IPython.display import Image\n",
    "\n",
    "## Feature Engineering\n",
    "from scipy import stats\n",
    "from numpy import log\n",
    "from scipy.stats.mstats import winsorize\n",
    "from sklearn.preprocessing import StandardScaler\n",
    "from sklearn.preprocessing import OneHotEncoder\n",
    "from statsmodels.stats.outliers_influence import variance_inflation_factor\n",
    "\n",
    "## Data pre-processing\n",
    "from collections import Counter\n",
    "from imblearn.over_sampling import SMOTE\n",
    "from sklearn.model_selection import train_test_split\n",
    "\n",
    "## Model building\n",
    "from sklearn.model_selection import RandomizedSearchCV\n",
    "\n",
    "# Linear models\n",
    "from sklearn.linear_model import LogisticRegression\n",
    "from sklearn.discriminant_analysis import LinearDiscriminantAnalysis\n",
    "\n",
    "# Tree-based models\n",
    "from sklearn.tree import DecisionTreeClassifier\n",
    "from sklearn.ensemble import ExtraTreesClassifier\n",
    "from sklearn.ensemble import GradientBoostingClassifier\n",
    "from sklearn.ensemble import RandomForestClassifier\n",
    "from xgboost import XGBClassifier\n",
    "from lightgbm import LGBMClassifier\n",
    "\n",
    "# Support Vector Machines\n",
    "from sklearn.svm import SVC\n",
    "\n",
    "# Nearest Neighbors\n",
    "from sklearn.neighbors import KNeighborsClassifier\n",
    "\n",
    "# Naive Bayes\n",
    "from sklearn.naive_bayes import GaussianNB\n",
    "\n",
    "# Neural Networks\n",
    "# from keras.wrappers.scikit_learn import KerasClassifier\n",
    "# from keras.models import Sequential\n",
    "# from keras.layers import Dense, Dropout\n",
    "# from keras.optimizers import Adam\n",
    "\n",
    "## Model Evaluation\n",
    "from sklearn.metrics import make_scorer\n",
    "from sklearn.metrics import accuracy_score\n",
    "from sklearn.metrics import precision_score\n",
    "from sklearn.metrics import recall_score\n",
    "from sklearn.metrics import f1_score\n",
    "from sklearn.metrics import roc_auc_score\n",
    "from sklearn.metrics import roc_curve\n",
    "from sklearn.metrics import auc\n",
    "from sklearn.metrics import confusion_matrix\n",
    "from sklearn.metrics import ConfusionMatrixDisplay\n",
    "\n",
    "## Saving model\n",
    "import joblib\n",
    "import pickle\n",
    "\n",
    "## Other imports\n",
    "from os import listdir\n",
    "from os import makedirs\n",
    "from os.path import exists\n",
    "from os import environ\n",
    "import time\n",
    "from datetime import datetime\n",
    "import time\n",
    "from datetime import timedelta\n",
    "import dill"
   ]
  },
  {
   "cell_type": "markdown",
   "id": "a5e9d7b0-dbc7-4ef8-bb48-fcf13bd42034",
   "metadata": {
    "id": "a5e9d7b0-dbc7-4ef8-bb48-fcf13bd42034"
   },
   "source": [
    "# Project configurations"
   ]
  },
  {
   "cell_type": "code",
   "execution_count": 23,
   "id": "bb24842c-d0dc-46cb-9ff8-a4beaffb5084",
   "metadata": {
    "id": "bb24842c-d0dc-46cb-9ff8-a4beaffb5084"
   },
   "outputs": [],
   "source": [
    "DATA_DIR = 'data'\n",
    "EDA_REPORTS_DIR = 'eda'\n",
    "TRANSFORMATIONS_DIR = 'transformations'\n",
    "CROSS_VALIDATION_DIR = 'cv_results'\n",
    "MODEL_FITTING_RESULTS_DIR = 'model_fitting'\n",
    "MODEL_DEPLOYMENT_DIR = 'deployed_models'"
   ]
  },
  {
   "cell_type": "code",
   "execution_count": 24,
   "id": "f9bf34f3-0dbd-4927-b4f6-3c24ba4945c0",
   "metadata": {
    "id": "f9bf34f3-0dbd-4927-b4f6-3c24ba4945c0"
   },
   "outputs": [],
   "source": [
    "makedirs(DATA_DIR, exist_ok=True)\n",
    "makedirs(EDA_REPORTS_DIR, exist_ok=True)\n",
    "makedirs(MODEL_DEPLOYMENT_DIR, exist_ok=True)\n",
    "makedirs(TRANSFORMATIONS_DIR, exist_ok=True)\n",
    "makedirs(CROSS_VALIDATION_DIR, exist_ok=True)\n",
    "makedirs(MODEL_FITTING_RESULTS_DIR, exist_ok=True)"
   ]
  },
  {
   "cell_type": "markdown",
   "id": "0e40508f-b209-49c9-86e1-101ebd565979",
   "metadata": {},
   "source": [
    "# Data transformation module"
   ]
  },
  {
   "cell_type": "code",
   "execution_count": 1,
   "id": "ae21aaf5-d3a1-4894-a164-e33e4f5d0674",
   "metadata": {},
   "outputs": [
    {
     "ename": "NameError",
     "evalue": "name 'DataFrame' is not defined",
     "output_type": "error",
     "traceback": [
      "\u001b[1;31m---------------------------------------------------------------------------\u001b[0m",
      "\u001b[1;31mNameError\u001b[0m                                 Traceback (most recent call last)",
      "Cell \u001b[1;32mIn[1], line 1\u001b[0m\n\u001b[1;32m----> 1\u001b[0m \u001b[38;5;28;01mclass\u001b[39;00m \u001b[38;5;21;01mTransformationModule\u001b[39;00m:\n\u001b[0;32m      2\u001b[0m     \u001b[38;5;28;01mdef\u001b[39;00m \u001b[38;5;21m__init__\u001b[39m(\u001b[38;5;28mself\u001b[39m):\n\u001b[0;32m      3\u001b[0m         \u001b[38;5;28mself\u001b[39m\u001b[38;5;241m.\u001b[39mtransformations \u001b[38;5;241m=\u001b[39m []\n",
      "Cell \u001b[1;32mIn[1], line 11\u001b[0m, in \u001b[0;36mTransformationModule\u001b[1;34m()\u001b[0m\n\u001b[0;32m      6\u001b[0m \u001b[38;5;250m    \u001b[39m\u001b[38;5;124;03m\"\"\"\u001b[39;00m\n\u001b[0;32m      7\u001b[0m \u001b[38;5;124;03m    Add a transformation function to the list of transformations.\u001b[39;00m\n\u001b[0;32m      8\u001b[0m \u001b[38;5;124;03m    \"\"\"\u001b[39;00m\n\u001b[0;32m      9\u001b[0m     \u001b[38;5;28mself\u001b[39m\u001b[38;5;241m.\u001b[39mtransformations\u001b[38;5;241m.\u001b[39mappend((func, args, kwargs))\n\u001b[1;32m---> 11\u001b[0m \u001b[38;5;28;01mdef\u001b[39;00m \u001b[38;5;21mapply_transformations\u001b[39m(\u001b[38;5;28mself\u001b[39m, _df: DataFrame):\n\u001b[0;32m     12\u001b[0m \u001b[38;5;250m    \u001b[39m\u001b[38;5;124;03m\"\"\"\u001b[39;00m\n\u001b[0;32m     13\u001b[0m \u001b[38;5;124;03m    Apply all stored transformations to the DataFrame in order.\u001b[39;00m\n\u001b[0;32m     14\u001b[0m \u001b[38;5;124;03m    \"\"\"\u001b[39;00m\n\u001b[0;32m     15\u001b[0m     \u001b[38;5;28;01mfor\u001b[39;00m func, args, kwargs \u001b[38;5;129;01min\u001b[39;00m \u001b[38;5;28mself\u001b[39m\u001b[38;5;241m.\u001b[39mtransformations:\n",
      "\u001b[1;31mNameError\u001b[0m: name 'DataFrame' is not defined"
     ]
    }
   ],
   "source": [
    "class TransformationModule:\n",
    "    def __init__(self):\n",
    "        self.transformations = []\n",
    "\n",
    "    def add_transformation(self, func, *args, **kwargs):\n",
    "        \"\"\"\n",
    "        Add a transformation function to the list of transformations.\n",
    "        \"\"\"\n",
    "        self.transformations.append((func, args, kwargs))\n",
    "\n",
    "    def apply_transformations(self, _df: DataFrame):\n",
    "        \"\"\"\n",
    "        Apply all stored transformations to the DataFrame in order.\n",
    "        \"\"\"\n",
    "        for func, args, kwargs in self.transformations:\n",
    "            print('\\nApplying transformation: {}'.format(func.__name__))\n",
    "            print('Before transformation: {}'.format(_df.shape))\n",
    "            _df = func(_df, *args, **kwargs)\n",
    "            print('After transformation: {}'.format(_df.shape))\n",
    "        return _df\n",
    "\n",
    "    def __getstate__(self):\n",
    "        \"\"\"\n",
    "        Called when pickling the object. Ensures all attributes are picklable.\n",
    "        \"\"\"\n",
    "        return self.__dict__\n",
    "\n",
    "    def __setstate__(self, state):\n",
    "        \"\"\"\n",
    "        Called when unpickling the object. Restores the object's state.\n",
    "        \"\"\"\n",
    "        self.__dict__.update(state)\n"
   ]
  },
  {
   "cell_type": "markdown",
   "id": "3a69f5e6-feb0-4042-8009-c307d361bcf5",
   "metadata": {
    "id": "3a69f5e6-feb0-4042-8009-c307d361bcf5"
   },
   "source": [
    "# Data Cleaning\n",
    "\n",
    "- 🧹 Perform data expectation exercise (because no details about variables were provided)\n",
    "- 🧹 Remove all duplicate rows and columns (generally one of the first step in data cleaning)\n",
    "- 🧹 Based on expectation, set variables to their expected data types\n",
    "- 🧹 Treat empty, missing, or null data values\n",
    "- 🧹 Format text to take a standard form\n",
    "- 🧹 Treat typos or misrepresented entries\n",
    "- 🧹 Prepare categories for categorical data"
   ]
  },
  {
   "cell_type": "markdown",
   "id": "e8f6e337-35ee-4ef7-b842-6a2924cc9a98",
   "metadata": {
    "id": "e8f6e337-35ee-4ef7-b842-6a2924cc9a98"
   },
   "source": [
    "## Section helper methods"
   ]
  },
  {
   "cell_type": "markdown",
   "id": "025dc68a-b84b-43fc-a8dc-662187ebdea2",
   "metadata": {
    "id": "025dc68a-b84b-43fc-a8dc-662187ebdea2"
   },
   "source": [
    "### Investigation methods"
   ]
  },
  {
   "cell_type": "markdown",
   "id": "43a29ded-596b-453c-98dc-ba2db079a515",
   "metadata": {},
   "source": [
    "**`gather_data_expectaction`** - Designed to collect information about the expected characteristics of columns in a loan dataset. It allows time to research, gather knowlegde"
   ]
  },
  {
   "cell_type": "code",
   "execution_count": 6,
   "id": "b1d3b26c-af00-43a7-8a8a-9fdcd5bc1957",
   "metadata": {
    "id": "b1d3b26c-af00-43a7-8a8a-9fdcd5bc1957"
   },
   "outputs": [],
   "source": [
    "def gather_data_expectaction(_column_list: list) -> DataFrame:\n",
    "    data_type_mapping: dict = {'1': 'numerical', '2': 'text', '3': 'date', '4': 'boolean'}\n",
    "    categorical_mapping: dict = {'0': False, '1': True}\n",
    "    data_expectation: dict = dict()\n",
    "    for column in _column_list:\n",
    "        description_input = input('\\n\\nBrief description of a \"{}\" column in a loan dataset -> '.format(column))\n",
    "        print('---')\n",
    "        data_type_expectation = input('Data type I would expect for a \"{}\" column:\\n1 for numerical\\n2 for text\\n3 for date\\n4 for boolean\\n -> '.format(column))\n",
    "        print('---')\n",
    "        is_categorical = input('Could column \"{}\" be categorical?:\\n0 for no\\n1 for yes -> '.format(column))\n",
    "        print('---')\n",
    "\n",
    "        # Default settings\n",
    "        if not data_type_expectation:\n",
    "            data_type_expectation = '2'\n",
    "\n",
    "        if not is_categorical:\n",
    "            is_categorical = '0'\n",
    "\n",
    "        data_expectation[column] = {\n",
    "            'description': description_input,\n",
    "            'expected type': data_type_mapping.get(data_type_expectation),\n",
    "            'expected categorical': categorical_mapping.get(is_categorical)\n",
    "        }\n",
    "\n",
    "    data_expectation = DataFrame(data_expectation)\n",
    "    data_expectation = data_expectation.transpose()\n",
    "    data_expectation = data_expectation.reset_index()\n",
    "    data_expectation = data_expectation.rename(columns={'index': 'column'})\n",
    "\n",
    "    return data_expectation"
   ]
  },
  {
   "cell_type": "markdown",
   "id": "835f3834-311e-4bb6-a53d-b1cee9e2112a",
   "metadata": {},
   "source": [
    "**`find_duplicate_columns_list`** - Designed to find duplicate columns"
   ]
  },
  {
   "cell_type": "code",
   "execution_count": 7,
   "id": "b535a6fb-2d8d-481c-8d9f-8755dfede204",
   "metadata": {
    "id": "b535a6fb-2d8d-481c-8d9f-8755dfede204"
   },
   "outputs": [],
   "source": [
    "def find_duplicate_columns_list(_df: DataFrame, identity_perc_threshold: float) -> list[tuple]:\n",
    "    number_of_rows = _df.shape[0]\n",
    "    _columns_list = _df.columns.to_list()\n",
    "\n",
    "    duplicate_set_list: list = list()\n",
    "\n",
    "    # Iterate through all columns\n",
    "    for _anchor_column in _columns_list:\n",
    "\n",
    "        # Create a check column list which excludes the anchor column\n",
    "        check_columns = [column for column in _columns_list if column != _anchor_column]\n",
    "\n",
    "        # Iterate through all check columns\n",
    "        for check_column in check_columns:\n",
    "\n",
    "            # Test whether anchor and check column are identical\n",
    "            df_check = _df[_anchor_column] == _df[check_column]\n",
    "            identical_rows = df_check.sum()\n",
    "\n",
    "            # When the proportion of number of identical rows is at least the threshold\n",
    "            if (identical_rows / number_of_rows) * 100 >= identity_perc_threshold:\n",
    "                duplicate_set_list.append((_anchor_column, check_column))\n",
    "\n",
    "    return duplicate_set_list"
   ]
  },
  {
   "cell_type": "markdown",
   "id": "25d15428-3f7e-45f0-8a95-3b7d57af7f27",
   "metadata": {},
   "source": [
    "**`find_null_columns`** - Designed to return list of null values for text and numerical variables in a dataframe "
   ]
  },
  {
   "cell_type": "code",
   "execution_count": 8,
   "id": "4d2cef55-be1b-4c16-8194-a5ecc5d651f9",
   "metadata": {
    "id": "4d2cef55-be1b-4c16-8194-a5ecc5d651f9"
   },
   "outputs": [],
   "source": [
    "def find_null_columns(_df: DataFrame) -> tuple:\n",
    "    \"\"\"\n",
    "    Identifies numeric and text columns with null values in the DataFrame.\n",
    "    \"\"\"\n",
    "    _numeric_columns_with_null: list = list()\n",
    "    _text_columns_with_null: list = list()\n",
    "    \n",
    "    for _column in _df.columns:\n",
    "        _df_column = _df[_column]\n",
    "        \n",
    "        # Check if the column is numeric\n",
    "        is_numeric = is_numeric_dtype(_df_column)\n",
    "        # Check if the column is text\n",
    "        is_text = is_string_dtype(_df_column)\n",
    "        \n",
    "        # When column has null values\n",
    "        if _df_column.isnull().any():\n",
    "            # When column is numeric\n",
    "            if is_numeric:\n",
    "                _numeric_columns_with_null.append(_column)\n",
    "            # When column is text\n",
    "            if is_text or (str(_df_column.dtype) == 'object'):\n",
    "                _text_columns_with_null.append(_column)\n",
    "    \n",
    "    return _numeric_columns_with_null, _text_columns_with_null"
   ]
  },
  {
   "cell_type": "code",
   "execution_count": 9,
   "id": "b4e34f8d-b3e3-4386-9914-306bf88937a8",
   "metadata": {
    "id": "b4e34f8d-b3e3-4386-9914-306bf88937a8"
   },
   "outputs": [],
   "source": [
    "def get_numerical_columns(_df: DataFrame) -> list():\n",
    "    _df_columns = _df.columns.to_list()\n",
    "\n",
    "    _numerical_cols:list = list()\n",
    "    # Iterate through all columns\n",
    "    for column in _df_columns:\n",
    "\n",
    "        # When data type is numerical\n",
    "        if is_numeric_dtype(_df[column]):\n",
    "            _numerical_cols.append(column)\n",
    "\n",
    "    return _numerical_cols"
   ]
  },
  {
   "cell_type": "code",
   "execution_count": 10,
   "id": "efaad675-e397-4011-9866-ce9c85a0c8cb",
   "metadata": {
    "id": "efaad675-e397-4011-9866-ce9c85a0c8cb"
   },
   "outputs": [],
   "source": [
    "def get_text_columns(_df: DataFrame, category_perc_threshold: float) -> list:\n",
    "    _df_rows = _df.shape[0]\n",
    "    max_unique_values = (category_perc_threshold / 100) * _df_rows\n",
    "    text_cols:list = list()\n",
    "\n",
    "    # Iterate through all columns\n",
    "    for col in _df.columns:\n",
    "\n",
    "        # When type is object\n",
    "        column_dtype = _df[col].dtype\n",
    "        if column_dtype == 'object':\n",
    "            unique_values = _df[col].nunique()\n",
    "\n",
    "            # When unique values are at least the threshold\n",
    "            if unique_values > max_unique_values:\n",
    "                text_cols.append(col)\n",
    "\n",
    "    return text_cols"
   ]
  },
  {
   "cell_type": "code",
   "execution_count": 11,
   "id": "d1e7ec14-320a-4b89-808d-6ee9cc2252c6",
   "metadata": {
    "id": "d1e7ec14-320a-4b89-808d-6ee9cc2252c6"
   },
   "outputs": [],
   "source": [
    "def get_categorical_columns(_df: DataFrame, category_perc_threshold: float) -> list:\n",
    "    _df_rows = _df.shape[0]\n",
    "    max_unique_values = (category_perc_threshold / 100) * _df_rows\n",
    "    categorical_cols:list = list()\n",
    "\n",
    "    # Iterate through all columns\n",
    "    for col in _df.columns:\n",
    "\n",
    "        # When type is object\n",
    "        column_dtype = _df[col].dtype\n",
    "        if column_dtype == 'object':\n",
    "            unique_values = _df[col].nunique()\n",
    "\n",
    "            # When unique values are at most the threshold\n",
    "            if unique_values <= max_unique_values:\n",
    "                categorical_cols.append(col)\n",
    "\n",
    "        # When type is categorical\n",
    "        if isinstance(column_dtype, CategoricalDtype):\n",
    "            categorical_cols.append(col)\n",
    "\n",
    "    return categorical_cols"
   ]
  },
  {
   "cell_type": "code",
   "execution_count": 12,
   "id": "2061e210-4ccf-4a0d-8364-f329a124058f",
   "metadata": {
    "id": "2061e210-4ccf-4a0d-8364-f329a124058f"
   },
   "outputs": [],
   "source": [
    "def find_similar_values(_df: DataFrame, _column: str, threshold: int = 80) -> dict:\n",
    "    unique_values = _df[_column].unique()\n",
    "    similar_values_list: list = list()\n",
    "\n",
    "    for value in unique_values:\n",
    "        # Extract similar values to the current value\n",
    "        matches = process.extract(value, unique_values, limit=None)\n",
    "        similar_values = [match[0] for match in matches if match[1] >= threshold and match[0] != value]\n",
    "\n",
    "        if similar_values:\n",
    "            similar_values.append(value)\n",
    "            similar_values_list.append({value: similar_values})\n",
    "\n",
    "    return {_column: similar_values_list}"
   ]
  },
  {
   "cell_type": "markdown",
   "id": "fa26943b-032a-4d40-8c0c-b8a706046e3f",
   "metadata": {
    "id": "fa26943b-032a-4d40-8c0c-b8a706046e3f"
   },
   "source": [
    "### Raw data cleaning methods"
   ]
  },
  {
   "cell_type": "code",
   "execution_count": 13,
   "id": "41966c0c-212c-45a2-9b51-f7e3bb0ded28",
   "metadata": {},
   "outputs": [],
   "source": [
    "def replace_empty_or_blank_values(_df: DataFrame):\n",
    "    \"\"\"\n",
    "    Replaces empty spaces with NaN values in the DataFrame\n",
    "    \"\"\"\n",
    "    _columns_list = _df.columns.to_list()\n",
    "    for _column in _columns_list:\n",
    "        _df[_column] = _df[_column].replace(r'^\\s*$', nan_value, regex=True)\n",
    "        \n",
    "    return _df"
   ]
  },
  {
   "cell_type": "code",
   "execution_count": 14,
   "id": "bc70916a-797a-4fc5-b904-62a8eb5424f0",
   "metadata": {},
   "outputs": [],
   "source": [
    "# Function created to use as input in Transformation module\n",
    "def drop_dataframe_columns(_df: DataFrame, drop_column_list: list) -> DataFrame:\n",
    "    _df = _df.drop(columns=drop_column_list)\n",
    "    return _df"
   ]
  },
  {
   "cell_type": "code",
   "execution_count": 15,
   "id": "00b895d5-4bcc-4963-b406-6ab29e6c7deb",
   "metadata": {
    "id": "00b895d5-4bcc-4963-b406-6ab29e6c7deb"
   },
   "outputs": [],
   "source": [
    "def convert_from_text_to_date(_df: DataFrame, _columns_list: list) -> DataFrame:\n",
    "    for _column in _columns_list:\n",
    "        _df[_column] = to_datetime(_df[_column])\n",
    "        \n",
    "    return _df"
   ]
  },
  {
   "cell_type": "code",
   "execution_count": 16,
   "id": "1454fe15-538f-4065-89a9-59ad9d6a4bfb",
   "metadata": {
    "id": "1454fe15-538f-4065-89a9-59ad9d6a4bfb"
   },
   "outputs": [],
   "source": [
    "def convert_from_text_to_numeric(_df: DataFrame, _columns_list: list) -> DataFrame:\n",
    "    for _column in _columns_list:\n",
    "        _df[_column] = to_numeric(_df[_column], errors='coerce')\n",
    "        \n",
    "    return _df"
   ]
  },
  {
   "cell_type": "code",
   "execution_count": 17,
   "id": "c0820a57-dfeb-4179-87a1-324f88402efd",
   "metadata": {},
   "outputs": [],
   "source": [
    "def convert_to_text(_df: DataFrame, _columns_list: list) -> DataFrame:\n",
    "    for _column in _columns_list:\n",
    "        _df[_column] = _df[_column].astype(str)\n",
    "        \n",
    "    return _df"
   ]
  },
  {
   "cell_type": "code",
   "execution_count": 18,
   "id": "047e92d0-b971-4eae-9f5f-4ed3c31e92b0",
   "metadata": {
    "id": "047e92d0-b971-4eae-9f5f-4ed3c31e92b0"
   },
   "outputs": [],
   "source": [
    "def treat_missing_by_mode_imputation(_df: DataFrame, _columns_list: list):\n",
    "    for column in _columns_list:\n",
    "        replace_value = _df[column].mode()\n",
    "        _df[column] = _df[column].fillna(replace_value[0])\n",
    "\n",
    "    return _df"
   ]
  },
  {
   "cell_type": "code",
   "execution_count": 19,
   "id": "8989227d-e0a9-4bac-9e87-c3a849e7c8f6",
   "metadata": {
    "id": "8989227d-e0a9-4bac-9e87-c3a849e7c8f6"
   },
   "outputs": [],
   "source": [
    "def treat_missing_by_mean_imputation(_df: DataFrame, _columns_list: list):\n",
    "    for column in _columns_list:\n",
    "        replace_value = _df[column].mean()\n",
    "        _df[column] = _df[column].fillna(replace_value)\n",
    "\n",
    "    return _df"
   ]
  },
  {
   "cell_type": "code",
   "execution_count": 20,
   "id": "912e41e0-911a-4ffd-bdb7-e509cc09e159",
   "metadata": {
    "id": "912e41e0-911a-4ffd-bdb7-e509cc09e159"
   },
   "outputs": [],
   "source": [
    "def clean_text_columns(_df: DataFrame, column_names: list) -> DataFrame:\n",
    "    for col in column_names:\n",
    "        _df[col] = _df[col].str.strip().str.lower()\n",
    "    return _df"
   ]
  },
  {
   "cell_type": "code",
   "execution_count": 21,
   "id": "6a4ad06e-403d-4486-a324-30351219d224",
   "metadata": {
    "id": "6a4ad06e-403d-4486-a324-30351219d224"
   },
   "outputs": [],
   "source": [
    "def make_value_corrections(_df: DataFrame, instructions: list[dict]) -> DataFrame:\n",
    "    for instruction in instructions:\n",
    "        column = instruction.get('column')\n",
    "        value = instruction.get('value')\n",
    "        to_correct = instruction.get('to correct')\n",
    "\n",
    "        _df[column] = _df[column].replace(to_correct, value)\n",
    "\n",
    "    return _df"
   ]
  },
  {
   "cell_type": "markdown",
   "id": "90eddacd-db4c-4419-bdd3-bdb48f1a8e31",
   "metadata": {
    "id": "90eddacd-db4c-4419-bdd3-bdb48f1a8e31"
   },
   "source": [
    "## Data inspection"
   ]
  },
  {
   "cell_type": "markdown",
   "id": "69846d12-a06b-4933-b623-4612d74cb1d6",
   "metadata": {
    "id": "69846d12-a06b-4933-b623-4612d74cb1d6"
   },
   "source": [
    "### Read data"
   ]
  },
  {
   "cell_type": "code",
   "execution_count": 22,
   "id": "34df4be7-4476-4dd5-b063-f3e9eef115f3",
   "metadata": {
    "colab": {
     "base_uri": "https://localhost:8080/",
     "height": 516
    },
    "id": "34df4be7-4476-4dd5-b063-f3e9eef115f3",
    "outputId": "dda2fd5c-2907-43cf-8347-926d1992aef1"
   },
   "outputs": [
    {
     "ename": "FileNotFoundError",
     "evalue": "[Errno 2] No such file or directory: '../data/data_science_competition_2024.csv'",
     "output_type": "error",
     "traceback": [
      "\u001B[0;31m---------------------------------------------------------------------------\u001B[0m",
      "\u001B[0;31mFileNotFoundError\u001B[0m                         Traceback (most recent call last)",
      "Cell \u001B[0;32mIn[22], line 1\u001B[0m\n\u001B[0;32m----> 1\u001B[0m raw_data \u001B[38;5;241m=\u001B[39m \u001B[43mread_csv\u001B[49m\u001B[43m(\u001B[49m\u001B[38;5;124;43m'\u001B[39;49m\u001B[38;5;132;43;01m{}\u001B[39;49;00m\u001B[38;5;124;43m/data_science_competition_2024.csv\u001B[39;49m\u001B[38;5;124;43m'\u001B[39;49m\u001B[38;5;241;43m.\u001B[39;49m\u001B[43mformat\u001B[49m\u001B[43m(\u001B[49m\u001B[43mDATA_DIR\u001B[49m\u001B[43m)\u001B[49m\u001B[43m)\u001B[49m\n\u001B[1;32m      2\u001B[0m raw_data\u001B[38;5;241m.\u001B[39mhead()\n",
      "File \u001B[0;32m~/opt/anaconda3/envs/claxon-hackathon/lib/python3.9/site-packages/pandas/io/parsers/readers.py:1026\u001B[0m, in \u001B[0;36mread_csv\u001B[0;34m(filepath_or_buffer, sep, delimiter, header, names, index_col, usecols, dtype, engine, converters, true_values, false_values, skipinitialspace, skiprows, skipfooter, nrows, na_values, keep_default_na, na_filter, verbose, skip_blank_lines, parse_dates, infer_datetime_format, keep_date_col, date_parser, date_format, dayfirst, cache_dates, iterator, chunksize, compression, thousands, decimal, lineterminator, quotechar, quoting, doublequote, escapechar, comment, encoding, encoding_errors, dialect, on_bad_lines, delim_whitespace, low_memory, memory_map, float_precision, storage_options, dtype_backend)\u001B[0m\n\u001B[1;32m   1013\u001B[0m kwds_defaults \u001B[38;5;241m=\u001B[39m _refine_defaults_read(\n\u001B[1;32m   1014\u001B[0m     dialect,\n\u001B[1;32m   1015\u001B[0m     delimiter,\n\u001B[0;32m   (...)\u001B[0m\n\u001B[1;32m   1022\u001B[0m     dtype_backend\u001B[38;5;241m=\u001B[39mdtype_backend,\n\u001B[1;32m   1023\u001B[0m )\n\u001B[1;32m   1024\u001B[0m kwds\u001B[38;5;241m.\u001B[39mupdate(kwds_defaults)\n\u001B[0;32m-> 1026\u001B[0m \u001B[38;5;28;01mreturn\u001B[39;00m \u001B[43m_read\u001B[49m\u001B[43m(\u001B[49m\u001B[43mfilepath_or_buffer\u001B[49m\u001B[43m,\u001B[49m\u001B[43m \u001B[49m\u001B[43mkwds\u001B[49m\u001B[43m)\u001B[49m\n",
      "File \u001B[0;32m~/opt/anaconda3/envs/claxon-hackathon/lib/python3.9/site-packages/pandas/io/parsers/readers.py:620\u001B[0m, in \u001B[0;36m_read\u001B[0;34m(filepath_or_buffer, kwds)\u001B[0m\n\u001B[1;32m    617\u001B[0m _validate_names(kwds\u001B[38;5;241m.\u001B[39mget(\u001B[38;5;124m\"\u001B[39m\u001B[38;5;124mnames\u001B[39m\u001B[38;5;124m\"\u001B[39m, \u001B[38;5;28;01mNone\u001B[39;00m))\n\u001B[1;32m    619\u001B[0m \u001B[38;5;66;03m# Create the parser.\u001B[39;00m\n\u001B[0;32m--> 620\u001B[0m parser \u001B[38;5;241m=\u001B[39m \u001B[43mTextFileReader\u001B[49m\u001B[43m(\u001B[49m\u001B[43mfilepath_or_buffer\u001B[49m\u001B[43m,\u001B[49m\u001B[43m \u001B[49m\u001B[38;5;241;43m*\u001B[39;49m\u001B[38;5;241;43m*\u001B[39;49m\u001B[43mkwds\u001B[49m\u001B[43m)\u001B[49m\n\u001B[1;32m    622\u001B[0m \u001B[38;5;28;01mif\u001B[39;00m chunksize \u001B[38;5;129;01mor\u001B[39;00m iterator:\n\u001B[1;32m    623\u001B[0m     \u001B[38;5;28;01mreturn\u001B[39;00m parser\n",
      "File \u001B[0;32m~/opt/anaconda3/envs/claxon-hackathon/lib/python3.9/site-packages/pandas/io/parsers/readers.py:1620\u001B[0m, in \u001B[0;36mTextFileReader.__init__\u001B[0;34m(self, f, engine, **kwds)\u001B[0m\n\u001B[1;32m   1617\u001B[0m     \u001B[38;5;28mself\u001B[39m\u001B[38;5;241m.\u001B[39moptions[\u001B[38;5;124m\"\u001B[39m\u001B[38;5;124mhas_index_names\u001B[39m\u001B[38;5;124m\"\u001B[39m] \u001B[38;5;241m=\u001B[39m kwds[\u001B[38;5;124m\"\u001B[39m\u001B[38;5;124mhas_index_names\u001B[39m\u001B[38;5;124m\"\u001B[39m]\n\u001B[1;32m   1619\u001B[0m \u001B[38;5;28mself\u001B[39m\u001B[38;5;241m.\u001B[39mhandles: IOHandles \u001B[38;5;241m|\u001B[39m \u001B[38;5;28;01mNone\u001B[39;00m \u001B[38;5;241m=\u001B[39m \u001B[38;5;28;01mNone\u001B[39;00m\n\u001B[0;32m-> 1620\u001B[0m \u001B[38;5;28mself\u001B[39m\u001B[38;5;241m.\u001B[39m_engine \u001B[38;5;241m=\u001B[39m \u001B[38;5;28;43mself\u001B[39;49m\u001B[38;5;241;43m.\u001B[39;49m\u001B[43m_make_engine\u001B[49m\u001B[43m(\u001B[49m\u001B[43mf\u001B[49m\u001B[43m,\u001B[49m\u001B[43m \u001B[49m\u001B[38;5;28;43mself\u001B[39;49m\u001B[38;5;241;43m.\u001B[39;49m\u001B[43mengine\u001B[49m\u001B[43m)\u001B[49m\n",
      "File \u001B[0;32m~/opt/anaconda3/envs/claxon-hackathon/lib/python3.9/site-packages/pandas/io/parsers/readers.py:1880\u001B[0m, in \u001B[0;36mTextFileReader._make_engine\u001B[0;34m(self, f, engine)\u001B[0m\n\u001B[1;32m   1878\u001B[0m     \u001B[38;5;28;01mif\u001B[39;00m \u001B[38;5;124m\"\u001B[39m\u001B[38;5;124mb\u001B[39m\u001B[38;5;124m\"\u001B[39m \u001B[38;5;129;01mnot\u001B[39;00m \u001B[38;5;129;01min\u001B[39;00m mode:\n\u001B[1;32m   1879\u001B[0m         mode \u001B[38;5;241m+\u001B[39m\u001B[38;5;241m=\u001B[39m \u001B[38;5;124m\"\u001B[39m\u001B[38;5;124mb\u001B[39m\u001B[38;5;124m\"\u001B[39m\n\u001B[0;32m-> 1880\u001B[0m \u001B[38;5;28mself\u001B[39m\u001B[38;5;241m.\u001B[39mhandles \u001B[38;5;241m=\u001B[39m \u001B[43mget_handle\u001B[49m\u001B[43m(\u001B[49m\n\u001B[1;32m   1881\u001B[0m \u001B[43m    \u001B[49m\u001B[43mf\u001B[49m\u001B[43m,\u001B[49m\n\u001B[1;32m   1882\u001B[0m \u001B[43m    \u001B[49m\u001B[43mmode\u001B[49m\u001B[43m,\u001B[49m\n\u001B[1;32m   1883\u001B[0m \u001B[43m    \u001B[49m\u001B[43mencoding\u001B[49m\u001B[38;5;241;43m=\u001B[39;49m\u001B[38;5;28;43mself\u001B[39;49m\u001B[38;5;241;43m.\u001B[39;49m\u001B[43moptions\u001B[49m\u001B[38;5;241;43m.\u001B[39;49m\u001B[43mget\u001B[49m\u001B[43m(\u001B[49m\u001B[38;5;124;43m\"\u001B[39;49m\u001B[38;5;124;43mencoding\u001B[39;49m\u001B[38;5;124;43m\"\u001B[39;49m\u001B[43m,\u001B[49m\u001B[43m \u001B[49m\u001B[38;5;28;43;01mNone\u001B[39;49;00m\u001B[43m)\u001B[49m\u001B[43m,\u001B[49m\n\u001B[1;32m   1884\u001B[0m \u001B[43m    \u001B[49m\u001B[43mcompression\u001B[49m\u001B[38;5;241;43m=\u001B[39;49m\u001B[38;5;28;43mself\u001B[39;49m\u001B[38;5;241;43m.\u001B[39;49m\u001B[43moptions\u001B[49m\u001B[38;5;241;43m.\u001B[39;49m\u001B[43mget\u001B[49m\u001B[43m(\u001B[49m\u001B[38;5;124;43m\"\u001B[39;49m\u001B[38;5;124;43mcompression\u001B[39;49m\u001B[38;5;124;43m\"\u001B[39;49m\u001B[43m,\u001B[49m\u001B[43m \u001B[49m\u001B[38;5;28;43;01mNone\u001B[39;49;00m\u001B[43m)\u001B[49m\u001B[43m,\u001B[49m\n\u001B[1;32m   1885\u001B[0m \u001B[43m    \u001B[49m\u001B[43mmemory_map\u001B[49m\u001B[38;5;241;43m=\u001B[39;49m\u001B[38;5;28;43mself\u001B[39;49m\u001B[38;5;241;43m.\u001B[39;49m\u001B[43moptions\u001B[49m\u001B[38;5;241;43m.\u001B[39;49m\u001B[43mget\u001B[49m\u001B[43m(\u001B[49m\u001B[38;5;124;43m\"\u001B[39;49m\u001B[38;5;124;43mmemory_map\u001B[39;49m\u001B[38;5;124;43m\"\u001B[39;49m\u001B[43m,\u001B[49m\u001B[43m \u001B[49m\u001B[38;5;28;43;01mFalse\u001B[39;49;00m\u001B[43m)\u001B[49m\u001B[43m,\u001B[49m\n\u001B[1;32m   1886\u001B[0m \u001B[43m    \u001B[49m\u001B[43mis_text\u001B[49m\u001B[38;5;241;43m=\u001B[39;49m\u001B[43mis_text\u001B[49m\u001B[43m,\u001B[49m\n\u001B[1;32m   1887\u001B[0m \u001B[43m    \u001B[49m\u001B[43merrors\u001B[49m\u001B[38;5;241;43m=\u001B[39;49m\u001B[38;5;28;43mself\u001B[39;49m\u001B[38;5;241;43m.\u001B[39;49m\u001B[43moptions\u001B[49m\u001B[38;5;241;43m.\u001B[39;49m\u001B[43mget\u001B[49m\u001B[43m(\u001B[49m\u001B[38;5;124;43m\"\u001B[39;49m\u001B[38;5;124;43mencoding_errors\u001B[39;49m\u001B[38;5;124;43m\"\u001B[39;49m\u001B[43m,\u001B[49m\u001B[43m \u001B[49m\u001B[38;5;124;43m\"\u001B[39;49m\u001B[38;5;124;43mstrict\u001B[39;49m\u001B[38;5;124;43m\"\u001B[39;49m\u001B[43m)\u001B[49m\u001B[43m,\u001B[49m\n\u001B[1;32m   1888\u001B[0m \u001B[43m    \u001B[49m\u001B[43mstorage_options\u001B[49m\u001B[38;5;241;43m=\u001B[39;49m\u001B[38;5;28;43mself\u001B[39;49m\u001B[38;5;241;43m.\u001B[39;49m\u001B[43moptions\u001B[49m\u001B[38;5;241;43m.\u001B[39;49m\u001B[43mget\u001B[49m\u001B[43m(\u001B[49m\u001B[38;5;124;43m\"\u001B[39;49m\u001B[38;5;124;43mstorage_options\u001B[39;49m\u001B[38;5;124;43m\"\u001B[39;49m\u001B[43m,\u001B[49m\u001B[43m \u001B[49m\u001B[38;5;28;43;01mNone\u001B[39;49;00m\u001B[43m)\u001B[49m\u001B[43m,\u001B[49m\n\u001B[1;32m   1889\u001B[0m \u001B[43m\u001B[49m\u001B[43m)\u001B[49m\n\u001B[1;32m   1890\u001B[0m \u001B[38;5;28;01massert\u001B[39;00m \u001B[38;5;28mself\u001B[39m\u001B[38;5;241m.\u001B[39mhandles \u001B[38;5;129;01mis\u001B[39;00m \u001B[38;5;129;01mnot\u001B[39;00m \u001B[38;5;28;01mNone\u001B[39;00m\n\u001B[1;32m   1891\u001B[0m f \u001B[38;5;241m=\u001B[39m \u001B[38;5;28mself\u001B[39m\u001B[38;5;241m.\u001B[39mhandles\u001B[38;5;241m.\u001B[39mhandle\n",
      "File \u001B[0;32m~/opt/anaconda3/envs/claxon-hackathon/lib/python3.9/site-packages/pandas/io/common.py:873\u001B[0m, in \u001B[0;36mget_handle\u001B[0;34m(path_or_buf, mode, encoding, compression, memory_map, is_text, errors, storage_options)\u001B[0m\n\u001B[1;32m    868\u001B[0m \u001B[38;5;28;01melif\u001B[39;00m \u001B[38;5;28misinstance\u001B[39m(handle, \u001B[38;5;28mstr\u001B[39m):\n\u001B[1;32m    869\u001B[0m     \u001B[38;5;66;03m# Check whether the filename is to be opened in binary mode.\u001B[39;00m\n\u001B[1;32m    870\u001B[0m     \u001B[38;5;66;03m# Binary mode does not support 'encoding' and 'newline'.\u001B[39;00m\n\u001B[1;32m    871\u001B[0m     \u001B[38;5;28;01mif\u001B[39;00m ioargs\u001B[38;5;241m.\u001B[39mencoding \u001B[38;5;129;01mand\u001B[39;00m \u001B[38;5;124m\"\u001B[39m\u001B[38;5;124mb\u001B[39m\u001B[38;5;124m\"\u001B[39m \u001B[38;5;129;01mnot\u001B[39;00m \u001B[38;5;129;01min\u001B[39;00m ioargs\u001B[38;5;241m.\u001B[39mmode:\n\u001B[1;32m    872\u001B[0m         \u001B[38;5;66;03m# Encoding\u001B[39;00m\n\u001B[0;32m--> 873\u001B[0m         handle \u001B[38;5;241m=\u001B[39m \u001B[38;5;28;43mopen\u001B[39;49m\u001B[43m(\u001B[49m\n\u001B[1;32m    874\u001B[0m \u001B[43m            \u001B[49m\u001B[43mhandle\u001B[49m\u001B[43m,\u001B[49m\n\u001B[1;32m    875\u001B[0m \u001B[43m            \u001B[49m\u001B[43mioargs\u001B[49m\u001B[38;5;241;43m.\u001B[39;49m\u001B[43mmode\u001B[49m\u001B[43m,\u001B[49m\n\u001B[1;32m    876\u001B[0m \u001B[43m            \u001B[49m\u001B[43mencoding\u001B[49m\u001B[38;5;241;43m=\u001B[39;49m\u001B[43mioargs\u001B[49m\u001B[38;5;241;43m.\u001B[39;49m\u001B[43mencoding\u001B[49m\u001B[43m,\u001B[49m\n\u001B[1;32m    877\u001B[0m \u001B[43m            \u001B[49m\u001B[43merrors\u001B[49m\u001B[38;5;241;43m=\u001B[39;49m\u001B[43merrors\u001B[49m\u001B[43m,\u001B[49m\n\u001B[1;32m    878\u001B[0m \u001B[43m            \u001B[49m\u001B[43mnewline\u001B[49m\u001B[38;5;241;43m=\u001B[39;49m\u001B[38;5;124;43m\"\u001B[39;49m\u001B[38;5;124;43m\"\u001B[39;49m\u001B[43m,\u001B[49m\n\u001B[1;32m    879\u001B[0m \u001B[43m        \u001B[49m\u001B[43m)\u001B[49m\n\u001B[1;32m    880\u001B[0m     \u001B[38;5;28;01melse\u001B[39;00m:\n\u001B[1;32m    881\u001B[0m         \u001B[38;5;66;03m# Binary mode\u001B[39;00m\n\u001B[1;32m    882\u001B[0m         handle \u001B[38;5;241m=\u001B[39m \u001B[38;5;28mopen\u001B[39m(handle, ioargs\u001B[38;5;241m.\u001B[39mmode)\n",
      "\u001B[0;31mFileNotFoundError\u001B[0m: [Errno 2] No such file or directory: '../data/data_science_competition_2024.csv'"
     ]
    }
   ],
   "source": [
    "raw_data = read_csv('{}/data_science_competition_2024.csv'.format(DATA_DIR))\n",
    "raw_data.head()"
   ]
  },
  {
   "cell_type": "code",
   "execution_count": null,
   "id": "88210ae1-af32-4747-9284-5098d57ef934",
   "metadata": {},
   "outputs": [],
   "source": [
    "raw_data.shape"
   ]
  },
  {
   "cell_type": "markdown",
   "id": "757a0f7a-8577-4d0b-978e-949deb7c0353",
   "metadata": {
    "id": "757a0f7a-8577-4d0b-978e-949deb7c0353"
   },
   "source": [
    "### Gather data expectations"
   ]
  },
  {
   "cell_type": "code",
   "execution_count": null,
   "id": "69d2dea7-d815-4819-8c37-a26a0c48204d",
   "metadata": {
    "colab": {
     "base_uri": "https://localhost:8080/"
    },
    "id": "69d2dea7-d815-4819-8c37-a26a0c48204d",
    "outputId": "dc18f7d6-f341-40c4-8801-299cbfab92af"
   },
   "outputs": [],
   "source": [
    "df_column_list = raw_data.columns.to_list()\n",
    "df_column_list"
   ]
  },
  {
   "cell_type": "code",
   "execution_count": null,
   "id": "75828abe-5782-47fe-9d6e-2d23155359c7",
   "metadata": {
    "id": "75828abe-5782-47fe-9d6e-2d23155359c7"
   },
   "outputs": [],
   "source": [
    "# expectations_df = gather_data_expectaction(df_column_list)"
   ]
  },
  {
   "cell_type": "code",
   "execution_count": null,
   "id": "048fb970-e1be-465a-ad96-ef67c797499f",
   "metadata": {
    "id": "048fb970-e1be-465a-ad96-ef67c797499f"
   },
   "outputs": [],
   "source": [
    "expectations_df = DataFrame(\n",
    "[{'column': 'Unnamed: 0',\n",
    "  'description': '',\n",
    "  'expected type': 'text',\n",
    "  'expected categorical': False},\n",
    " {'column': 'loan_id',\n",
    "  'description': '',\n",
    "  'expected type': 'text',\n",
    "  'expected categorical': False},\n",
    " {'column': 'gender',\n",
    "  'description': '',\n",
    "  'expected type': 'text',\n",
    "  'expected categorical': True},\n",
    " {'column': 'disbursemet_date',\n",
    "  'description': '',\n",
    "  'expected type': 'date',\n",
    "  'expected categorical': False},\n",
    " {'column': 'currency',\n",
    "  'description': '',\n",
    "  'expected type': 'text',\n",
    "  'expected categorical': True},\n",
    " {'column': 'country',\n",
    "  'description': '',\n",
    "  'expected type': 'text',\n",
    "  'expected categorical': True},\n",
    " {'column': 'sex',\n",
    "  'description': 'may be a duplicate of gender',\n",
    "  'expected type': 'text',\n",
    "  'expected categorical': True},\n",
    " {'column': 'is_employed',\n",
    "  'description': '',\n",
    "  'expected type': 'text',\n",
    "  'expected categorical': True},\n",
    " {'column': 'job',\n",
    "  'description': '',\n",
    "  'expected type': 'text',\n",
    "  'expected categorical': True},\n",
    " {'column': 'location',\n",
    "  'description': '',\n",
    "  'expected type': 'text',\n",
    "  'expected categorical': True},\n",
    " {'column': 'loan_amount',\n",
    "  'description': '',\n",
    "  'expected type': 'numerical',\n",
    "  'expected categorical': False},\n",
    " {'column': 'number_of_defaults',\n",
    "  'description': '',\n",
    "  'expected type': 'numerical',\n",
    "  'expected categorical': True},\n",
    " {'column': 'outstanding_balance',\n",
    "  'description': '',\n",
    "  'expected type': 'numerical',\n",
    "  'expected categorical': False},\n",
    " {'column': 'interest_rate',\n",
    "  'description': '',\n",
    "  'expected type': 'numerical',\n",
    "  'expected categorical': False},\n",
    " {'column': 'age',\n",
    "  'description': '',\n",
    "  'expected type': 'numerical',\n",
    "  'expected categorical': False},\n",
    " {'column': 'number_of_defaults.1',\n",
    "  'description': 'may be a duplicate of number of defaults',\n",
    "  'expected type': 'text',\n",
    "  'expected categorical': True},\n",
    " {'column': 'remaining term',\n",
    "  'description': '',\n",
    "  'expected type': 'numerical',\n",
    "  'expected categorical': False},\n",
    " {'column': 'salary',\n",
    "  'description': '',\n",
    "  'expected type': 'numerical',\n",
    "  'expected categorical': False},\n",
    " {'column': 'marital_status',\n",
    "  'description': '',\n",
    "  'expected type': 'text',\n",
    "  'expected categorical': True},\n",
    " {'column': 'age.1',\n",
    "  'description': 'could be a duplicate of age',\n",
    "  'expected type': 'text',\n",
    "  'expected categorical': True},\n",
    " {'column': 'Loan Status',\n",
    "  'description': '',\n",
    "  'expected type': 'text',\n",
    "  'expected categorical': True}])"
   ]
  },
  {
   "cell_type": "code",
   "execution_count": null,
   "id": "cEQQxrLtGnSK",
   "metadata": {
    "colab": {
     "base_uri": "https://localhost:8080/",
     "height": 708
    },
    "id": "cEQQxrLtGnSK",
    "outputId": "15136704-4657-407e-c7f3-bcfeb972918c"
   },
   "outputs": [],
   "source": [
    "expectations_df"
   ]
  },
  {
   "cell_type": "markdown",
   "id": "c2a1c046-cf3d-4887-8802-84b48bc8c48f",
   "metadata": {},
   "source": [
    "### Prepare inference data"
   ]
  },
  {
   "cell_type": "code",
   "execution_count": null,
   "id": "80af94a5-7a8f-4255-acc7-a8875fa27a73",
   "metadata": {},
   "outputs": [],
   "source": [
    "target_variable = 'Loan Status'\n",
    "raw_data_columns_list = df_column_list.copy()\n",
    "target_variable_column_index = df_column_list.index(target_variable)\n",
    "raw_data_columns_list.pop(target_variable_column_index)\n",
    "raw_data_columns_list"
   ]
  },
  {
   "cell_type": "code",
   "execution_count": null,
   "id": "8408da2b-a542-487d-a25c-072b45923ff6",
   "metadata": {},
   "outputs": [],
   "source": [
    "raw_X = raw_data[raw_data_columns_list]\n",
    "raw_y = raw_data[target_variable]\n",
    "\n",
    "# Perform stratified split\n",
    "_, X_inference, _, y_inference = train_test_split(raw_X, raw_y, test_size=0.0025, stratify=raw_y, random_state=42)"
   ]
  },
  {
   "cell_type": "code",
   "execution_count": null,
   "id": "edd7342c-49de-4d88-abb4-73cd41ffe5a0",
   "metadata": {},
   "outputs": [],
   "source": [
    "X_inference.shape"
   ]
  },
  {
   "cell_type": "code",
   "execution_count": null,
   "id": "d6761913-fdbf-4729-9e30-c2aefaf1afd7",
   "metadata": {},
   "outputs": [],
   "source": [
    "X_inference.to_csv('{}/inference_data.csv'.format(DATA_DIR), index=False)"
   ]
  },
  {
   "cell_type": "markdown",
   "id": "ef359537-7e21-4c93-b9ba-4e31f0ab997b",
   "metadata": {
    "id": "ef359537-7e21-4c93-b9ba-4e31f0ab997b"
   },
   "source": [
    "## Data cleaning process"
   ]
  },
  {
   "cell_type": "code",
   "execution_count": null,
   "id": "1b79656e-06b2-4b10-810b-726fc633333b",
   "metadata": {
    "id": "1b79656e-06b2-4b10-810b-726fc633333b"
   },
   "outputs": [],
   "source": [
    "clean_df = raw_data.copy()"
   ]
  },
  {
   "cell_type": "code",
   "execution_count": null,
   "id": "c3801e1a-083c-473e-9c5e-623bd29526d1",
   "metadata": {
    "colab": {
     "base_uri": "https://localhost:8080/"
    },
    "id": "c3801e1a-083c-473e-9c5e-623bd29526d1",
    "outputId": "8e9a1513-553d-4a72-d32a-3550322f34be"
   },
   "outputs": [],
   "source": [
    "clean_df.shape"
   ]
  },
  {
   "cell_type": "code",
   "execution_count": null,
   "id": "3226bb02-39b0-4bfe-977f-2db2b5445d38",
   "metadata": {},
   "outputs": [],
   "source": [
    "# Initialize the transformation module with the DataFrame\n",
    "trans_module = TransformationModule()"
   ]
  },
  {
   "cell_type": "markdown",
   "id": "0c961b48-1bad-4867-91e1-6801d889a5c9",
   "metadata": {
    "id": "0c961b48-1bad-4867-91e1-6801d889a5c9"
   },
   "source": [
    "### Duplicate rows"
   ]
  },
  {
   "cell_type": "code",
   "execution_count": null,
   "id": "5de8cba8-5c12-4dfa-8187-df5d0ddbd9e5",
   "metadata": {
    "colab": {
     "base_uri": "https://localhost:8080/"
    },
    "id": "5de8cba8-5c12-4dfa-8187-df5d0ddbd9e5",
    "outputId": "3d5ad9e9-8b4b-477d-af63-b9ec52fd0bb4"
   },
   "outputs": [],
   "source": [
    "clean_df = clean_df.drop_duplicates()\n",
    "clean_df.shape"
   ]
  },
  {
   "cell_type": "markdown",
   "id": "f136e8d6-daa7-4d10-aec0-0e0352c89e34",
   "metadata": {
    "id": "f136e8d6-daa7-4d10-aec0-0e0352c89e34"
   },
   "source": [
    "### Duplicate columns"
   ]
  },
  {
   "cell_type": "code",
   "execution_count": null,
   "id": "4dbc0ef3-18b4-4bfe-a79e-90fc10e5e4d8",
   "metadata": {
    "colab": {
     "base_uri": "https://localhost:8080/"
    },
    "id": "4dbc0ef3-18b4-4bfe-a79e-90fc10e5e4d8",
    "outputId": "601fa82a-5773-4a89-84e4-62c517804bdb"
   },
   "outputs": [],
   "source": [
    "duplicate_columns_list = find_duplicate_columns_list(clean_df, 99)\n",
    "duplicate_columns_list"
   ]
  },
  {
   "cell_type": "code",
   "execution_count": null,
   "id": "7b9fd1d1-90b6-4886-a6ca-f353b8213625",
   "metadata": {
    "colab": {
     "base_uri": "https://localhost:8080/"
    },
    "id": "7b9fd1d1-90b6-4886-a6ca-f353b8213625",
    "outputId": "2797551b-eb20-4cdb-ab0b-357bfbb4736b"
   },
   "outputs": [],
   "source": [
    "duplicates_drop_list: list = list()\n",
    "request_check_list: list = list()\n",
    "for duplicate_set in duplicate_columns_list:\n",
    "    set_part_1, set_part_2 = duplicate_set\n",
    "    if (set_part_1 not in request_check_list) and (set_part_2 not in request_check_list):\n",
    "        set_response = input('Keep \"{}\" and drop \"{}\"?: '.format(set_part_1, set_part_2))\n",
    "\n",
    "        if int(set_response) == 1:\n",
    "            duplicates_drop_list.append(set_part_2)\n",
    "            request_check_list.extend([set_part_1, set_part_2])"
   ]
  },
  {
   "cell_type": "code",
   "execution_count": null,
   "id": "7153b2e9-0827-42a5-a16c-09d60265e2b5",
   "metadata": {
    "colab": {
     "base_uri": "https://localhost:8080/"
    },
    "id": "7153b2e9-0827-42a5-a16c-09d60265e2b5",
    "outputId": "2da9a9da-794d-434d-99ff-74ebeb044a23"
   },
   "outputs": [],
   "source": [
    "duplicates_drop_list"
   ]
  },
  {
   "cell_type": "code",
   "execution_count": null,
   "id": "6080a9c3-1ab8-49ed-bc72-aebcd0b41f91",
   "metadata": {
    "colab": {
     "base_uri": "https://localhost:8080/"
    },
    "id": "6080a9c3-1ab8-49ed-bc72-aebcd0b41f91",
    "outputId": "b52c2832-3e0a-45fa-f36e-0cad72197feb"
   },
   "outputs": [],
   "source": [
    "# Perform transformation\n",
    "clean_df = drop_dataframe_columns(clean_df, duplicates_drop_list)\n",
    "# Store transformation step\n",
    "trans_module.add_transformation(drop_dataframe_columns, drop_column_list=duplicates_drop_list)\n",
    "clean_df.shape"
   ]
  },
  {
   "cell_type": "markdown",
   "id": "24d02247-8609-4e56-9fb7-61fe1ddc1dd2",
   "metadata": {
    "id": "24d02247-8609-4e56-9fb7-61fe1ddc1dd2"
   },
   "source": [
    "### Data type cleaning"
   ]
  },
  {
   "cell_type": "code",
   "execution_count": null,
   "id": "6e2407d6-c4fe-4552-a325-6902070caec3",
   "metadata": {
    "colab": {
     "base_uri": "https://localhost:8080/"
    },
    "id": "6e2407d6-c4fe-4552-a325-6902070caec3",
    "outputId": "ad928080-9205-4c4b-9458-afc9556d62d0"
   },
   "outputs": [],
   "source": [
    "clean_df.dtypes"
   ]
  },
  {
   "cell_type": "code",
   "execution_count": null,
   "id": "93036556-5fda-4c77-aeed-e709d888a0e5",
   "metadata": {
    "id": "93036556-5fda-4c77-aeed-e709d888a0e5"
   },
   "outputs": [],
   "source": [
    "date_in_text_columns = ['disbursemet_date']\n",
    "clean_df = convert_from_text_to_date(clean_df, date_in_text_columns)\n",
    "\n",
    "# Add transformation step\n",
    "trans_module.add_transformation(convert_from_text_to_date, _columns_list=date_in_text_columns)"
   ]
  },
  {
   "cell_type": "code",
   "execution_count": null,
   "id": "86bd4339-d61e-425b-a224-9dbea560c9e5",
   "metadata": {
    "id": "86bd4339-d61e-425b-a224-9dbea560c9e5"
   },
   "outputs": [],
   "source": [
    "numerical_in_text_columns = ['remaining term']\n",
    "clean_df = convert_from_text_to_numeric(clean_df, numerical_in_text_columns)\n",
    "\n",
    "# Add transformation step\n",
    "trans_module.add_transformation(convert_from_text_to_numeric, _columns_list=numerical_in_text_columns)"
   ]
  },
  {
   "cell_type": "code",
   "execution_count": null,
   "id": "5a9c0da6-a9e1-4f96-82cf-0da769cbcd46",
   "metadata": {
    "id": "5a9c0da6-a9e1-4f96-82cf-0da769cbcd46"
   },
   "outputs": [],
   "source": [
    "should_be_categorical_columns_list = ['is_employed', 'number_of_defaults']\n",
    "clean_df = convert_to_text(clean_df, should_be_categorical_columns_list)\n",
    "\n",
    "# Add transformation step\n",
    "trans_module.add_transformation(convert_to_text, _columns_list=should_be_categorical_columns_list)"
   ]
  },
  {
   "cell_type": "markdown",
   "id": "b4cd69f8-bd42-4ee5-be8e-9dba2b993abc",
   "metadata": {
    "id": "b4cd69f8-bd42-4ee5-be8e-9dba2b993abc"
   },
   "source": [
    "### Null and empty cell value treatment"
   ]
  },
  {
   "cell_type": "code",
   "execution_count": null,
   "id": "09b39c09-5c55-48ba-8861-16a51d2d5b80",
   "metadata": {},
   "outputs": [],
   "source": [
    "clean_df = replace_empty_or_blank_values(clean_df)\n",
    "\n",
    "# Add transformation step\n",
    "trans_module.add_transformation(replace_empty_or_blank_values)"
   ]
  },
  {
   "cell_type": "code",
   "execution_count": null,
   "id": "32276f86-8610-4c20-b837-8faf7107cf9e",
   "metadata": {
    "colab": {
     "base_uri": "https://localhost:8080/"
    },
    "id": "32276f86-8610-4c20-b837-8faf7107cf9e",
    "outputId": "50224d84-2349-431d-b209-96d79ca0b670"
   },
   "outputs": [],
   "source": [
    "numeric_columns_with_null, text_columns_with_null = find_null_columns(clean_df)\n",
    "print(numeric_columns_with_null)\n",
    "print(text_columns_with_null)"
   ]
  },
  {
   "cell_type": "code",
   "execution_count": null,
   "id": "7c9f3d06-94f1-47e6-973b-b37abed55b89",
   "metadata": {
    "id": "7c9f3d06-94f1-47e6-973b-b37abed55b89"
   },
   "outputs": [],
   "source": [
    "clean_df = treat_missing_by_mode_imputation(clean_df, text_columns_with_null)\n",
    "\n",
    "# Add transformation step\n",
    "trans_module.add_transformation(treat_missing_by_mode_imputation, _columns_list=text_columns_with_null)"
   ]
  },
  {
   "cell_type": "code",
   "execution_count": null,
   "id": "c7436b2b-d18a-4dd6-9350-785b5b075a11",
   "metadata": {
    "id": "c7436b2b-d18a-4dd6-9350-785b5b075a11"
   },
   "outputs": [],
   "source": [
    "clean_df = treat_missing_by_mean_imputation(clean_df, numeric_columns_with_null)\n",
    "\n",
    "# Add transformation step\n",
    "trans_module.add_transformation(treat_missing_by_mean_imputation, _columns_list=numeric_columns_with_null)"
   ]
  },
  {
   "cell_type": "code",
   "execution_count": null,
   "id": "86be80d2-ccb7-4374-a5a1-613cde8c084f",
   "metadata": {
    "colab": {
     "base_uri": "https://localhost:8080/"
    },
    "id": "86be80d2-ccb7-4374-a5a1-613cde8c084f",
    "outputId": "a2c07748-dce9-4dab-e87a-c04163beb106"
   },
   "outputs": [],
   "source": [
    "numeric_columns_with_null, text_columns_with_null = find_null_columns(clean_df)\n",
    "print(numeric_columns_with_null)\n",
    "print(text_columns_with_null)"
   ]
  },
  {
   "cell_type": "markdown",
   "id": "99a893f1-b971-4875-be94-aee426e95d11",
   "metadata": {
    "id": "99a893f1-b971-4875-be94-aee426e95d11"
   },
   "source": [
    "### Text column formatting"
   ]
  },
  {
   "cell_type": "code",
   "execution_count": null,
   "id": "8f4a7536-5d3d-4429-9a23-d1208c98ca20",
   "metadata": {
    "colab": {
     "base_uri": "https://localhost:8080/"
    },
    "id": "8f4a7536-5d3d-4429-9a23-d1208c98ca20",
    "outputId": "220100ea-60f6-4c4d-d1b8-9beeb85d11f7"
   },
   "outputs": [],
   "source": [
    "text_type_columns_list:list = list()\n",
    "for column in clean_df.columns.to_list():\n",
    "    if is_string_dtype(clean_df[column]):\n",
    "        text_type_columns_list.append(column)\n",
    "text_type_columns_list"
   ]
  },
  {
   "cell_type": "code",
   "execution_count": null,
   "id": "e85f6afd-6aeb-4843-a61e-13962970e620",
   "metadata": {
    "id": "e85f6afd-6aeb-4843-a61e-13962970e620"
   },
   "outputs": [],
   "source": [
    "clean_df = clean_text_columns(clean_df, text_type_columns_list)\n",
    "\n",
    "# Add transformation step\n",
    "text_type_columns_list.remove(target_variable)\n",
    "trans_module.add_transformation(clean_text_columns, column_names=text_type_columns_list)"
   ]
  },
  {
   "cell_type": "markdown",
   "id": "7fbe63ee-0f1b-453d-9520-36a89846fb99",
   "metadata": {
    "id": "7fbe63ee-0f1b-453d-9520-36a89846fb99"
   },
   "source": [
    "### Category value correction"
   ]
  },
  {
   "cell_type": "code",
   "execution_count": null,
   "id": "830da0a4-f8b6-4ffd-bc2e-4a7e218302d2",
   "metadata": {
    "colab": {
     "base_uri": "https://localhost:8080/"
    },
    "id": "830da0a4-f8b6-4ffd-bc2e-4a7e218302d2",
    "outputId": "827cbc25-d36c-4137-df46-f510baa35aef"
   },
   "outputs": [],
   "source": [
    "categorical_columns_list = get_categorical_columns(clean_df, 1)\n",
    "categorical_columns_list"
   ]
  },
  {
   "cell_type": "code",
   "execution_count": null,
   "id": "bea0ca90-329c-44ca-9048-42e0900a53ea",
   "metadata": {
    "colab": {
     "base_uri": "https://localhost:8080/"
    },
    "id": "bea0ca90-329c-44ca-9048-42e0900a53ea",
    "outputId": "458d6685-d6b6-46af-b788-ba904bdaad03"
   },
   "outputs": [],
   "source": [
    "value_correction_column_list: list = list()\n",
    "\n",
    "# Iterate through all categorical\n",
    "for column in categorical_columns_list:\n",
    "    correction_list = find_similar_values(clean_df, column)\n",
    "\n",
    "    # When similar values have been detected\n",
    "    if correction_list.get(column):\n",
    "        value_correction_column_list.append(correction_list)\n",
    "\n",
    "value_correction_column_list"
   ]
  },
  {
   "cell_type": "code",
   "execution_count": null,
   "id": "fb8d1af4-9753-4476-afd1-0fb110754d71",
   "metadata": {
    "colab": {
     "base_uri": "https://localhost:8080/"
    },
    "id": "fb8d1af4-9753-4476-afd1-0fb110754d71",
    "outputId": "11b4a4c9-22d1-4983-d1a1-86ab2ba85f9d"
   },
   "outputs": [],
   "source": [
    "# Iterate through list of correction columns\n",
    "corrections_list: list = list()\n",
    "for column_corrections in value_correction_column_list:\n",
    "    column_name = list(column_corrections.keys())[0]\n",
    "    print('\\nUnder column \"{}\":'.format(column_name))\n",
    "\n",
    "    # Iterate through similarity suggestions\n",
    "    for correction in column_corrections:\n",
    "        suggestions = column_corrections.get(correction)\n",
    "        skip_list: list = list()\n",
    "        # Iterate through each phrase\n",
    "        for suggestion in suggestions:\n",
    "            suggestion_key = list(suggestion.keys())[0]\n",
    "            suggestion_list = suggestion.get(suggestion_key)\n",
    "\n",
    "            # Check if value has been mapped\n",
    "            if suggestion_key not in skip_list:\n",
    "                correct_response = input(\"Allow '{}' to represent: {} -> \".format(suggestion_key, suggestion_list))\n",
    "\n",
    "                # When user has agreed to correct\n",
    "                if int(correct_response) == 1:\n",
    "                    corrections_list.append({'column': column_name, 'value': suggestion_key, 'to correct': suggestion_list})\n",
    "\n",
    "                    # Add the list as already mapped in skipped list\n",
    "                    skip_list.extend(suggestion_list)\n"
   ]
  },
  {
   "cell_type": "code",
   "execution_count": null,
   "id": "2a60abe3-ee1d-45be-aaa4-1caa5893076c",
   "metadata": {
    "colab": {
     "base_uri": "https://localhost:8080/"
    },
    "id": "2a60abe3-ee1d-45be-aaa4-1caa5893076c",
    "outputId": "ee0dccbc-4839-4638-b1d2-57918ed579b2"
   },
   "outputs": [],
   "source": [
    "corrections_list"
   ]
  },
  {
   "cell_type": "code",
   "execution_count": null,
   "id": "17efcda6-a19a-4a3e-8733-e18d7a37ef16",
   "metadata": {
    "id": "17efcda6-a19a-4a3e-8733-e18d7a37ef16"
   },
   "outputs": [],
   "source": [
    "clean_df = make_value_corrections(clean_df, corrections_list)\n",
    "\n",
    "# Add transformation step\n",
    "trans_module.add_transformation(make_value_corrections, instructions=corrections_list)"
   ]
  },
  {
   "cell_type": "code",
   "execution_count": null,
   "id": "8a6d7b79-1219-4fbf-84c1-117247aef88c",
   "metadata": {
    "colab": {
     "base_uri": "https://localhost:8080/"
    },
    "id": "8a6d7b79-1219-4fbf-84c1-117247aef88c",
    "outputId": "119b9fd0-af28-4af0-c56a-e50443f53dea"
   },
   "outputs": [],
   "source": [
    "value_correction_column_list: list = list()\n",
    "\n",
    "# Iterate through all categorical\n",
    "for column in categorical_columns_list:\n",
    "    correction_list = find_similar_values(clean_df, column)\n",
    "\n",
    "    # When similar values have been detected\n",
    "    if correction_list.get(column):\n",
    "        value_correction_column_list.append(correction_list)\n",
    "\n",
    "value_correction_column_list"
   ]
  },
  {
   "cell_type": "code",
   "execution_count": null,
   "id": "540e1da0-0816-4ed7-92fe-50a7cf750ca4",
   "metadata": {},
   "outputs": [],
   "source": [
    "clean_df.shape"
   ]
  },
  {
   "cell_type": "markdown",
   "id": "734a0df7-12c8-441f-b100-ba55d0ac1c9b",
   "metadata": {
    "id": "734a0df7-12c8-441f-b100-ba55d0ac1c9b"
   },
   "source": [
    "# Exploratory data analysis\n",
    "\n",
    "- 📊 Understanding and analyzing the distribution, range, and potential issues of the target variables\n",
    "- 📊 Analysis of distibution, central tendency, and spread of the numerical variables, including the identification of outliers, skewness, or kurtosis.\n",
    "- 📊 Identification and analysis of text-based variables\n",
    "- 📊 Analysis of the distribution and frequency of categories\n",
    "- 📊 Identification and analysis of date or time-based variables and extraction of relevant features and exploring the temporal patterns"
   ]
  },
  {
   "cell_type": "markdown",
   "id": "bf020314-2977-4ef2-a869-1de4a709a214",
   "metadata": {
    "id": "bf020314-2977-4ef2-a869-1de4a709a214"
   },
   "source": [
    "## Section helper methods"
   ]
  },
  {
   "cell_type": "code",
   "execution_count": null,
   "id": "d842c22a-92a3-4520-bd20-ccce877e8aa0",
   "metadata": {
    "id": "d842c22a-92a3-4520-bd20-ccce877e8aa0"
   },
   "outputs": [],
   "source": [
    "def display_numerical_features_visualization(_df: DataFrame, _column_list: list, viz_name: str,  num_of_cols_per_grid: int=3):\n",
    "\n",
    "    # Determine the number of rows needed based on the total number of columns\n",
    "    n_columns = len(_column_list)\n",
    "    grid_rows = (n_columns + (num_of_cols_per_grid - 1)) // num_of_cols_per_grid  # Round up the number of rows\n",
    "\n",
    "    # Create the figure and subplots\n",
    "    fig, axs = plt.subplots(grid_rows, num_of_cols_per_grid, figsize=(12, 4 * grid_rows))\n",
    "\n",
    "    # Flatten the axes array to make it easier to access individual subplots\n",
    "    axs = axs.flatten()\n",
    "\n",
    "    # Plot the histograms in the subplots\n",
    "    for i, column_name in enumerate(_df[_column_list].columns[:n_columns]):\n",
    "        sns.histplot(data=_df, x=column_name, color=\"skyblue\",hue=target_variable, ax=axs[i])\n",
    "        axs[i].set_title(column_name)\n",
    "\n",
    "    # Adjust the spacing between subplots\n",
    "    plt.subplots_adjust(wspace=0.4, hspace=0.6)\n",
    "    plt.savefig(viz_name)\n",
    "    plt.close()"
   ]
  },
  {
   "cell_type": "code",
   "execution_count": null,
   "id": "583806db-edcb-427b-80d6-d3f65a9204ba",
   "metadata": {
    "id": "583806db-edcb-427b-80d6-d3f65a9204ba"
   },
   "outputs": [],
   "source": [
    "def display_categorical_features_visualization(_df: DataFrame, _column_list: list, viz_name: str, num_of_cols_per_grid: int=3):\n",
    "\n",
    "    # Determine the number of rows needed based on the total number of columns\n",
    "    n_columns = len(_column_list)\n",
    "    grid_rows = (n_columns + (num_of_cols_per_grid - 1)) // num_of_cols_per_grid  # Round up the number of rows\n",
    "\n",
    "    # Create the figure and subplots\n",
    "    fig, axs = plt.subplots(grid_rows, num_of_cols_per_grid, figsize=(12, 4 * grid_rows))\n",
    "\n",
    "    # Flatten the axes array to make it easier to access individual subplots\n",
    "    axs = axs.flatten()\n",
    "\n",
    "    # Plot the countplots in the subplots\n",
    "    for i, column_name in enumerate(_df[_column_list].columns[:n_columns]):\n",
    "        sns.countplot(x=column_name, data=clean_df, hue=target_variable, ax=axs[i])\n",
    "        axs[i].set_xticklabels(axs[i].get_xticklabels(), rotation=60)\n",
    "        axs[i].set_title(column_name)\n",
    "\n",
    "    # Adjust the spacing between subplots\n",
    "    plt.subplots_adjust(wspace=0.4, hspace=0.6)\n",
    "    plt.savefig(viz_name)\n",
    "    plt.close()"
   ]
  },
  {
   "cell_type": "code",
   "execution_count": null,
   "id": "c303256c-3386-4b14-80d3-7b37d7b2a556",
   "metadata": {
    "id": "c303256c-3386-4b14-80d3-7b37d7b2a556"
   },
   "outputs": [],
   "source": [
    "def display_boxplot_visualization(_df: DataFrame, _column_list: list, viz_name: str, num_of_cols_per_grid: int=3):\n",
    "\n",
    "    # Determine the number of rows needed based on the total number of columns\n",
    "    n_columns = len(_column_list)\n",
    "    grid_rows = (n_columns + (num_of_cols_per_grid - 1)) // num_of_cols_per_grid  # Round up the number of rows\n",
    "\n",
    "    # Create the figure and subplots\n",
    "    fig, axs = plt.subplots(grid_rows, num_of_cols_per_grid, figsize=(12, 4 * grid_rows))\n",
    "\n",
    "    # Flatten the axes array to make it easier to access individual subplots\n",
    "    axs = axs.flatten()\n",
    "\n",
    "    # Plot the countplots in the subplots\n",
    "    for i, column_name in enumerate(_df[_column_list].columns[:n_columns]):\n",
    "        sns.boxplot(y=_df[column_name], ax=axs[i])\n",
    "        axs[i].set_title(column_name)\n",
    "\n",
    "    # Adjust the spacing between subplots\n",
    "    plt.subplots_adjust(wspace=0.4, hspace=0.6)\n",
    "    plt.savefig(viz_name)\n",
    "    plt.close()"
   ]
  },
  {
   "cell_type": "markdown",
   "id": "c63e0f50-fde1-4543-8913-a0bc74b66f50",
   "metadata": {
    "id": "c63e0f50-fde1-4543-8913-a0bc74b66f50"
   },
   "source": [
    "## Target"
   ]
  },
  {
   "cell_type": "code",
   "execution_count": null,
   "id": "998acec1-c8c0-450a-9d91-3b0818bec542",
   "metadata": {
    "colab": {
     "base_uri": "https://localhost:8080/"
    },
    "id": "998acec1-c8c0-450a-9d91-3b0818bec542",
    "outputId": "b61d7885-e64a-40ea-c134-315854a3c820"
   },
   "outputs": [],
   "source": [
    "# target_variable\n",
    "Y = clean_df[target_variable]\n",
    "Y.head()"
   ]
  },
  {
   "cell_type": "code",
   "execution_count": null,
   "id": "b0cf66ab-b8d9-400b-a643-79bd65975157",
   "metadata": {
    "colab": {
     "base_uri": "https://localhost:8080/",
     "height": 487
    },
    "id": "b0cf66ab-b8d9-400b-a643-79bd65975157",
    "outputId": "c0512660-83bc-4515-d8eb-cbffa43ed856"
   },
   "outputs": [],
   "source": [
    "# Independent variables\n",
    "X = clean_df.drop(columns=[target_variable])\n",
    "X.head()"
   ]
  },
  {
   "cell_type": "code",
   "execution_count": null,
   "id": "6a3a92ff-9774-4f33-b51d-96b835ffe106",
   "metadata": {
    "colab": {
     "base_uri": "https://localhost:8080/",
     "height": 506
    },
    "id": "6a3a92ff-9774-4f33-b51d-96b835ffe106",
    "outputId": "d8839717-ce8b-4d34-8355-7ccad150fcae"
   },
   "outputs": [],
   "source": [
    "# Explore Target distribution\n",
    "sns.catplot(x=target_variable, kind=\"count\", data=clean_df)\n",
    "_viz_name = 'eda/target_distribution.png'\n",
    "plt.savefig(_viz_name)\n",
    "\n",
    "# Display the image\n",
    "# Image(filename=_viz_name)"
   ]
  },
  {
   "cell_type": "markdown",
   "id": "bae84d24-8521-4ca4-8cbe-f72ff371abee",
   "metadata": {
    "id": "bae84d24-8521-4ca4-8cbe-f72ff371abee"
   },
   "source": [
    "### Numerical variables"
   ]
  },
  {
   "cell_type": "code",
   "execution_count": null,
   "id": "a0b9b5bc-9795-4097-8223-126fa2ba6bd2",
   "metadata": {
    "colab": {
     "base_uri": "https://localhost:8080/"
    },
    "id": "a0b9b5bc-9795-4097-8223-126fa2ba6bd2",
    "outputId": "f83446cd-7dd4-4193-d487-eedc747d79a2"
   },
   "outputs": [],
   "source": [
    "numerical_columns_list = get_numerical_columns(X)\n",
    "numerical_columns_list"
   ]
  },
  {
   "cell_type": "code",
   "execution_count": null,
   "id": "8c0238ee-2422-475d-be1c-d9dbcb849ea1",
   "metadata": {
    "colab": {
     "base_uri": "https://localhost:8080/",
     "height": 1000
    },
    "id": "8c0238ee-2422-475d-be1c-d9dbcb849ea1",
    "outputId": "0dc09c42-abc2-4fbc-a5b2-db43faebad98"
   },
   "outputs": [],
   "source": [
    "_viz_name = 'eda/numerical_distribution.png'\n",
    "display_numerical_features_visualization(clean_df, numerical_columns_list, _viz_name)\n",
    "# Display the image\n",
    "Image(filename=_viz_name)"
   ]
  },
  {
   "cell_type": "markdown",
   "id": "58e397ac-f5ec-41ec-a6c0-7a2d2852fa06",
   "metadata": {
    "id": "58e397ac-f5ec-41ec-a6c0-7a2d2852fa06"
   },
   "source": [
    "### Text variables"
   ]
  },
  {
   "cell_type": "code",
   "execution_count": null,
   "id": "c3c30375-7b0e-4a6b-b797-9bf9ad9a25fc",
   "metadata": {
    "colab": {
     "base_uri": "https://localhost:8080/"
    },
    "id": "c3c30375-7b0e-4a6b-b797-9bf9ad9a25fc",
    "outputId": "b38034ec-3528-43f2-e3e4-26a5b756973b"
   },
   "outputs": [],
   "source": [
    "text_columns_list = get_text_columns(X, 1)\n",
    "text_columns_list"
   ]
  },
  {
   "cell_type": "markdown",
   "id": "e55fc16c-16b1-460f-b28b-fc922bb42650",
   "metadata": {
    "id": "e55fc16c-16b1-460f-b28b-fc922bb42650"
   },
   "source": [
    "### Categorical variables"
   ]
  },
  {
   "cell_type": "code",
   "execution_count": null,
   "id": "6db8489a-03ff-477f-a4ca-6cdff0676648",
   "metadata": {
    "colab": {
     "base_uri": "https://localhost:8080/"
    },
    "id": "6db8489a-03ff-477f-a4ca-6cdff0676648",
    "outputId": "c823052e-80d9-46e0-af52-0a4f2933dbe1"
   },
   "outputs": [],
   "source": [
    "categorical_columns_list = get_categorical_columns(X, 1)\n",
    "categorical_columns_list"
   ]
  },
  {
   "cell_type": "code",
   "execution_count": null,
   "id": "e440df19-119b-402c-b254-9f41a2509054",
   "metadata": {
    "colab": {
     "base_uri": "https://localhost:8080/",
     "height": 1000
    },
    "id": "e440df19-119b-402c-b254-9f41a2509054",
    "outputId": "bdac2fb0-5e26-4b30-c222-9cdffd3f81bf"
   },
   "outputs": [],
   "source": [
    "_viz_name = 'eda/categorical_distribution.png'\n",
    "display_categorical_features_visualization(clean_df, categorical_columns_list, _viz_name)\n",
    "# Display the image\n",
    "Image(filename=_viz_name)"
   ]
  },
  {
   "cell_type": "markdown",
   "id": "e8a7532b-cf0a-4d4f-827a-194a22cb7da0",
   "metadata": {
    "id": "e8a7532b-cf0a-4d4f-827a-194a22cb7da0"
   },
   "source": [
    "### Date or time variables"
   ]
  },
  {
   "cell_type": "code",
   "execution_count": null,
   "id": "154008c1-f140-4ddf-9190-423270faf8b9",
   "metadata": {
    "colab": {
     "base_uri": "https://localhost:8080/",
     "height": 475
    },
    "id": "154008c1-f140-4ddf-9190-423270faf8b9",
    "outputId": "0290cd61-3964-4de3-f86a-2699c73befcc"
   },
   "outputs": [],
   "source": [
    "counts = clean_df.groupby([DatetimeIndex(clean_df['disbursemet_date']).month, target_variable])['disbursemet_date'].count()\n",
    "counts.unstack(fill_value=0).plot(kind='bar')\n",
    "plt.xlabel('Month')\n",
    "plt.ylabel('Count')\n",
    "plt.title('Loan disbursed Count by Loan Status')\n",
    "_viz_name = 'eda/date_distribution.png'\n",
    "plt.savefig(_viz_name)\n",
    "# Display the image\n",
    "Image(filename=_viz_name)"
   ]
  },
  {
   "cell_type": "markdown",
   "id": "bb720a50-deaf-4237-aff7-e1d502afefc6",
   "metadata": {
    "id": "bb720a50-deaf-4237-aff7-e1d502afefc6"
   },
   "source": [
    "# Feature engineering\n",
    "\n",
    "- 🛠️ Exploring the dataset to identify potential features for engineering\n",
    "- 🛠️ Creation of new features from the existing data to improve model performance\n",
    "- 🛠️ Applying an iterative process of creating, evaluating, and selecting relevant features\n",
    "- 🛠️Identifying and removing features that do not provide additional information to the model\n",
    "- 🛠️ Handling features with a large number of unique categories\n",
    "- 🛠️ Ensuring numerical features have a similar scale to avoid biased models\n",
    "- 🛠️ Using visualizations to identify and handle outliers in the data\n",
    "- 🛠️ Applying statistical techniques to identify and handle outliers.\n",
    "- 🛠️ Transforming skewed numerical features to improve their distribution\n",
    "- 🛠️ Limiting the influence of extreme values by capping them at a specified percentile\n",
    "- 🛠️Rescaling numerical features to have a mean of 0 and a standard deviation of 1\n",
    "- 🛠️ Continuous grouping of numerical features into discrete bins\n",
    "- 🛠️ Converting categorical features into a format that can be used by machine learning models\n",
    "- 🛠️ Choosing the most informative features to improve model performance and reduce complexity"
   ]
  },
  {
   "cell_type": "markdown",
   "id": "e3522573-99b9-401c-b260-dbe035296d59",
   "metadata": {
    "id": "e3522573-99b9-401c-b260-dbe035296d59"
   },
   "source": [
    "## Section helper methods"
   ]
  },
  {
   "cell_type": "markdown",
   "id": "d6ed74ed-4d7e-4586-9416-d2264ba9ff06",
   "metadata": {},
   "source": [
    "### Investigation methods"
   ]
  },
  {
   "cell_type": "code",
   "execution_count": null,
   "id": "5a63695a-4da4-47da-a654-12e89d573aca",
   "metadata": {
    "id": "5a63695a-4da4-47da-a654-12e89d573aca"
   },
   "outputs": [],
   "source": [
    "def get_high_cardinality_columns(_df: DataFrame, category_perc_threshold: float) -> list:\n",
    "    _df_rows = _df.shape[0]\n",
    "    max_unique_values = (category_perc_threshold / 100) * _df_rows\n",
    "    high_cardinality_cols:list = list()\n",
    "\n",
    "    # Iterate through all columns\n",
    "    _categorical_cols: list = list()\n",
    "    for col in _df.columns:\n",
    "\n",
    "        # When type is object\n",
    "        column_dtype = _df[col].dtype\n",
    "        if column_dtype == 'object':\n",
    "            unique_values = _df[col].nunique()\n",
    "\n",
    "            # When unique values are at most the threshold\n",
    "            if unique_values <= max_unique_values:\n",
    "                _categorical_cols.append(col)\n",
    "\n",
    "        # When type is categorical\n",
    "        if isinstance(column_dtype, CategoricalDtype):\n",
    "            _categorical_cols.append(col)\n",
    "\n",
    "    return _categorical_cols"
   ]
  },
  {
   "cell_type": "markdown",
   "id": "bd4e5ec5-be97-47cd-8466-7af0040d1d8d",
   "metadata": {},
   "source": [
    "### Engineering methods"
   ]
  },
  {
   "cell_type": "code",
   "execution_count": null,
   "id": "6ac83689-6e13-490e-a943-6941c16cdfd8",
   "metadata": {},
   "outputs": [],
   "source": [
    "def bin_data_with_outliers(_df: DataFrame, column_name: str, _bin_details: dict) -> DataFrame:\n",
    "    # Unpack variables\n",
    "    min_category_cap = _bin_details.get('min_category_cap')\n",
    "    max_category_cap = _bin_details.get('max_category_cap')\n",
    "    num_bins = _bin_details.get('num_bins')\n",
    "    \n",
    "    # Compute the bin edges\n",
    "    bins = linspace(min_category_cap, max_category_cap, num_bins - 1)\n",
    "\n",
    "    # Ensure max_category_cap is not duplicated in the bins\n",
    "    if max_category_cap not in bins:\n",
    "        bins = concatenate((bins, [max_category_cap]))\n",
    "    else:\n",
    "        bins = bins.tolist()\n",
    "        bins[-1] = max_category_cap\n",
    "\n",
    "    edges = [-np_inf] + list(bins) + [np_inf]\n",
    "\n",
    "    # Generate bin labels\n",
    "    bin_labels = []\n",
    "    for i in range(len(edges) - 1):\n",
    "        if i == 0:\n",
    "            bin_label = f\"below {edges[i+1]}\"\n",
    "        elif i == len(edges) - 2:\n",
    "            bin_label = f\"above {edges[i]}\"\n",
    "        else:\n",
    "            bin_label = f\"{edges[i]} to {edges[i+1]}\"\n",
    "        bin_labels.append(bin_label)\n",
    "\n",
    "    # Bin the data, including outliers in the first and last bins\n",
    "    binned_data = cut(_df[column_name], bins=edges, labels=bin_labels, include_lowest=True)\n",
    "\n",
    "    # Add the binned data as a new column\n",
    "    binned_column_name = \"binned_{}\".format(column_name)\n",
    "    _df[binned_column_name] = binned_data\n",
    "\n",
    "    return _df"
   ]
  },
  {
   "cell_type": "code",
   "execution_count": null,
   "id": "2e15facb-512a-45d6-b765-34675d3c223d",
   "metadata": {},
   "outputs": [],
   "source": [
    "def log_transform_columns(_df: DataFrame, _columns_list_original: list, _columns_list_transformed: list) -> DataFrame:\n",
    "    _df[_columns_list_transformed] = _df[_columns_list_original].applymap(lambda x: log(x + 1))\n",
    "    return _df"
   ]
  },
  {
   "cell_type": "code",
   "execution_count": null,
   "id": "96d321c5-c9ee-4c68-86a0-68ecf319cdb7",
   "metadata": {},
   "outputs": [],
   "source": [
    "def winsorize_columns(_df: DataFrame, _columns_list: list, outlier_threshold: tuple) -> DataFrame:\n",
    "    for _column in _columns_list:\n",
    "        _df[_column] = winsorize(_df[_column], outlier_threshold)\n",
    "\n",
    "    return _df"
   ]
  },
  {
   "cell_type": "code",
   "execution_count": null,
   "id": "712624b2-b683-483b-8ee2-11ab677d7fcf",
   "metadata": {},
   "outputs": [],
   "source": [
    "def normalize_by_standard_scaling(_df: DataFrame, _columns_list: list) -> DataFrame:\n",
    "    scaler = StandardScaler()\n",
    "    _df[_columns_list] = scaler.fit_transform(_df[_columns_list])\n",
    "\n",
    "    return _df"
   ]
  },
  {
   "cell_type": "code",
   "execution_count": null,
   "id": "1a77bda0-f642-4341-a23c-f071376e42f2",
   "metadata": {},
   "outputs": [],
   "source": [
    "def one_hot_encode_columns(_df: DataFrame, _columns_list: list) -> DataFrame:\n",
    "    print('Original dimensions are {}'.format(_df.shape))\n",
    "    \n",
    "    # Initialize the OneHotEncoder\n",
    "    encoder = OneHotEncoder(handle_unknown='ignore')\n",
    "    \n",
    "    # Fit and transform the categorical columns\n",
    "    encoded_columns = encoder.fit_transform(_df[_columns_list])\n",
    "    \n",
    "    # Create a DataFrame from the one-hot encoded columns\n",
    "    column_names = encoder.get_feature_names_out(_columns_list)\n",
    "    \n",
    "    # Convert to dense array if it's sparse\n",
    "    if hasattr(encoded_columns, 'toarray'):\n",
    "        encoded_columns = encoded_columns.toarray()\n",
    "    \n",
    "    encoded_df = DataFrame(encoded_columns, columns=column_names, index=_df.index)\n",
    "    print('Encoded columns have {} dimensions'.format(encoded_df.shape))\n",
    "    \n",
    "    # Concatenate the one-hot encoded columns with the original DataFrame\n",
    "    print('Removing {} existing columns'.format(len(_columns_list)))\n",
    "    \n",
    "    _df = concat([_df.drop(columns=_columns_list), encoded_df], axis=1)\n",
    "    print('Merged columns have {} dimensions'.format(_df.shape))\n",
    "    \n",
    "    return _df"
   ]
  },
  {
   "cell_type": "markdown",
   "id": "6cac7d40-edc9-41a5-9381-fdaaa0e5d52e",
   "metadata": {
    "id": "6cac7d40-edc9-41a5-9381-fdaaa0e5d52e"
   },
   "source": [
    "## Feature engineering process"
   ]
  },
  {
   "cell_type": "code",
   "execution_count": null,
   "id": "6b244313-8b86-42f7-ac2f-47e87459d454",
   "metadata": {
    "id": "6b244313-8b86-42f7-ac2f-47e87459d454"
   },
   "outputs": [],
   "source": [
    "X_features = X.copy()"
   ]
  },
  {
   "cell_type": "code",
   "execution_count": null,
   "id": "f7662051-9224-4538-b97f-1e1478519f61",
   "metadata": {
    "colab": {
     "base_uri": "https://localhost:8080/",
     "height": 487
    },
    "id": "f7662051-9224-4538-b97f-1e1478519f61",
    "outputId": "80c7a960-0cd2-4be7-ee0e-772eeb84f66a"
   },
   "outputs": [],
   "source": [
    "X_features.head()"
   ]
  },
  {
   "cell_type": "code",
   "execution_count": null,
   "id": "d1348891-c266-4cab-9021-9f388fb31389",
   "metadata": {
    "colab": {
     "base_uri": "https://localhost:8080/"
    },
    "id": "d1348891-c266-4cab-9021-9f388fb31389",
    "outputId": "d94a91f4-c1d9-42cc-dfa5-d78b9f8acd71"
   },
   "outputs": [],
   "source": [
    "X_features.shape"
   ]
  },
  {
   "cell_type": "markdown",
   "id": "781fc475-7b6d-4572-a4bc-2e41b9159968",
   "metadata": {
    "id": "781fc475-7b6d-4572-a4bc-2e41b9159968"
   },
   "source": [
    "### Redundant features\n",
    "- Prove redundancy by EDA\n",
    "- Prove redundancy by unique value"
   ]
  },
  {
   "cell_type": "code",
   "execution_count": null,
   "id": "df2ac1ee-592f-4a26-a310-812d037c75a6",
   "metadata": {
    "colab": {
     "base_uri": "https://localhost:8080/"
    },
    "id": "df2ac1ee-592f-4a26-a310-812d037c75a6",
    "outputId": "d881f5cc-f3d1-4fcf-de45-b15da5eb18e9"
   },
   "outputs": [],
   "source": [
    "redundant_features_list = ['currency', 'country', 'disbursemet_date']\n",
    "X_features = drop_dataframe_columns(X_features, redundant_features_list)\n",
    "\n",
    "# Add transformation step\n",
    "trans_module.add_transformation(drop_dataframe_columns, drop_column_list=redundant_features_list)\n",
    "X_features.shape"
   ]
  },
  {
   "cell_type": "markdown",
   "id": "4219b14f-fc3f-4681-bfcf-1f3c9e8999ab",
   "metadata": {
    "id": "4219b14f-fc3f-4681-bfcf-1f3c9e8999ab"
   },
   "source": [
    "### High cardinality features\n",
    "- Prove by uniform distribution"
   ]
  },
  {
   "cell_type": "code",
   "execution_count": null,
   "id": "fcc36ae7-4a19-453e-906d-b80425679fa4",
   "metadata": {
    "colab": {
     "base_uri": "https://localhost:8080/"
    },
    "id": "fcc36ae7-4a19-453e-906d-b80425679fa4",
    "outputId": "7a569195-7f44-45a4-e0c3-c6b1a08c942d"
   },
   "outputs": [],
   "source": [
    "high_cardinality_features_list = ['Unnamed: 0', 'loan_id']\n",
    "X_features = drop_dataframe_columns(X_features, high_cardinality_features_list)\n",
    "\n",
    "# Add transformation step\n",
    "trans_module.add_transformation(drop_dataframe_columns, drop_column_list=high_cardinality_features_list)\n",
    "X_features.shape"
   ]
  },
  {
   "cell_type": "markdown",
   "id": "23e5868b-3a52-4c2f-baf8-d7beed01c0e0",
   "metadata": {
    "id": "23e5868b-3a52-4c2f-baf8-d7beed01c0e0"
   },
   "source": [
    "### Feature scaling for numerical features"
   ]
  },
  {
   "cell_type": "code",
   "execution_count": null,
   "id": "f4d93921-c861-451f-b294-a763bf78d315",
   "metadata": {
    "colab": {
     "base_uri": "https://localhost:8080/"
    },
    "id": "f4d93921-c861-451f-b294-a763bf78d315",
    "outputId": "6f2b7391-0b73-43f3-f051-8a50fccf90cf"
   },
   "outputs": [],
   "source": [
    "numerical_columns_list = get_numerical_columns(X_features)\n",
    "numerical_columns_list"
   ]
  },
  {
   "cell_type": "markdown",
   "id": "4762f76d-2ffd-46cd-a94f-6bf8b8f5dbd8",
   "metadata": {
    "id": "4762f76d-2ffd-46cd-a94f-6bf8b8f5dbd8"
   },
   "source": [
    "#### Outlier detection visual method"
   ]
  },
  {
   "cell_type": "code",
   "execution_count": null,
   "id": "094df329-ab82-46f6-bf6b-b1afcd1882ab",
   "metadata": {
    "colab": {
     "base_uri": "https://localhost:8080/",
     "height": 817
    },
    "collapsed": true,
    "id": "094df329-ab82-46f6-bf6b-b1afcd1882ab",
    "outputId": "7fe85d79-89c4-4501-d671-713516dc836f"
   },
   "outputs": [],
   "source": [
    "_viz_name = 'eda/outlier.png'\n",
    "display_boxplot_visualization(X_features, numerical_columns_list, _viz_name)\n",
    "# Display the image\n",
    "Image(filename=_viz_name)"
   ]
  },
  {
   "cell_type": "markdown",
   "id": "11a89575-c9f3-4966-af53-26b1260c8531",
   "metadata": {
    "id": "11a89575-c9f3-4966-af53-26b1260c8531"
   },
   "source": [
    "#### Outlier detection statistical method"
   ]
  },
  {
   "cell_type": "code",
   "execution_count": null,
   "id": "95e4efa3-729b-4782-b061-47872ec49803",
   "metadata": {
    "colab": {
     "base_uri": "https://localhost:8080/",
     "height": 238
    },
    "id": "95e4efa3-729b-4782-b061-47872ec49803",
    "outputId": "32d08518-80b0-4811-b0d1-7fd1ecacd19f"
   },
   "outputs": [],
   "source": [
    "number_of_rows = X_features.shape[0]\n",
    "outliers_list_details: list = list()\n",
    "for numerical_column in numerical_columns_list:\n",
    "    # Calculate Z-scores\n",
    "    z_scores = stats.zscore(X_features[numerical_column])\n",
    "    outliers_upper = X_features[numerical_column][z_scores > 3]\n",
    "    outliers_lower = X_features[numerical_column][z_scores < -3]\n",
    "\n",
    "    # Find the value corresponding to z = 3\n",
    "    value_at_z3 = quantile(X_features[numerical_column], stats.norm.cdf(3))\n",
    "\n",
    "    # Find the value corresponding to z = -3\n",
    "    value_at_nz3 = quantile(X_features[numerical_column], stats.norm.cdf(-3))\n",
    "\n",
    "    outlier_results = {\n",
    "        'column': numerical_column,\n",
    "        'lower_outliers_count': outliers_lower.count(),\n",
    "        'upper_outliers_count': outliers_upper.count(),\n",
    "        'min_value': min(X_features[numerical_column]),\n",
    "        'max_value': max(X_features[numerical_column]),\n",
    "        'lower_value_limit': value_at_nz3,\n",
    "        'upper_value_limit': value_at_z3\n",
    "    }\n",
    "    outliers_list_details.append(outlier_results)\n",
    "\n",
    "outliers_details_df = DataFrame(outliers_list_details)\n",
    "outliers_details_df"
   ]
  },
  {
   "cell_type": "code",
   "execution_count": null,
   "id": "58ad6b36-e97c-456c-917e-ff8c07deb60a",
   "metadata": {
    "id": "58ad6b36-e97c-456c-917e-ff8c07deb60a"
   },
   "outputs": [],
   "source": [
    "transform_to_log_columns_list = ['loan_amount', 'outstanding_balance', 'salary']\n",
    "transform_to_log_binned_columns_list = ['interest_rate', 'age', 'remaining term']"
   ]
  },
  {
   "cell_type": "markdown",
   "id": "f2fd2f92-0c9e-4fec-aa19-84fdbb66a894",
   "metadata": {
    "id": "f2fd2f92-0c9e-4fec-aa19-84fdbb66a894"
   },
   "source": [
    "#### Log transformation for skewed features"
   ]
  },
  {
   "cell_type": "code",
   "execution_count": null,
   "id": "13BxqENCNqFP",
   "metadata": {
    "colab": {
     "base_uri": "https://localhost:8080/"
    },
    "id": "13BxqENCNqFP",
    "outputId": "4e2786a4-24e2-4edd-e61e-22dd5d1f2c4c"
   },
   "outputs": [],
   "source": [
    "transformed_log_columns_list = ['log_{}'.format(column) for column in transform_to_log_columns_list]\n",
    "transformed_log_columns_list"
   ]
  },
  {
   "cell_type": "code",
   "execution_count": null,
   "id": "cb988dd3-946c-411d-a60d-cced5011a0b0",
   "metadata": {
    "colab": {
     "base_uri": "https://localhost:8080/"
    },
    "id": "cb988dd3-946c-411d-a60d-cced5011a0b0",
    "outputId": "7c45036f-0944-4a30-d607-3d010546af71"
   },
   "outputs": [],
   "source": [
    "X_features = log_transform_columns(X_features, transform_to_log_columns_list, transformed_log_columns_list)\n",
    "\n",
    "# Add transformation step\n",
    "trans_module.add_transformation(log_transform_columns, _columns_list_original=transform_to_log_columns_list, _columns_list_transformed=transformed_log_columns_list)\n",
    "X_features.shape"
   ]
  },
  {
   "cell_type": "markdown",
   "id": "517dea4a-70b1-40d7-b907-edcc7c7cc759",
   "metadata": {
    "id": "517dea4a-70b1-40d7-b907-edcc7c7cc759"
   },
   "source": [
    "#### Feature winsorization"
   ]
  },
  {
   "cell_type": "code",
   "execution_count": null,
   "id": "cd09e4ea-8861-4b47-ad19-ec8b744bda86",
   "metadata": {
    "id": "cd09e4ea-8861-4b47-ad19-ec8b744bda86"
   },
   "outputs": [],
   "source": [
    "X_features = winsorize_columns(X_features, transformed_log_columns_list, (0.05, 0.05))\n",
    "\n",
    "# Add transformation step\n",
    "trans_module.add_transformation(winsorize_columns, _columns_list=transformed_log_columns_list, outlier_threshold=(0.05, 0.05))\n",
    "X_features.shape"
   ]
  },
  {
   "cell_type": "code",
   "execution_count": null,
   "id": "Clj5voBMRDzh",
   "metadata": {
    "colab": {
     "base_uri": "https://localhost:8080/",
     "height": 817
    },
    "id": "Clj5voBMRDzh",
    "outputId": "a5f80975-b0e0-4052-a051-b98a326149bc"
   },
   "outputs": [],
   "source": [
    "before_and_after_columns_list = transform_to_log_columns_list + transformed_log_columns_list\n",
    "_viz_name = 'eda/outlier_before_and_after_log_and_winsorization.png'\n",
    "display_boxplot_visualization(X_features, before_and_after_columns_list, _viz_name)\n",
    "# Display the image\n",
    "Image(filename=_viz_name)"
   ]
  },
  {
   "cell_type": "code",
   "execution_count": null,
   "id": "IgsTuN6MR3wI",
   "metadata": {
    "colab": {
     "base_uri": "https://localhost:8080/"
    },
    "id": "IgsTuN6MR3wI",
    "outputId": "3d0c2c95-9321-4670-ee29-ea39e4a1e080"
   },
   "outputs": [],
   "source": [
    "X_features = drop_dataframe_columns(X_features, transform_to_log_columns_list)\n",
    "\n",
    "# Add transformation step\n",
    "trans_module.add_transformation(drop_dataframe_columns, drop_column_list=transform_to_log_columns_list)\n",
    "X_features.shape"
   ]
  },
  {
   "cell_type": "markdown",
   "id": "aed269a8-4f3c-4abf-9141-43ecfad6cd83",
   "metadata": {
    "id": "aed269a8-4f3c-4abf-9141-43ecfad6cd83"
   },
   "source": [
    "#### Normalize scaling"
   ]
  },
  {
   "cell_type": "code",
   "execution_count": null,
   "id": "364c7646-284d-4c93-a015-4d498aa29bf4",
   "metadata": {
    "id": "364c7646-284d-4c93-a015-4d498aa29bf4"
   },
   "outputs": [],
   "source": [
    "X_features = normalize_by_standard_scaling(X_features, transformed_log_columns_list)\n",
    "\n",
    "# Add transformation step\n",
    "trans_module.add_transformation(normalize_by_standard_scaling, _columns_list=transformed_log_columns_list)\n",
    "X_features.shape"
   ]
  },
  {
   "cell_type": "markdown",
   "id": "CkK1R7cSSO-1",
   "metadata": {
    "id": "CkK1R7cSSO-1"
   },
   "source": [
    "### Feature binning for numerical features"
   ]
  },
  {
   "cell_type": "code",
   "execution_count": null,
   "id": "FqIYFeW6v1o0",
   "metadata": {
    "colab": {
     "base_uri": "https://localhost:8080/"
    },
    "id": "FqIYFeW6v1o0",
    "outputId": "7afd1250-1795-448f-a11b-b403e5278d79"
   },
   "outputs": [],
   "source": [
    "transform_to_log_binned_columns_list"
   ]
  },
  {
   "cell_type": "code",
   "execution_count": null,
   "id": "CT81lcUgv8yM",
   "metadata": {
    "colab": {
     "base_uri": "https://localhost:8080/",
     "height": 144
    },
    "id": "CT81lcUgv8yM",
    "outputId": "b6482a31-d0a6-426f-dbfa-62b2a5fb3720"
   },
   "outputs": [],
   "source": [
    "# Assuming you have a dataframe 'df' and a list of names 'name_list'\n",
    "outliers_details_df_binning_columns = outliers_details_df[outliers_details_df['column'].isin(transform_to_log_binned_columns_list)]\n",
    "outliers_details_df_binning_columns"
   ]
  },
  {
   "cell_type": "code",
   "execution_count": null,
   "id": "vPZ5Q4FK2oTl",
   "metadata": {
    "colab": {
     "base_uri": "https://localhost:8080/",
     "height": 290
    },
    "id": "vPZ5Q4FK2oTl",
    "outputId": "cb46d27e-13d2-46dd-c09e-2f32993ec078"
   },
   "outputs": [],
   "source": [
    "_binning_column = 'interest_rate'\n",
    "bin_details = {'num_bins': 6, 'min_category_cap': 0.15, 'max_category_cap': 0.25}\n",
    "X_features = bin_data_with_outliers(X_features, _binning_column, bin_details)\n",
    "\n",
    "# Add transformation step\n",
    "trans_module.add_transformation(bin_data_with_outliers, column_name=_binning_column, _bin_details=bin_details)\n",
    "\n",
    "# Display results\n",
    "bin_stats = X_features.groupby('binned_{}'.format(_binning_column))[_binning_column].agg(['min', 'max', 'count']).reset_index()\n",
    "print(X_features.shape, '\\n____________')\n",
    "bin_stats"
   ]
  },
  {
   "cell_type": "code",
   "execution_count": null,
   "id": "jTu9ClIqDfJv",
   "metadata": {
    "colab": {
     "base_uri": "https://localhost:8080/",
     "height": 384
    },
    "id": "jTu9ClIqDfJv",
    "outputId": "391226ed-90a2-4f53-da22-afa2fc850628"
   },
   "outputs": [],
   "source": [
    "_binning_column = 'age'\n",
    "bin_details = {'num_bins': 9, 'min_category_cap': 25, 'max_category_cap': 60}\n",
    "X_features = bin_data_with_outliers(X_features, _binning_column, bin_details)\n",
    "\n",
    "# Add transformation step\n",
    "trans_module.add_transformation(bin_data_with_outliers, column_name=_binning_column, _bin_details=bin_details)\n",
    "\n",
    "# Display results\n",
    "bin_stats = X_features.groupby('binned_{}'.format(_binning_column))[_binning_column].agg(['min', 'max', 'count']).reset_index()\n",
    "print(X_features.shape, '\\n____________')\n",
    "bin_stats"
   ]
  },
  {
   "cell_type": "code",
   "execution_count": null,
   "id": "mpI28sdF3b3f",
   "metadata": {
    "colab": {
     "base_uri": "https://localhost:8080/",
     "height": 415
    },
    "id": "mpI28sdF3b3f",
    "outputId": "faa75c10-d0b0-4897-b383-21255c4f61f8"
   },
   "outputs": [],
   "source": [
    "_binning_column = 'remaining term'\n",
    "bin_details = {'num_bins': 10, 'min_category_cap': 20, 'max_category_cap': 100}\n",
    "X_features = bin_data_with_outliers(X_features, _binning_column, bin_details)\n",
    "\n",
    "# Add transformation step\n",
    "trans_module.add_transformation(bin_data_with_outliers, column_name=_binning_column, _bin_details=bin_details)\n",
    "\n",
    "# Display results\n",
    "bin_stats = X_features.groupby('binned_{}'.format(_binning_column))[_binning_column].agg(['min', 'max', 'count']).reset_index()\n",
    "print(X_features.shape, '\\n____________')\n",
    "bin_stats"
   ]
  },
  {
   "cell_type": "code",
   "execution_count": null,
   "id": "liSJU1lkGz4x",
   "metadata": {
    "colab": {
     "base_uri": "https://localhost:8080/"
    },
    "id": "liSJU1lkGz4x",
    "outputId": "5f623646-457c-488c-f246-9009a7778fbf"
   },
   "outputs": [],
   "source": [
    "X_features = drop_dataframe_columns(X_features, transform_to_log_binned_columns_list)\n",
    "\n",
    "# Add transformation step\n",
    "trans_module.add_transformation(drop_dataframe_columns, drop_column_list=transform_to_log_binned_columns_list)\n",
    "X_features.shape"
   ]
  },
  {
   "cell_type": "markdown",
   "id": "c4d0de20-dbed-4bbe-8254-45dd573fc26f",
   "metadata": {
    "id": "c4d0de20-dbed-4bbe-8254-45dd573fc26f"
   },
   "source": [
    "### Feature encoding for categorical features"
   ]
  },
  {
   "cell_type": "code",
   "execution_count": null,
   "id": "12e70c2d-4378-4e37-aa61-71931ea6bc1c",
   "metadata": {
    "colab": {
     "base_uri": "https://localhost:8080/"
    },
    "id": "12e70c2d-4378-4e37-aa61-71931ea6bc1c",
    "outputId": "b78b66ff-cb99-402e-8e17-217f83026e06"
   },
   "outputs": [],
   "source": [
    "# Encode the Y feature\n",
    "target_variable_mapping = {'defaulted': 1, 'did not default': 0}\n",
    "y = Y.replace(target_variable_mapping)\n",
    "y.value_counts()"
   ]
  },
  {
   "cell_type": "code",
   "execution_count": null,
   "id": "7807deaa-6dfb-41f1-bc2b-75fbf2bd6f89",
   "metadata": {
    "colab": {
     "base_uri": "https://localhost:8080/"
    },
    "id": "7807deaa-6dfb-41f1-bc2b-75fbf2bd6f89",
    "outputId": "4c5cf812-5b00-41cb-a73b-619bdc549850"
   },
   "outputs": [],
   "source": [
    "categorical_columns_list = get_categorical_columns(X_features, 1)\n",
    "categorical_columns_list"
   ]
  },
  {
   "cell_type": "code",
   "execution_count": null,
   "id": "fde7373e-f7cc-480d-a986-259dcd459706",
   "metadata": {
    "colab": {
     "base_uri": "https://localhost:8080/"
    },
    "id": "fde7373e-f7cc-480d-a986-259dcd459706",
    "outputId": "f19bd91b-1015-4df9-cf75-09ac1fa7512b"
   },
   "outputs": [],
   "source": [
    "X_features = one_hot_encode_columns(X_features, categorical_columns_list)\n",
    "\n",
    "# Add transformation step\n",
    "trans_module.add_transformation(one_hot_encode_columns, _columns_list=categorical_columns_list)\n",
    "X_features.shape"
   ]
  },
  {
   "cell_type": "code",
   "execution_count": null,
   "id": "2ecb685c-f156-4890-8c41-dff2946fb0cc",
   "metadata": {
    "colab": {
     "base_uri": "https://localhost:8080/"
    },
    "id": "2ecb685c-f156-4890-8c41-dff2946fb0cc",
    "outputId": "ebbf9790-5642-4be9-fa3b-a7de0cf93f11"
   },
   "outputs": [],
   "source": [
    "X_features.dtypes"
   ]
  },
  {
   "cell_type": "markdown",
   "id": "qETE0mjdbKcc",
   "metadata": {
    "id": "qETE0mjdbKcc"
   },
   "source": [
    "### Feature selection"
   ]
  },
  {
   "cell_type": "code",
   "execution_count": null,
   "id": "xsk9IV_sIgRK",
   "metadata": {
    "id": "xsk9IV_sIgRK"
   },
   "outputs": [],
   "source": [
    "def calculate_vif(_df: DataFrame):\n",
    "    \"\"\"\n",
    "    Calculate Variance Inflation Factor (VIF) for each feature in the DataFrame.\n",
    "    \"\"\"\n",
    "    vif_data = DataFrame()\n",
    "    vif_data[\"feature\"] = _df.columns\n",
    "    vif_data[\"VIF\"] = [variance_inflation_factor(_df.values, i) for i in range(len(_df.columns))]\n",
    "    return vif_data"
   ]
  },
  {
   "cell_type": "code",
   "execution_count": null,
   "id": "sjDARxuBI2L8",
   "metadata": {
    "id": "sjDARxuBI2L8"
   },
   "outputs": [],
   "source": [
    "def remove_multicollinearity(_df: DataFrame, threshold: float = 5.0):\n",
    "    \"\"\"\n",
    "    Remove multicollinearity from the DataFrame by eliminating features with high VIF.\n",
    "    \"\"\"\n",
    "    new_df = _df.copy()\n",
    "    while True:\n",
    "        vif_data = calculate_vif(new_df)\n",
    "        max_vif = vif_data[\"VIF\"].max()\n",
    "\n",
    "        if max_vif > threshold:\n",
    "            feature_to_remove = vif_data.loc[vif_data[\"VIF\"].idxmax(), \"feature\"]\n",
    "            print(f\"Removing feature '{feature_to_remove}' with VIF: {max_vif}\")\n",
    "            new_df = new_df.drop(columns=[feature_to_remove])\n",
    "        else:\n",
    "            break\n",
    "\n",
    "    return new_df"
   ]
  },
  {
   "cell_type": "markdown",
   "id": "6f48cbc1-383f-4d44-88ec-e49af1e71e7a",
   "metadata": {},
   "source": [
    "# Data transformation summary\n",
    "\n",
    "- Identification and exploring suitable data transformation techniques\n",
    "- Evaluating the impact of different transformations on model performance\n",
    "- Storing the selected transformations for consistent application\n",
    "- Preperation of the dataset, including handling missing values, encoding features, and scaling\n",
    "- Dividing the dataset to assess the model's performance on unseen data\n",
    "- Addressing class imbalance issues using appropriate balancing techniques"
   ]
  },
  {
   "cell_type": "markdown",
   "id": "97277c59-95f7-423c-bdd3-54f84d6f992a",
   "metadata": {},
   "source": [
    "### Section helper methods"
   ]
  },
  {
   "cell_type": "code",
   "execution_count": null,
   "id": "0ae20a11-beea-4fb7-912c-fa30aba039f3",
   "metadata": {},
   "outputs": [],
   "source": [
    "def dataset_similarity_report(_df1: DataFrame, _df2: DataFrame):\n",
    "    # Column test\n",
    "    df1_columns = _df1.columns.to_list()\n",
    "    df2_columns = _df2.columns.to_list()\n",
    "\n",
    "    # When column names are identical\n",
    "    if df1_columns == df2_columns:\n",
    "        print('Dataset columns identical')\n",
    "\n",
    "        non_identical_columns: list = list()\n",
    "        for _column in df1_columns:\n",
    "\n",
    "            # When row items are identical\n",
    "            identity_check = _df1[_column].to_list() == _df2[_column].to_list()\n",
    "            if not identity_check:\n",
    "                non_identical_columns.append(_column)\n",
    "\n",
    "        # When columns with unidentical rows have been identified\n",
    "        if non_identical_columns:\n",
    "            print(non_identical_columns, ': are not row identical')\n",
    "\n",
    "        # When all records are identical\n",
    "        else:\n",
    "            print('All records for each column are identical')\n",
    "    \n",
    "    # When columns names do not match\n",
    "    else:\n",
    "        items_in_list1_not_in_list2 = set(df1_columns) - set(df2_columns)\n",
    "        items_in_list2_not_in_list1 = set(df2_columns) - set(df1_columns)\n",
    "        print(\"Columns in dataset 1 that are not in dataset 2:\", items_in_list1_not_in_list2)\n",
    "        print(\"Columns in dataset 2 that are not in dataset 1:\", items_in_list2_not_in_list1)"
   ]
  },
  {
   "cell_type": "code",
   "execution_count": null,
   "id": "9d42d07f-c6ea-4c36-8659-eec0ade94fb0",
   "metadata": {},
   "outputs": [],
   "source": [
    "def save_transformations(transformation_module, _module_name: str='loan_data_transformation'):\n",
    "    # Check for any transformations in directory\n",
    "    module_list = listdir(TRANSFORMATIONS_DIR)\n",
    "\n",
    "    # When module list exists\n",
    "    check_name_count: int = 0\n",
    "    if module_list:\n",
    "        check_name_list = [module_name_ for module_name_ in module_list if _module_name in module_name_]\n",
    "        check_name_count = len(check_name_list)\n",
    "\n",
    "    # Indicate the nth of the coming report\n",
    "    check_name_count += 1\n",
    "    module_file_name = '{}/{}_{}.pkl'.format(TRANSFORMATIONS_DIR, _module_name, check_name_count)\n",
    "    \n",
    "    # Save the TransformationModule object\n",
    "    with open(module_file_name, 'wb') as f:\n",
    "        dill.dump(transformation_module, f)\n",
    "\n",
    "    # When report has been generated\n",
    "    if exists(module_file_name):\n",
    "        print('Module: {} successfully saved!'.format(module_file_name))\n",
    "\n",
    "    else:\n",
    "        print('No generated module!')"
   ]
  },
  {
   "cell_type": "markdown",
   "id": "365f75c5-8ad9-4bb8-b9fe-1c96a0dedde4",
   "metadata": {},
   "source": [
    "### Check transformations"
   ]
  },
  {
   "cell_type": "code",
   "execution_count": null,
   "id": "268ea601-3f04-49f9-9193-d889bae76f8b",
   "metadata": {},
   "outputs": [],
   "source": [
    "_i = 1\n",
    "for _transformation in trans_module.transformations:\n",
    "    transformation_function = _transformation[0]\n",
    "    print('\\nStep {}:'.format(_i))\n",
    "    print(transformation_function.__name__, _transformation[2])\n",
    "    _i += 1"
   ]
  },
  {
   "cell_type": "markdown",
   "id": "cf8fd392-725d-47d2-a7d6-b76f464d33a0",
   "metadata": {},
   "source": [
    "### Test transformations"
   ]
  },
  {
   "cell_type": "code",
   "execution_count": null,
   "id": "084ddf87-21ca-461e-94e6-378f96b7944a",
   "metadata": {},
   "outputs": [],
   "source": [
    "transformation_test_df = raw_X.copy()\n",
    "transformation_test_df.shape"
   ]
  },
  {
   "cell_type": "code",
   "execution_count": null,
   "id": "84dc85ce-ff36-4042-9069-56cb9a1e1342",
   "metadata": {},
   "outputs": [],
   "source": [
    "df_transformed = trans_module.apply_transformations(transformation_test_df)"
   ]
  },
  {
   "cell_type": "code",
   "execution_count": null,
   "id": "a8abffe6-646d-4ece-85ac-169cf1142cbd",
   "metadata": {},
   "outputs": [],
   "source": [
    "dataset_similarity_report(X_features, df_transformed)"
   ]
  },
  {
   "cell_type": "markdown",
   "id": "27eb1fb1-a0bd-434a-9607-3a695c94a412",
   "metadata": {},
   "source": [
    "### Save transformations for inference"
   ]
  },
  {
   "cell_type": "code",
   "execution_count": null,
   "id": "de0b1929-af9d-4e82-908b-d2d44e3e92c4",
   "metadata": {},
   "outputs": [],
   "source": [
    "save_transformations(trans_module)"
   ]
  },
  {
   "cell_type": "markdown",
   "id": "b456ee12-ed5c-4725-91e5-fc2f7fef9987",
   "metadata": {
    "id": "b456ee12-ed5c-4725-91e5-fc2f7fef9987"
   },
   "source": [
    "# Data pre-processing"
   ]
  },
  {
   "cell_type": "markdown",
   "id": "db1fc8f2-054f-40aa-81cb-89680e5eeb42",
   "metadata": {
    "id": "db1fc8f2-054f-40aa-81cb-89680e5eeb42"
   },
   "source": [
    "### Split to train and test"
   ]
  },
  {
   "cell_type": "code",
   "execution_count": null,
   "id": "4e82549a-7740-4e72-b3c4-e5157858126d",
   "metadata": {
    "id": "4e82549a-7740-4e72-b3c4-e5157858126d"
   },
   "outputs": [],
   "source": [
    "# Split the data into train and test sets\n",
    "X_feature_train, X_test, y_feature_train, y_test = train_test_split(X_features, y, test_size=0.3, random_state=42)"
   ]
  },
  {
   "cell_type": "code",
   "execution_count": null,
   "id": "772def1b-5dd5-4f9c-9336-23aed9e1cbd2",
   "metadata": {
    "colab": {
     "base_uri": "https://localhost:8080/"
    },
    "id": "772def1b-5dd5-4f9c-9336-23aed9e1cbd2",
    "outputId": "fc7c7031-8cb8-499c-8624-f2d6aba9a049"
   },
   "outputs": [],
   "source": [
    "print('X_feature_train: ', X_feature_train.shape, '; y_feature_train: ', y_feature_train.shape)\n",
    "print('X_test: ', X_test.shape, '; y_test: ', y_test.shape)"
   ]
  },
  {
   "cell_type": "code",
   "execution_count": null,
   "id": "5a55f2fd-5bb3-4daf-bf40-edb1ea058310",
   "metadata": {
    "colab": {
     "base_uri": "https://localhost:8080/"
    },
    "id": "5a55f2fd-5bb3-4daf-bf40-edb1ea058310",
    "outputId": "48d3f2a2-f2fb-41f8-f383-de663bacfac5"
   },
   "outputs": [],
   "source": [
    "print('Original training set class distribution:', Counter(y_feature_train))"
   ]
  },
  {
   "cell_type": "markdown",
   "id": "cc19d03a-b41d-4f62-9eea-c587912b5a85",
   "metadata": {
    "id": "cc19d03a-b41d-4f62-9eea-c587912b5a85"
   },
   "source": [
    "### Apply Balancing technique"
   ]
  },
  {
   "cell_type": "code",
   "execution_count": null,
   "id": "030dffb5-8955-4b2c-b0e2-bd26ced48495",
   "metadata": {
    "colab": {
     "base_uri": "https://localhost:8080/"
    },
    "id": "030dffb5-8955-4b2c-b0e2-bd26ced48495",
    "outputId": "b3ae51c8-51c3-498d-b85b-472a02f30a5c"
   },
   "outputs": [],
   "source": [
    "# Apply SMOTE to the training set\n",
    "smote = SMOTE(random_state=42)\n",
    "X_train, y_train = smote.fit_resample(X_feature_train, y_feature_train)\n",
    "print('X_train: ', X_train.shape,' ; y_train: ', y_train.shape)"
   ]
  },
  {
   "cell_type": "code",
   "execution_count": null,
   "id": "496dcfeb-c870-4a3f-954c-8f3af7dae020",
   "metadata": {
    "colab": {
     "base_uri": "https://localhost:8080/"
    },
    "id": "496dcfeb-c870-4a3f-954c-8f3af7dae020",
    "outputId": "16f88267-63d8-471c-9b55-65369247bcd9"
   },
   "outputs": [],
   "source": [
    "# Check the class distribution in the resampled training set\n",
    "print('Resampled training set class distribution:', Counter(y_train))"
   ]
  },
  {
   "cell_type": "markdown",
   "id": "725faba1-f191-42bb-a738-c9c1a769d122",
   "metadata": {
    "id": "725faba1-f191-42bb-a738-c9c1a769d122"
   },
   "source": [
    "# Model building\n",
    "\n",
    "- Choosing an appropriate classification algorithm and configure its initial settings\n",
    "- Optimizing the model's hyperparameters through a systematic process of cross-validation"
   ]
  },
  {
   "cell_type": "markdown",
   "id": "15ade797-10cd-4422-b7d1-8a6d4d1efb28",
   "metadata": {},
   "source": [
    "## Section helper methods"
   ]
  },
  {
   "cell_type": "code",
   "execution_count": null,
   "id": "d6af4eaa-a49c-4a81-b12d-36886d7a048d",
   "metadata": {},
   "outputs": [],
   "source": [
    "def compile_cv_results(desired_run_id: int):\n",
    "    # Initialize an empty list to store the results\n",
    "    _cv_results: list = list()\n",
    "    _best_params_dict: dict = dict()\n",
    "    # Iterate through the files in the directory\n",
    "    for filename in listdir(CROSS_VALIDATION_DIR):\n",
    "        if filename.endswith('.pkl'):\n",
    "            # Extract the run_id and setup_name from the filename\n",
    "            _file_details = filename.split('_')\n",
    "            _run_id, _setup_name = _file_details[0], _file_details[1]\n",
    "            _run_id = int(_run_id)\n",
    "    \n",
    "            # Check if the run_id matches the one you're interested in\n",
    "            if _run_id == desired_run_id:\n",
    "                # Load the pickled data\n",
    "                with open('{}/{}'.format(CROSS_VALIDATION_DIR, filename), 'rb') as f:\n",
    "                    _data = pickle.load(f)\n",
    "                f.close()\n",
    "    \n",
    "                # Add the results to the list\n",
    "                _cv_results.append({**_data['result'], 'setup_name': _setup_name})\n",
    "\n",
    "                # Add params to dict\n",
    "                _best_params_dict[_setup_name] = _data.get('params')\n",
    "\n",
    "    # Create the DataFrame\n",
    "    _cv_results_df = DataFrame(_cv_results)\n",
    "\n",
    "    return _cv_results_df, _best_params_dict"
   ]
  },
  {
   "cell_type": "markdown",
   "id": "50e563e9-74ed-42d7-a501-ee2ce6e3afbb",
   "metadata": {},
   "source": [
    "The weights in the scoring function (0.3 for ROC AUC, 0.2 each for precision, recall, and F1, and 0.1 for accuracy) are chosen to prioritize ROC AUC while giving equal importance to precision, recall, and F1, and slightly less importance to accuracy."
   ]
  },
  {
   "cell_type": "code",
   "execution_count": null,
   "id": "d66a6e95-9e08-49c9-894b-ad5ea71300b9",
   "metadata": {},
   "outputs": [],
   "source": [
    "def score_model(model):\n",
    "    return (\n",
    "        0.3 * model['roc_auc'] +\n",
    "        0.2 * model['precision'] +\n",
    "        0.2 * model['recall'] +\n",
    "        0.2 * model['f1'] +\n",
    "        0.1 * model['accuracy']\n",
    "    )"
   ]
  },
  {
   "cell_type": "code",
   "execution_count": null,
   "id": "890a3c9d-bbd0-4941-817d-30eef3bf2ea9",
   "metadata": {},
   "outputs": [],
   "source": [
    "def get_best_models(results_df: DataFrame, n=5) -> DataFrame:\n",
    "    \n",
    "    # Calculate the combined score\n",
    "    results_df['score'] = results_df.apply(score_model, axis=1)\n",
    "    \n",
    "    # Sort by score in descending order and select top n\n",
    "    _best_models_df = results_df.sort_values('score', ascending=False).head(n)\n",
    "    \n",
    "    return _best_models_df"
   ]
  },
  {
   "cell_type": "markdown",
   "id": "f570e022-249b-4f62-9a7e-3fe878bd390d",
   "metadata": {
    "id": "f570e022-249b-4f62-9a7e-3fe878bd390d"
   },
   "source": [
    "## Classification algorithm setup"
   ]
  },
  {
   "cell_type": "code",
   "execution_count": null,
   "id": "aef0b068-74b7-4e98-b894-84351240ce5e",
   "metadata": {
    "id": "aef0b068-74b7-4e98-b894-84351240ce5e"
   },
   "outputs": [],
   "source": [
    "# Classifier instances\n",
    "lr = LogisticRegression()\n",
    "lda = LinearDiscriminantAnalysis()\n",
    "dt = DecisionTreeClassifier()\n",
    "et = ExtraTreesClassifier()\n",
    "gbc = GradientBoostingClassifier()\n",
    "rf = RandomForestClassifier()\n",
    "xgb = XGBClassifier()\n",
    "lgbm = LGBMClassifier(force_row_wise=true)\n",
    "svc = SVC(probability=True)\n",
    "knn = KNeighborsClassifier()\n",
    "gnb = GaussianNB()"
   ]
  },
  {
   "cell_type": "code",
   "execution_count": null,
   "id": "2547be6b-bdb5-4d9c-ade4-ebe67e863bbf",
   "metadata": {
    "id": "2547be6b-bdb5-4d9c-ade4-ebe67e863bbf"
   },
   "outputs": [],
   "source": [
    "# Hyperparameter dictionaries\n",
    "lr_param_dist = {\n",
    "    'C': stats.uniform(0.1, 10),\n",
    "    'penalty': ['l2', 'l1', 'elasticnet'],\n",
    "    'solver': ['lbfgs', 'newton-cg', 'liblinear', 'sag', 'saga'],\n",
    "    'max_iter': [1000, 2000, 3000],\n",
    "    'tol': [1e-3, 1e-4, 1e-5]\n",
    "}\n",
    "\n",
    "lda_param_dist = {\n",
    "    'solver': ['svd', 'lsqr', 'eigen'],\n",
    "    'shrinkage': [None, 'auto'] + list(stats.uniform(0, 1).rvs(5))\n",
    "}\n",
    "\n",
    "dt_param_dist = {\n",
    "    'max_depth': stats.randint(3, 20),\n",
    "    'min_samples_split': stats.randint(2, 11),\n",
    "    'min_samples_leaf': stats.randint(1, 11)\n",
    "}\n",
    "\n",
    "et_param_dist = {\n",
    "    'n_estimators': stats.randint(50, 300),\n",
    "    'max_depth': stats.randint(3, 20),\n",
    "    'min_samples_split': stats.randint(2, 11),\n",
    "    'min_samples_leaf': stats.randint(1, 11)\n",
    "}\n",
    "\n",
    "gbc_param_dist = {\n",
    "    'n_estimators': stats.randint(50, 300),\n",
    "    'learning_rate': stats.uniform(0.01, 0.3),\n",
    "    'max_depth': stats.randint(3, 20)\n",
    "}\n",
    "\n",
    "rf_param_dist = {\n",
    "    'n_estimators': stats.randint(50, 300),\n",
    "    'max_features': ['sqrt', 'log2', None],\n",
    "    'max_depth': stats.randint(3, 20),\n",
    "    'min_samples_split': stats.randint(2, 11),\n",
    "    'min_samples_leaf': stats.randint(1, 11)\n",
    "}\n",
    "\n",
    "xgb_param_dist = {\n",
    "    'max_depth': stats.randint(3, 20),\n",
    "    'learning_rate': stats.uniform(0.01, 0.3),\n",
    "    'subsample': stats.uniform(0.5, 0.5),\n",
    "    'n_estimators': stats.randint(50, 300)\n",
    "}\n",
    "\n",
    "lgbm_param_dist = {\n",
    "    'num_leaves': stats.randint(20, 100),\n",
    "    'learning_rate': stats.uniform(0.01, 0.3),\n",
    "    'n_estimators': stats.randint(50, 300)\n",
    "}\n",
    "\n",
    "svc_param_dist = {\n",
    "    'C': stats.uniform(0.1, 10),\n",
    "    'kernel': ['rbf', 'linear', 'poly'],\n",
    "    'gamma': ['scale', 'auto'] + list(stats.uniform(0.01, 1).rvs(3))\n",
    "}\n",
    "\n",
    "knn_param_dist = {\n",
    "    'n_neighbors': stats.randint(3, 20),\n",
    "    'weights': ['uniform', 'distance'],\n",
    "    'algorithm': ['auto', 'ball_tree', 'kd_tree', 'brute']\n",
    "}\n",
    "\n",
    "gnb_param_dist = {\n",
    "    'var_smoothing': stats.uniform(1e-10, 1e-8)\n",
    "}"
   ]
  },
  {
   "cell_type": "code",
   "execution_count": null,
   "id": "41f1b678-3f7c-4f25-b224-c2386a6e39c7",
   "metadata": {
    "id": "41f1b678-3f7c-4f25-b224-c2386a6e39c7"
   },
   "outputs": [],
   "source": [
    "modelling_setup = [\n",
    "    {'name': 'xgb', 'classifier': xgb, 'params': xgb_param_dist},\n",
    "    {'name': 'gnb', 'classifier': gnb, 'params': gnb_param_dist},\n",
    "    {'name': 'lr', 'classifier': lr, 'params': lr_param_dist},\n",
    "    {'name': 'lda', 'classifier': lda, 'params': lda_param_dist},\n",
    "    {'name': 'knn', 'classifier': knn, 'params': knn_param_dist},\n",
    "    {'name': 'svc', 'classifier': svc, 'params': svc_param_dist},\n",
    "    {'name': 'dt', 'classifier': dt, 'params': dt_param_dist},\n",
    "    {'name': 'rf', 'classifier': rf, 'params': rf_param_dist},\n",
    "    {'name': 'et', 'classifier': et, 'params': et_param_dist},\n",
    "    {'name': 'gbc', 'classifier': gbc, 'params': gbc_param_dist},\n",
    "    {'name': 'lgbm', 'classifier': lgbm, 'params': lgbm_param_dist}\n",
    "]"
   ]
  },
  {
   "cell_type": "markdown",
   "id": "1a412d9e-b52b-48b3-9d20-d0f0a6c0ebdd",
   "metadata": {
    "id": "1a412d9e-b52b-48b3-9d20-d0f0a6c0ebdd"
   },
   "source": [
    "## Hyper parameter tuning using cross-validation"
   ]
  },
  {
   "cell_type": "code",
   "execution_count": null,
   "id": "4ed7605e-8bef-42fd-b97f-35fd0b09aa21",
   "metadata": {},
   "outputs": [],
   "source": [
    "# Define scoring metrics\n",
    "scoring = {\n",
    "    'roc_auc': 'roc_auc',\n",
    "    'accuracy': 'accuracy',\n",
    "    'precision': make_scorer(precision_score, average='weighted'),\n",
    "    'recall': make_scorer(recall_score, average='weighted'),\n",
    "    'f1': make_scorer(f1_score, average='weighted')\n",
    "}\n",
    "\n",
    "# Time limit for each model\n",
    "time_limit = timedelta(minutes=45)\n",
    "\n",
    "# Run ID represents set of parameters set for the Randomsearch. Files with the different run_ids should not be compared\n",
    "\n",
    "run_id = 3\n",
    "# cv=5,\n",
    "# n_iter=10,  # high number for better exploration\n",
    "# refit='roc_auc',\n",
    "# random_state=5,\n",
    "# n_jobs=-1,  # Use all available cores\n",
    "# verbose=2,\n",
    "# return_train_score=True\n",
    "\n",
    "# run_id = 1\n",
    "# cv=5,\n",
    "# n_iter=15,  # high number for better exploration\n",
    "# refit='roc_auc',\n",
    "# random_state=42,\n",
    "# n_jobs=-1,  # Use all available cores\n",
    "# verbose=2,\n",
    "# return_train_score=True\n",
    "\n",
    "for _setup in modelling_setup:\n",
    "    \n",
    "    setup_name = _setup['name']\n",
    "    if setup_name not in ['dt', 'et', 'lgbm']:\n",
    "        continue\n",
    "    \n",
    "    print('\\n{}-------------'.format(setup_name))\n",
    "    _clf = _setup['classifier']\n",
    "    _param_dist = _setup['params']\n",
    "    \n",
    "    start_time = datetime.now()\n",
    "    \n",
    "    random_search = RandomizedSearchCV(\n",
    "        estimator=_clf,\n",
    "        param_distributions=_param_dist,\n",
    "        cv=5,  # low number for faster execution\n",
    "        scoring=scoring,\n",
    "        n_iter=10,  # high number for better exploration\n",
    "        refit='roc_auc',\n",
    "        random_state=5,\n",
    "        # n_jobs=-1,  # Use all available cores\n",
    "        verbose=2,\n",
    "        # return_train_score=True\n",
    "    )\n",
    "    \n",
    "    try:\n",
    "        # Use a separate thread to run the fit method\n",
    "        from threading import Thread\n",
    "        fit_thread = Thread(target=random_search.fit, args=(X_train, y_train))\n",
    "        fit_thread.start()\n",
    "        \n",
    "        # Check if the time limit has been exceeded\n",
    "        while fit_thread.is_alive():\n",
    "            if datetime.now() - start_time > time_limit:\n",
    "                print(\"\\nTime limit exceeded for {}. Moving to next model.\".format(setup_name))\n",
    "                raise TimeoutError\n",
    "            time.sleep(10)  # Check every 10 seconds\n",
    "        \n",
    "        fit_thread.join()\n",
    "        \n",
    "    except TimeoutError:\n",
    "        continue\n",
    "    except Exception as e:\n",
    "        print(\"An error occurred with {}: {}\".format(setup_name, str(e)))\n",
    "        continue\n",
    "    \n",
    "    end_time = datetime.now()\n",
    "    time_taken = (end_time - start_time).total_seconds()\n",
    "    \n",
    "    _results = {\n",
    "        'name': setup_name,\n",
    "        'roc_auc': random_search.cv_results_['mean_test_roc_auc'][random_search.best_index_],\n",
    "        'accuracy': random_search.cv_results_['mean_test_accuracy'][random_search.best_index_],\n",
    "        'precision': random_search.cv_results_['mean_test_precision'][random_search.best_index_],\n",
    "        'recall': random_search.cv_results_['mean_test_recall'][random_search.best_index_],\n",
    "        'f1': random_search.cv_results_['mean_test_f1'][random_search.best_index_],\n",
    "        'time_taken': time_taken\n",
    "    }\n",
    "    \n",
    "    # Pickle best parameters with timestamp\n",
    "    param_timestamp = datetime.now().strftime('%Y%m%d_%H%M%S')\n",
    "    param_file_name = '{}/{}_{}_cv_results_{}.pkl'.format(CROSS_VALIDATION_DIR, run_id, setup_name, param_timestamp)\n",
    "    \n",
    "    with open(param_file_name, 'wb') as f:\n",
    "        pickle.dump({'params': random_search.best_params_, 'result': _results}, f)\n",
    "        \n",
    "    print(f\"Time taken: {time_taken:.2f} seconds\")"
   ]
  },
  {
   "cell_type": "code",
   "execution_count": null,
   "id": "df926bc1-7ac5-4469-8b89-1136e16d2f03",
   "metadata": {
    "colab": {
     "base_uri": "https://localhost:8080/",
     "height": 89
    },
    "id": "df926bc1-7ac5-4469-8b89-1136e16d2f03",
    "outputId": "0b62ca86-06e9-4d19-b7d8-b866ffef7e20"
   },
   "outputs": [],
   "source": [
    "random_search_results_df, best_params = compile_cv_results(3)\n",
    "random_search_results_df"
   ]
  },
  {
   "cell_type": "code",
   "execution_count": null,
   "id": "ab9369a8-51a0-495f-b6d9-902a30dfb2e4",
   "metadata": {},
   "outputs": [],
   "source": [
    "best_models_df = get_best_models(random_search_results_df)\n",
    "best_models_df"
   ]
  },
  {
   "cell_type": "code",
   "execution_count": null,
   "id": "d01a7501-3b17-4b77-af87-a90d64e0c42f",
   "metadata": {},
   "outputs": [],
   "source": [
    "best_models_list = best_models_df['name'].values.tolist()\n",
    "best_models_list"
   ]
  },
  {
   "cell_type": "markdown",
   "id": "73f22235-54b6-4edb-b6c0-5f4e204df1c6",
   "metadata": {
    "id": "73f22235-54b6-4edb-b6c0-5f4e204df1c6"
   },
   "source": [
    "# Model evaluation\n",
    "\n",
    "- Training the model on the training data to learn the underlying patterns\n",
    "- Evaluating and selecting the best model based on performance metrics and their relative weights\n",
    "- Presenting the model's performance, insights, and key metrics in a clear and meaningful way"
   ]
  },
  {
   "cell_type": "markdown",
   "id": "45231264-dcca-4229-b16c-b201fb1fa4bd",
   "metadata": {},
   "source": [
    "### Section helper methods"
   ]
  },
  {
   "cell_type": "code",
   "execution_count": null,
   "id": "ac722a3d-88e3-447a-a294-3ea15a35d4fc",
   "metadata": {},
   "outputs": [],
   "source": [
    "# Define a function for early stopping\n",
    "def early_stopping_callback(estimator, X, y, cv, n_iter_no_change=10, tol=1e-4):\n",
    "    scores = []\n",
    "    for i, (train, val) in enumerate(cv.split(X, y)):\n",
    "        estimator.fit(X.iloc[train], y.iloc[train])\n",
    "        score = estimator.score(X.iloc[val], y.iloc[val])\n",
    "        scores.append(score)\n",
    "        if i >= n_iter_no_change and np.mean(scores[-n_iter_no_change:]) < np.max(scores[:-n_iter_no_change]) + tol:\n",
    "            break\n",
    "            \n",
    "    return estimator"
   ]
  },
  {
   "cell_type": "code",
   "execution_count": null,
   "id": "19148eb8-56cd-42e2-9558-fc0fd94160dd",
   "metadata": {},
   "outputs": [],
   "source": [
    "def load_model_fit_metrics(_model_names: list, _fit_id: int) -> DataFrame:\n",
    "    metrics_list: list = list()\n",
    "    for model_name in _model_names:\n",
    "        pickle_file_name = '{}/{}_{}_metrics.pkl'.format(MODEL_FITTING_RESULTS_DIR, _fit_id, model_name)\n",
    "        with open(pickle_file_name, 'rb') as f:\n",
    "            metrics = pickle.load(f)\n",
    "            metrics_list.append(metrics)\n",
    "        f.close()\n",
    "    return DataFrame(metrics_list)"
   ]
  },
  {
   "cell_type": "markdown",
   "id": "33d7f0f2-a2be-4def-b20b-05f0cde09a18",
   "metadata": {},
   "source": [
    "### Model fitting"
   ]
  },
  {
   "cell_type": "code",
   "execution_count": null,
   "id": "8492adfa-7d9d-4579-ade4-673abdfde99f",
   "metadata": {},
   "outputs": [],
   "source": [
    "# Iterate through all selected models\n",
    "fit_id = 0\n",
    "for model_details in modelling_setup:\n",
    "    model_name = model_details.get('name')\n",
    "\n",
    "    if model_name not in best_models_list:\n",
    "        continue\n",
    "\n",
    "    print('\\n{}-------------'.format(model_name))\n",
    "    clf_model = model_details.get('classifier')\n",
    "    model_hyper_parameters = best_params.get(model_name)\n",
    "\n",
    "    # Set the best parameters for the model\n",
    "    tuned_model = clf_model.set_params(**model_hyper_parameters)\n",
    "\n",
    "    # Record the start time\n",
    "    start_time = time.time()\n",
    "\n",
    "    # Fit training data to the tuned model with early stopping for tree-based models\n",
    "    if model_name in ['xgb', 'lgbm']:\n",
    "        # For tree-based models, try to use early stopping if available\n",
    "        try:\n",
    "            tuned_model.fit(X_train, y_train, \n",
    "                            eval_set=[(X_test, y_test)],\n",
    "                            early_stopping_rounds=10,\n",
    "                            verbose=False)\n",
    "        except TypeError:\n",
    "            # If early stopping is not available, fall back to regular fit\n",
    "            tuned_model.fit(X_train, y_train)\n",
    "            \n",
    "    else:\n",
    "        # For other models, just fit without early stopping\n",
    "        tuned_model.fit(X_train, y_train)\n",
    "\n",
    "    # Predict on the test set\n",
    "    y_pred = tuned_model.predict(X_test)\n",
    "    y_pred_proba = tuned_model.predict_proba(X_test)[:, 1] if hasattr(tuned_model, 'predict_proba') else y_pred\n",
    "\n",
    "    # Calculate the metrics\n",
    "    _accuracy = accuracy_score(y_test, y_pred)\n",
    "    _precision = precision_score(y_test, y_pred)\n",
    "    _recall = recall_score(y_test, y_pred)\n",
    "    _f1 = f1_score(y_test, y_pred)\n",
    "    _auc = roc_auc_score(y_test, y_pred_proba)\n",
    "\n",
    "    # Calculate the time taken\n",
    "    _time_taken = time.time() - start_time\n",
    "\n",
    "    # Store the metrics in a dictionary\n",
    "    metrics = {\n",
    "        'model name': model_name,\n",
    "        'accuracy': _accuracy,\n",
    "        'precision': _precision,\n",
    "        'recall': _recall,\n",
    "        'f1': _f1,\n",
    "        'roc_auc': _auc,\n",
    "        'time taken (seconds)': _time_taken\n",
    "    }\n",
    "\n",
    "    # Pickle the tuned model\n",
    "    with open('{}/{}_{}_tuned_model.pkl'.format(MODEL_FITTING_RESULTS_DIR, fit_id, model_name), 'wb') as f:\n",
    "        pickle.dump(tuned_model, f)\n",
    "\n",
    "    # Pickle the metrics\n",
    "    with open('{}/{}_{}_metrics.pkl'.format(MODEL_FITTING_RESULTS_DIR, fit_id, model_name), 'wb') as f:\n",
    "        pickle.dump(metrics, f)\n",
    "\n",
    "    print(f\"Model {model_name} trained, evaluated, and saved.\")"
   ]
  },
  {
   "cell_type": "markdown",
   "id": "3ff62e5d-9137-403a-b30a-a3791ad4eac0",
   "metadata": {
    "id": "3ff62e5d-9137-403a-b30a-a3791ad4eac0"
   },
   "source": [
    "### Model selection\n",
    "Thought process\n",
    "- Metric weights\n",
    "- Met"
   ]
  },
  {
   "cell_type": "code",
   "execution_count": null,
   "id": "f33e99b4-4440-4f07-9ac0-a971f8ab63e0",
   "metadata": {},
   "outputs": [],
   "source": [
    "# Step 1: Load pickled results and display as dataframe\n",
    "model_fit_metrics_df = load_model_fit_metrics(best_models_list, 0)\n",
    "model_fit_metrics_df"
   ]
  },
  {
   "cell_type": "code",
   "execution_count": null,
   "id": "332bad83-f2a8-49c0-81db-480e5eb425be",
   "metadata": {},
   "outputs": [],
   "source": [
    "# Step 2: Rank models and get the best 2\n",
    "best_fitted_models = get_best_models(model_fit_metrics_df, 2)\n",
    "best_fitted_models"
   ]
  },
  {
   "cell_type": "code",
   "execution_count": null,
   "id": "130675d9-981d-4aa1-a809-8b8bc001d8f2",
   "metadata": {},
   "outputs": [],
   "source": [
    "top_2_models = best_fitted_models['model name'].values.tolist()\n",
    "top_2_models"
   ]
  },
  {
   "cell_type": "code",
   "execution_count": null,
   "id": "f740604a-c806-4f28-b51b-da8797c2f600",
   "metadata": {},
   "outputs": [],
   "source": [
    "# Step 3: Test for overfitting and underfitting\n",
    "def evaluate_model(model, _X_train, _X_test, _y_train, _y_test):\n",
    "    train_pred = model.predict(_X_train)\n",
    "    test_pred = model.predict(_X_test)\n",
    "    train_auc = roc_auc_score(_y_train, model.predict_proba(_X_train)[:, 1])\n",
    "    test_auc = roc_auc_score(_y_test, model.predict_proba(_X_test)[:, 1])\n",
    "    return {\n",
    "        'train_accuracy': accuracy_score(y_train, train_pred),\n",
    "        'test_accuracy': accuracy_score(y_test, test_pred),\n",
    "        'train_auc': train_auc,\n",
    "        'test_auc': test_auc\n",
    "    }"
   ]
  },
  {
   "cell_type": "code",
   "execution_count": null,
   "id": "bd37dfe7-802d-4b49-bc05-1d73fd697724",
   "metadata": {},
   "outputs": [],
   "source": [
    "fit_id = 0\n",
    "evaluation_results = {}\n",
    "for model_name in top_2_models:\n",
    "    pickled_file_name = '{}/{}_{}_tuned_model.pkl'.format(MODEL_FITTING_RESULTS_DIR, fit_id, model_name)\n",
    "    with open(pickled_file_name, 'rb') as f:\n",
    "        model = pickle.load(f)\n",
    "    f.close()\n",
    "    evaluation_results[model_name] = evaluate_model(model, X_train, X_test, y_train, y_test)\n",
    "\n",
    "print(\"\\nEvaluation Results:\")\n",
    "DataFrame(evaluation_results).T"
   ]
  },
  {
   "cell_type": "code",
   "execution_count": null,
   "id": "a008a3d8-7553-4161-9d48-f07a7788eb06",
   "metadata": {},
   "outputs": [],
   "source": [
    "# Additional: Calculate and display Kolmogorov-Smirnov statistic\n",
    "def ks_statistic(y_true, y_pred_proba):\n",
    "    fpr, tpr, thresholds = roc_curve(y_true, y_pred_proba)\n",
    "    return max(tpr - fpr)\n",
    "\n",
    "ks_stat = ks_statistic(y_test, y_pred_proba)\n",
    "print(f\"\\nKolmogorov-Smirnov statistic: {ks_stat:.4f}\")"
   ]
  },
  {
   "cell_type": "code",
   "execution_count": null,
   "id": "0804e99a-1110-4e9c-8322-6aaba3c86d8b",
   "metadata": {},
   "outputs": [],
   "source": [
    "# Select the best model based on smallest gap between train and test AUC\n",
    "best_model_name = min(evaluation_results, key=lambda x: abs(evaluation_results[x]['train_auc'] - evaluation_results[x]['test_auc']))\n",
    "print(\"\\nBest model: {}\".format(best_model_name))"
   ]
  },
  {
   "cell_type": "code",
   "execution_count": null,
   "id": "be732030-b5d2-47ce-ab17-cc6bf472abc2",
   "metadata": {},
   "outputs": [],
   "source": [
    "with open('{}/{}_{}_tuned_model.pkl'.format(MODEL_FITTING_RESULTS_DIR, fit_id, best_model_name), 'rb') as f:\n",
    "    loan_default_model = pickle.load(f)\n",
    "f.close()\n",
    "loan_default_model"
   ]
  },
  {
   "cell_type": "markdown",
   "id": "f7e5f48c-bec3-495f-b525-a356a2ad7e72",
   "metadata": {
    "id": "f7e5f48c-bec3-495f-b525-a356a2ad7e72"
   },
   "source": [
    "### Model results display"
   ]
  },
  {
   "cell_type": "code",
   "execution_count": null,
   "id": "0473fb9b-b5aa-4e88-abbf-9b36caa4fcfc",
   "metadata": {
    "colab": {
     "base_uri": "https://localhost:8080/",
     "height": 564
    },
    "id": "0473fb9b-b5aa-4e88-abbf-9b36caa4fcfc",
    "outputId": "25a9a640-c0b4-4292-b159-b72425478641"
   },
   "outputs": [],
   "source": [
    "# Make predictions on the validation set\n",
    "y_pred_val = loan_default_model.predict(X_test)\n",
    "\n",
    "# Calculate the confusion matrix\n",
    "cm = confusion_matrix(y_test, y_pred_val)\n",
    "\n",
    "_viz_name = 'eda/confusion matrix.png'\n",
    "# Plot the confusion matrix\n",
    "plt.figure(figsize=(8, 6))\n",
    "sns.heatmap(cm, annot=True, cmap='Greens', fmt='g')\n",
    "plt.xlabel('Predicted')\n",
    "plt.ylabel('Actual')\n",
    "plt.title('Confusion Matrix')\n",
    "plt.savefig(_viz_name)\n",
    "# Display the image\n",
    "# Image(filename=_viz_name)"
   ]
  },
  {
   "cell_type": "code",
   "execution_count": null,
   "id": "9c45d653-50ce-4448-92d8-bd3100f1fe38",
   "metadata": {
    "colab": {
     "base_uri": "https://localhost:8080/",
     "height": 564
    },
    "id": "9c45d653-50ce-4448-92d8-bd3100f1fe38",
    "outputId": "1a49fc1e-9a0c-4769-db43-be9139893526"
   },
   "outputs": [],
   "source": [
    "# Make predictions on the validation set\n",
    "y_pred_val_proba = loan_default_model.predict_proba(X_test)[:, 1]  # Get the probability of default\n",
    "\n",
    "# Calculate the ROC curve and AUC\n",
    "fpr, tpr, thresholds = roc_curve(y_test, y_pred_val_proba)\n",
    "roc_auc = auc(fpr, tpr)\n",
    "\n",
    "# Plot the ROC curve\n",
    "_viz_name = 'eda/roc.png'\n",
    "plt.figure(figsize=(8, 6))\n",
    "plt.plot(fpr, tpr, color='darkorange', lw=2, label='ROC curve (AUC = %0.2f)' % roc_auc)\n",
    "plt.plot([0, 1], [0, 1], color='navy', lw=2, linestyle='--')\n",
    "plt.xlim([0.0, 1.0])\n",
    "plt.ylim([0.0, 1.05])\n",
    "plt.xlabel('False Positive Rate')\n",
    "plt.ylabel('True Positive Rate')\n",
    "plt.title('Receiver Operating Characteristic (ROC) Curve')\n",
    "plt.legend(loc=\"lower right\")\n",
    "plt.savefig(_viz_name)\n",
    "# Display the image\n",
    "# Image(filename=_viz_name)"
   ]
  },
  {
   "cell_type": "code",
   "execution_count": null,
   "id": "e54f2f5d-b93e-4071-848f-942965b4c19e",
   "metadata": {
    "colab": {
     "base_uri": "https://localhost:8080/",
     "height": 1000
    },
    "id": "e54f2f5d-b93e-4071-848f-942965b4c19e",
    "outputId": "b7873f3c-f32e-4c28-8b48-1bd809da7015"
   },
   "outputs": [],
   "source": [
    "# Plot the feature importance\n",
    "feature_importance = loan_default_model.feature_importances_\n",
    "feature_names = X_test.columns\n",
    "\n",
    "_viz_name = 'eda/feature importance.png'\n",
    "# \n",
    "plt.figure(figsize=(10, 20))\n",
    "plt.barh(feature_names, feature_importance)\n",
    "# plt.xticks(rotation=60)\n",
    "plt.ylabel('Feature')\n",
    "plt.xlabel('Importance')\n",
    "plt.title('Feature Importance')\n",
    "plt.savefig(_viz_name)\n",
    "# Display the image\n",
    "# Image(filename=_viz_name)"
   ]
  },
  {
   "cell_type": "markdown",
   "id": "0a4a3728-347e-474d-b187-e6324ae55501",
   "metadata": {
    "id": "7f504375-c750-47e6-ba7a-4c3e7ad391f1"
   },
   "source": [
    "# Save model\n",
    "\n",
    "- Training and storing the model and associated artifacts for future use, deployment, or further refinement."
   ]
  },
  {
   "cell_type": "markdown",
   "id": "2f15763b-30b3-4f8c-ab62-5fab6b129734",
   "metadata": {},
   "source": [
    "## Section helper methods"
   ]
  },
  {
   "cell_type": "code",
   "execution_count": null,
   "id": "8855cc05-9e6e-4bd1-853b-7befad0e7416",
   "metadata": {},
   "outputs": [],
   "source": [
    "def save_trained_model(_model, _model_name: str='loan_default_prediction'):\n",
    "    # Check for any models in model deployment directory\n",
    "    model_list = listdir(MODEL_DEPLOYMENT_DIR)\n",
    "\n",
    "    # When model list exists\n",
    "    check_name_count: int = 0\n",
    "    if model_list:\n",
    "        check_name_list = [model_name_ for model_name_ in model_list if _model_name in model_name_]\n",
    "        check_name_count = len(check_name_list)\n",
    "\n",
    "    # Indicate the nth of the coming report\n",
    "    check_name_count += 1\n",
    "    model_file_name = '{}/{}_{}.pkl'.format(MODEL_DEPLOYMENT_DIR, _model_name, check_name_count)\n",
    "    \n",
    "    # Save the model to a file\n",
    "    joblib.dump(_model, model_file_name)\n",
    "\n",
    "    # When report has been generated\n",
    "    if exists(model_file_name):\n",
    "        print('Model: {} successfully saved!'.format(model_file_name))\n",
    "\n",
    "    else:\n",
    "        print('No generated model!')"
   ]
  },
  {
   "cell_type": "markdown",
   "id": "1ad5189b-8969-4267-bf70-193c16f944e2",
   "metadata": {},
   "source": [
    "## Model saving process"
   ]
  },
  {
   "cell_type": "code",
   "execution_count": null,
   "id": "340395a8-cdff-483e-8ec1-bb4e639c2eaf",
   "metadata": {},
   "outputs": [],
   "source": [
    "save_trained_model(loan_default_model)"
   ]
  },
  {
   "cell_type": "code",
   "execution_count": null,
   "id": "648bf6da-4850-42ed-8752-dcaf066a4b65",
   "metadata": {},
   "outputs": [],
   "source": []
  }
 ],
 "metadata": {
  "colab": {
   "provenance": [],
   "toc_visible": true
  },
  "kernelspec": {
   "display_name": "Python 3 (ipykernel)",
   "language": "python",
   "name": "python3"
  },
  "language_info": {
   "codemirror_mode": {
    "name": "ipython",
    "version": 3
   },
   "file_extension": ".py",
   "mimetype": "text/x-python",
   "name": "python",
   "nbconvert_exporter": "python",
   "pygments_lexer": "ipython3",
   "version": "3.11.5"
  },
  "widgets": {
   "application/vnd.jupyter.widget-state+json": {
    "0330d5482d614f35b7e5c3e0ee246ffc": {
     "model_module": "@jupyter-widgets/controls",
     "model_module_version": "1.5.0",
     "model_name": "HTMLModel",
     "state": {
      "_dom_classes": [],
      "_model_module": "@jupyter-widgets/controls",
      "_model_module_version": "1.5.0",
      "_model_name": "HTMLModel",
      "_view_count": null,
      "_view_module": "@jupyter-widgets/controls",
      "_view_module_version": "1.5.0",
      "_view_name": "HTMLView",
      "description": "",
      "description_tooltip": null,
      "layout": "IPY_MODEL_384df1627e6f4b179241de2e4ca18a94",
      "placeholder": "​",
      "style": "IPY_MODEL_70b108c86bd645d0bc555761c032fbe7",
      "value": " 1/1 [00:15&lt;00:00, 15.85s/it]"
     }
    },
    "083f41add2ea4d18a41735923ff7b7a1": {
     "model_module": "@jupyter-widgets/controls",
     "model_module_version": "1.5.0",
     "model_name": "FloatProgressModel",
     "state": {
      "_dom_classes": [],
      "_model_module": "@jupyter-widgets/controls",
      "_model_module_version": "1.5.0",
      "_model_name": "FloatProgressModel",
      "_view_count": null,
      "_view_module": "@jupyter-widgets/controls",
      "_view_module_version": "1.5.0",
      "_view_name": "ProgressView",
      "bar_style": "success",
      "description": "",
      "description_tooltip": null,
      "layout": "IPY_MODEL_e974c2fb02d145a7bbb5fa570fcdddc5",
      "max": 1,
      "min": 0,
      "orientation": "horizontal",
      "style": "IPY_MODEL_375773d3cf5c40b4953d77e5de224034",
      "value": 1
     }
    },
    "089e3c335eeb415cb8324ade3970d16c": {
     "model_module": "@jupyter-widgets/controls",
     "model_module_version": "1.5.0",
     "model_name": "DescriptionStyleModel",
     "state": {
      "_model_module": "@jupyter-widgets/controls",
      "_model_module_version": "1.5.0",
      "_model_name": "DescriptionStyleModel",
      "_view_count": null,
      "_view_module": "@jupyter-widgets/base",
      "_view_module_version": "1.2.0",
      "_view_name": "StyleView",
      "description_width": ""
     }
    },
    "0bcc2b5495a34930aebb3815fc115cd4": {
     "model_module": "@jupyter-widgets/controls",
     "model_module_version": "1.5.0",
     "model_name": "DescriptionStyleModel",
     "state": {
      "_model_module": "@jupyter-widgets/controls",
      "_model_module_version": "1.5.0",
      "_model_name": "DescriptionStyleModel",
      "_view_count": null,
      "_view_module": "@jupyter-widgets/base",
      "_view_module_version": "1.2.0",
      "_view_name": "StyleView",
      "description_width": ""
     }
    },
    "0d3a6d285fdc43818ef4aca0938cdfc7": {
     "model_module": "@jupyter-widgets/controls",
     "model_module_version": "1.5.0",
     "model_name": "FloatProgressModel",
     "state": {
      "_dom_classes": [],
      "_model_module": "@jupyter-widgets/controls",
      "_model_module_version": "1.5.0",
      "_model_name": "FloatProgressModel",
      "_view_count": null,
      "_view_module": "@jupyter-widgets/controls",
      "_view_module_version": "1.5.0",
      "_view_name": "ProgressView",
      "bar_style": "success",
      "description": "",
      "description_tooltip": null,
      "layout": "IPY_MODEL_dcd69d732ef345c0b7644e8087dd9e11",
      "max": 5,
      "min": 0,
      "orientation": "horizontal",
      "style": "IPY_MODEL_74e6165d56814e6b9ba84f11b3982379",
      "value": 5
     }
    },
    "0ec49f08c32a45b2b14504dc86bf9e09": {
     "model_module": "@jupyter-widgets/controls",
     "model_module_version": "1.5.0",
     "model_name": "DescriptionStyleModel",
     "state": {
      "_model_module": "@jupyter-widgets/controls",
      "_model_module_version": "1.5.0",
      "_model_name": "DescriptionStyleModel",
      "_view_count": null,
      "_view_module": "@jupyter-widgets/base",
      "_view_module_version": "1.2.0",
      "_view_name": "StyleView",
      "description_width": ""
     }
    },
    "149f0e9c7c5c49718153f32dd371972b": {
     "model_module": "@jupyter-widgets/controls",
     "model_module_version": "1.5.0",
     "model_name": "DescriptionStyleModel",
     "state": {
      "_model_module": "@jupyter-widgets/controls",
      "_model_module_version": "1.5.0",
      "_model_name": "DescriptionStyleModel",
      "_view_count": null,
      "_view_module": "@jupyter-widgets/base",
      "_view_module_version": "1.2.0",
      "_view_name": "StyleView",
      "description_width": ""
     }
    },
    "1a9f0ffd007e43dd913d881bca308fbd": {
     "model_module": "@jupyter-widgets/base",
     "model_module_version": "1.2.0",
     "model_name": "LayoutModel",
     "state": {
      "_model_module": "@jupyter-widgets/base",
      "_model_module_version": "1.2.0",
      "_model_name": "LayoutModel",
      "_view_count": null,
      "_view_module": "@jupyter-widgets/base",
      "_view_module_version": "1.2.0",
      "_view_name": "LayoutView",
      "align_content": null,
      "align_items": null,
      "align_self": null,
      "border": null,
      "bottom": null,
      "display": null,
      "flex": null,
      "flex_flow": null,
      "grid_area": null,
      "grid_auto_columns": null,
      "grid_auto_flow": null,
      "grid_auto_rows": null,
      "grid_column": null,
      "grid_gap": null,
      "grid_row": null,
      "grid_template_areas": null,
      "grid_template_columns": null,
      "grid_template_rows": null,
      "height": null,
      "justify_content": null,
      "justify_items": null,
      "left": null,
      "margin": null,
      "max_height": null,
      "max_width": null,
      "min_height": null,
      "min_width": null,
      "object_fit": null,
      "object_position": null,
      "order": null,
      "overflow": null,
      "overflow_x": null,
      "overflow_y": null,
      "padding": null,
      "right": null,
      "top": null,
      "visibility": null,
      "width": null
     }
    },
    "22afb613ad7e4297ad432aa59cdf5e16": {
     "model_module": "@jupyter-widgets/base",
     "model_module_version": "1.2.0",
     "model_name": "LayoutModel",
     "state": {
      "_model_module": "@jupyter-widgets/base",
      "_model_module_version": "1.2.0",
      "_model_name": "LayoutModel",
      "_view_count": null,
      "_view_module": "@jupyter-widgets/base",
      "_view_module_version": "1.2.0",
      "_view_name": "LayoutView",
      "align_content": null,
      "align_items": null,
      "align_self": null,
      "border": null,
      "bottom": null,
      "display": null,
      "flex": null,
      "flex_flow": null,
      "grid_area": null,
      "grid_auto_columns": null,
      "grid_auto_flow": null,
      "grid_auto_rows": null,
      "grid_column": null,
      "grid_gap": null,
      "grid_row": null,
      "grid_template_areas": null,
      "grid_template_columns": null,
      "grid_template_rows": null,
      "height": null,
      "justify_content": null,
      "justify_items": null,
      "left": null,
      "margin": null,
      "max_height": null,
      "max_width": null,
      "min_height": null,
      "min_width": null,
      "object_fit": null,
      "object_position": null,
      "order": null,
      "overflow": null,
      "overflow_x": null,
      "overflow_y": null,
      "padding": null,
      "right": null,
      "top": null,
      "visibility": null,
      "width": null
     }
    },
    "23e324f7f089460ea1d8ef39eed9b1af": {
     "model_module": "@jupyter-widgets/base",
     "model_module_version": "1.2.0",
     "model_name": "LayoutModel",
     "state": {
      "_model_module": "@jupyter-widgets/base",
      "_model_module_version": "1.2.0",
      "_model_name": "LayoutModel",
      "_view_count": null,
      "_view_module": "@jupyter-widgets/base",
      "_view_module_version": "1.2.0",
      "_view_name": "LayoutView",
      "align_content": null,
      "align_items": null,
      "align_self": null,
      "border": null,
      "bottom": null,
      "display": null,
      "flex": null,
      "flex_flow": null,
      "grid_area": null,
      "grid_auto_columns": null,
      "grid_auto_flow": null,
      "grid_auto_rows": null,
      "grid_column": null,
      "grid_gap": null,
      "grid_row": null,
      "grid_template_areas": null,
      "grid_template_columns": null,
      "grid_template_rows": null,
      "height": null,
      "justify_content": null,
      "justify_items": null,
      "left": null,
      "margin": null,
      "max_height": null,
      "max_width": null,
      "min_height": null,
      "min_width": null,
      "object_fit": null,
      "object_position": null,
      "order": null,
      "overflow": null,
      "overflow_x": null,
      "overflow_y": null,
      "padding": null,
      "right": null,
      "top": null,
      "visibility": null,
      "width": null
     }
    },
    "26ac77f60e054c90813280bc11b1138c": {
     "model_module": "@jupyter-widgets/controls",
     "model_module_version": "1.5.0",
     "model_name": "HBoxModel",
     "state": {
      "_dom_classes": [],
      "_model_module": "@jupyter-widgets/controls",
      "_model_module_version": "1.5.0",
      "_model_name": "HBoxModel",
      "_view_count": null,
      "_view_module": "@jupyter-widgets/controls",
      "_view_module_version": "1.5.0",
      "_view_name": "HBoxView",
      "box_style": "",
      "children": [
       "IPY_MODEL_cd21268a81d040f8af247765cb1a65e8",
       "IPY_MODEL_54134c9eb30647e7983f6207373e1bdb",
       "IPY_MODEL_ca089d2a8edc47a8b9ea4814116bc931"
      ],
      "layout": "IPY_MODEL_f359324a7e0d4103981301e817a21cb4"
     }
    },
    "26b3135413b9480795b3b4c9cd7930ff": {
     "model_module": "@jupyter-widgets/controls",
     "model_module_version": "1.5.0",
     "model_name": "FloatProgressModel",
     "state": {
      "_dom_classes": [],
      "_model_module": "@jupyter-widgets/controls",
      "_model_module_version": "1.5.0",
      "_model_name": "FloatProgressModel",
      "_view_count": null,
      "_view_module": "@jupyter-widgets/controls",
      "_view_module_version": "1.5.0",
      "_view_name": "ProgressView",
      "bar_style": "success",
      "description": "",
      "description_tooltip": null,
      "layout": "IPY_MODEL_3f5a7801392f4338b9d6126983db7c31",
      "max": 1,
      "min": 0,
      "orientation": "horizontal",
      "style": "IPY_MODEL_9fedabdd372c46fe8557ddae204b88b1",
      "value": 1
     }
    },
    "286a7c56a3024421a1d247ff4f3d5433": {
     "model_module": "@jupyter-widgets/base",
     "model_module_version": "1.2.0",
     "model_name": "LayoutModel",
     "state": {
      "_model_module": "@jupyter-widgets/base",
      "_model_module_version": "1.2.0",
      "_model_name": "LayoutModel",
      "_view_count": null,
      "_view_module": "@jupyter-widgets/base",
      "_view_module_version": "1.2.0",
      "_view_name": "LayoutView",
      "align_content": null,
      "align_items": null,
      "align_self": null,
      "border": null,
      "bottom": null,
      "display": null,
      "flex": null,
      "flex_flow": null,
      "grid_area": null,
      "grid_auto_columns": null,
      "grid_auto_flow": null,
      "grid_auto_rows": null,
      "grid_column": null,
      "grid_gap": null,
      "grid_row": null,
      "grid_template_areas": null,
      "grid_template_columns": null,
      "grid_template_rows": null,
      "height": null,
      "justify_content": null,
      "justify_items": null,
      "left": null,
      "margin": null,
      "max_height": null,
      "max_width": null,
      "min_height": null,
      "min_width": null,
      "object_fit": null,
      "object_position": null,
      "order": null,
      "overflow": null,
      "overflow_x": null,
      "overflow_y": null,
      "padding": null,
      "right": null,
      "top": null,
      "visibility": null,
      "width": null
     }
    },
    "37143584cd35431ca5f3f04b244706bb": {
     "model_module": "@jupyter-widgets/base",
     "model_module_version": "1.2.0",
     "model_name": "LayoutModel",
     "state": {
      "_model_module": "@jupyter-widgets/base",
      "_model_module_version": "1.2.0",
      "_model_name": "LayoutModel",
      "_view_count": null,
      "_view_module": "@jupyter-widgets/base",
      "_view_module_version": "1.2.0",
      "_view_name": "LayoutView",
      "align_content": null,
      "align_items": null,
      "align_self": null,
      "border": null,
      "bottom": null,
      "display": null,
      "flex": null,
      "flex_flow": null,
      "grid_area": null,
      "grid_auto_columns": null,
      "grid_auto_flow": null,
      "grid_auto_rows": null,
      "grid_column": null,
      "grid_gap": null,
      "grid_row": null,
      "grid_template_areas": null,
      "grid_template_columns": null,
      "grid_template_rows": null,
      "height": null,
      "justify_content": null,
      "justify_items": null,
      "left": null,
      "margin": null,
      "max_height": null,
      "max_width": null,
      "min_height": null,
      "min_width": null,
      "object_fit": null,
      "object_position": null,
      "order": null,
      "overflow": null,
      "overflow_x": null,
      "overflow_y": null,
      "padding": null,
      "right": null,
      "top": null,
      "visibility": null,
      "width": null
     }
    },
    "375773d3cf5c40b4953d77e5de224034": {
     "model_module": "@jupyter-widgets/controls",
     "model_module_version": "1.5.0",
     "model_name": "ProgressStyleModel",
     "state": {
      "_model_module": "@jupyter-widgets/controls",
      "_model_module_version": "1.5.0",
      "_model_name": "ProgressStyleModel",
      "_view_count": null,
      "_view_module": "@jupyter-widgets/base",
      "_view_module_version": "1.2.0",
      "_view_name": "StyleView",
      "bar_color": null,
      "description_width": ""
     }
    },
    "384df1627e6f4b179241de2e4ca18a94": {
     "model_module": "@jupyter-widgets/base",
     "model_module_version": "1.2.0",
     "model_name": "LayoutModel",
     "state": {
      "_model_module": "@jupyter-widgets/base",
      "_model_module_version": "1.2.0",
      "_model_name": "LayoutModel",
      "_view_count": null,
      "_view_module": "@jupyter-widgets/base",
      "_view_module_version": "1.2.0",
      "_view_name": "LayoutView",
      "align_content": null,
      "align_items": null,
      "align_self": null,
      "border": null,
      "bottom": null,
      "display": null,
      "flex": null,
      "flex_flow": null,
      "grid_area": null,
      "grid_auto_columns": null,
      "grid_auto_flow": null,
      "grid_auto_rows": null,
      "grid_column": null,
      "grid_gap": null,
      "grid_row": null,
      "grid_template_areas": null,
      "grid_template_columns": null,
      "grid_template_rows": null,
      "height": null,
      "justify_content": null,
      "justify_items": null,
      "left": null,
      "margin": null,
      "max_height": null,
      "max_width": null,
      "min_height": null,
      "min_width": null,
      "object_fit": null,
      "object_position": null,
      "order": null,
      "overflow": null,
      "overflow_x": null,
      "overflow_y": null,
      "padding": null,
      "right": null,
      "top": null,
      "visibility": null,
      "width": null
     }
    },
    "3b04b177a85a46dc9a00a7fefeb88735": {
     "model_module": "@jupyter-widgets/controls",
     "model_module_version": "1.5.0",
     "model_name": "HBoxModel",
     "state": {
      "_dom_classes": [],
      "_model_module": "@jupyter-widgets/controls",
      "_model_module_version": "1.5.0",
      "_model_name": "HBoxModel",
      "_view_count": null,
      "_view_module": "@jupyter-widgets/controls",
      "_view_module_version": "1.5.0",
      "_view_name": "HBoxView",
      "box_style": "",
      "children": [
       "IPY_MODEL_5e0f62774a9d46c79c19fd69d26bb32b",
       "IPY_MODEL_0d3a6d285fdc43818ef4aca0938cdfc7",
       "IPY_MODEL_e0b35d9dbe4f453484bc463e6433bf3b"
      ],
      "layout": "IPY_MODEL_dc38356c269445e6b015c522d912c0dd"
     }
    },
    "3f5a7801392f4338b9d6126983db7c31": {
     "model_module": "@jupyter-widgets/base",
     "model_module_version": "1.2.0",
     "model_name": "LayoutModel",
     "state": {
      "_model_module": "@jupyter-widgets/base",
      "_model_module_version": "1.2.0",
      "_model_name": "LayoutModel",
      "_view_count": null,
      "_view_module": "@jupyter-widgets/base",
      "_view_module_version": "1.2.0",
      "_view_name": "LayoutView",
      "align_content": null,
      "align_items": null,
      "align_self": null,
      "border": null,
      "bottom": null,
      "display": null,
      "flex": null,
      "flex_flow": null,
      "grid_area": null,
      "grid_auto_columns": null,
      "grid_auto_flow": null,
      "grid_auto_rows": null,
      "grid_column": null,
      "grid_gap": null,
      "grid_row": null,
      "grid_template_areas": null,
      "grid_template_columns": null,
      "grid_template_rows": null,
      "height": null,
      "justify_content": null,
      "justify_items": null,
      "left": null,
      "margin": null,
      "max_height": null,
      "max_width": null,
      "min_height": null,
      "min_width": null,
      "object_fit": null,
      "object_position": null,
      "order": null,
      "overflow": null,
      "overflow_x": null,
      "overflow_y": null,
      "padding": null,
      "right": null,
      "top": null,
      "visibility": null,
      "width": null
     }
    },
    "41ddd427a57045219ded345ed6ffc62e": {
     "model_module": "@jupyter-widgets/base",
     "model_module_version": "1.2.0",
     "model_name": "LayoutModel",
     "state": {
      "_model_module": "@jupyter-widgets/base",
      "_model_module_version": "1.2.0",
      "_model_name": "LayoutModel",
      "_view_count": null,
      "_view_module": "@jupyter-widgets/base",
      "_view_module_version": "1.2.0",
      "_view_name": "LayoutView",
      "align_content": null,
      "align_items": null,
      "align_self": null,
      "border": null,
      "bottom": null,
      "display": null,
      "flex": null,
      "flex_flow": null,
      "grid_area": null,
      "grid_auto_columns": null,
      "grid_auto_flow": null,
      "grid_auto_rows": null,
      "grid_column": null,
      "grid_gap": null,
      "grid_row": null,
      "grid_template_areas": null,
      "grid_template_columns": null,
      "grid_template_rows": null,
      "height": null,
      "justify_content": null,
      "justify_items": null,
      "left": null,
      "margin": null,
      "max_height": null,
      "max_width": null,
      "min_height": null,
      "min_width": null,
      "object_fit": null,
      "object_position": null,
      "order": null,
      "overflow": null,
      "overflow_x": null,
      "overflow_y": null,
      "padding": null,
      "right": null,
      "top": null,
      "visibility": null,
      "width": null
     }
    },
    "4619d240852445c69cc2a15fc66ed8a8": {
     "model_module": "@jupyter-widgets/base",
     "model_module_version": "1.2.0",
     "model_name": "LayoutModel",
     "state": {
      "_model_module": "@jupyter-widgets/base",
      "_model_module_version": "1.2.0",
      "_model_name": "LayoutModel",
      "_view_count": null,
      "_view_module": "@jupyter-widgets/base",
      "_view_module_version": "1.2.0",
      "_view_name": "LayoutView",
      "align_content": null,
      "align_items": null,
      "align_self": null,
      "border": null,
      "bottom": null,
      "display": null,
      "flex": null,
      "flex_flow": null,
      "grid_area": null,
      "grid_auto_columns": null,
      "grid_auto_flow": null,
      "grid_auto_rows": null,
      "grid_column": null,
      "grid_gap": null,
      "grid_row": null,
      "grid_template_areas": null,
      "grid_template_columns": null,
      "grid_template_rows": null,
      "height": null,
      "justify_content": null,
      "justify_items": null,
      "left": null,
      "margin": null,
      "max_height": null,
      "max_width": null,
      "min_height": null,
      "min_width": null,
      "object_fit": null,
      "object_position": null,
      "order": null,
      "overflow": null,
      "overflow_x": null,
      "overflow_y": null,
      "padding": null,
      "right": null,
      "top": null,
      "visibility": null,
      "width": null
     }
    },
    "515720a6f5664c6f831a632914dce6fb": {
     "model_module": "@jupyter-widgets/base",
     "model_module_version": "1.2.0",
     "model_name": "LayoutModel",
     "state": {
      "_model_module": "@jupyter-widgets/base",
      "_model_module_version": "1.2.0",
      "_model_name": "LayoutModel",
      "_view_count": null,
      "_view_module": "@jupyter-widgets/base",
      "_view_module_version": "1.2.0",
      "_view_name": "LayoutView",
      "align_content": null,
      "align_items": null,
      "align_self": null,
      "border": null,
      "bottom": null,
      "display": null,
      "flex": null,
      "flex_flow": null,
      "grid_area": null,
      "grid_auto_columns": null,
      "grid_auto_flow": null,
      "grid_auto_rows": null,
      "grid_column": null,
      "grid_gap": null,
      "grid_row": null,
      "grid_template_areas": null,
      "grid_template_columns": null,
      "grid_template_rows": null,
      "height": null,
      "justify_content": null,
      "justify_items": null,
      "left": null,
      "margin": null,
      "max_height": null,
      "max_width": null,
      "min_height": null,
      "min_width": null,
      "object_fit": null,
      "object_position": null,
      "order": null,
      "overflow": null,
      "overflow_x": null,
      "overflow_y": null,
      "padding": null,
      "right": null,
      "top": null,
      "visibility": null,
      "width": null
     }
    },
    "54134c9eb30647e7983f6207373e1bdb": {
     "model_module": "@jupyter-widgets/controls",
     "model_module_version": "1.5.0",
     "model_name": "FloatProgressModel",
     "state": {
      "_dom_classes": [],
      "_model_module": "@jupyter-widgets/controls",
      "_model_module_version": "1.5.0",
      "_model_name": "FloatProgressModel",
      "_view_count": null,
      "_view_module": "@jupyter-widgets/controls",
      "_view_module_version": "1.5.0",
      "_view_name": "ProgressView",
      "bar_style": "success",
      "description": "",
      "description_tooltip": null,
      "layout": "IPY_MODEL_8278a79c963543b292564c5aef153857",
      "max": 1,
      "min": 0,
      "orientation": "horizontal",
      "style": "IPY_MODEL_e8c9a834fc064cd6aca0e335c9d33031",
      "value": 1
     }
    },
    "5432858dd5104506abc0659cd832861e": {
     "model_module": "@jupyter-widgets/base",
     "model_module_version": "1.2.0",
     "model_name": "LayoutModel",
     "state": {
      "_model_module": "@jupyter-widgets/base",
      "_model_module_version": "1.2.0",
      "_model_name": "LayoutModel",
      "_view_count": null,
      "_view_module": "@jupyter-widgets/base",
      "_view_module_version": "1.2.0",
      "_view_name": "LayoutView",
      "align_content": null,
      "align_items": null,
      "align_self": null,
      "border": null,
      "bottom": null,
      "display": null,
      "flex": null,
      "flex_flow": null,
      "grid_area": null,
      "grid_auto_columns": null,
      "grid_auto_flow": null,
      "grid_auto_rows": null,
      "grid_column": null,
      "grid_gap": null,
      "grid_row": null,
      "grid_template_areas": null,
      "grid_template_columns": null,
      "grid_template_rows": null,
      "height": null,
      "justify_content": null,
      "justify_items": null,
      "left": null,
      "margin": null,
      "max_height": null,
      "max_width": null,
      "min_height": null,
      "min_width": null,
      "object_fit": null,
      "object_position": null,
      "order": null,
      "overflow": null,
      "overflow_x": null,
      "overflow_y": null,
      "padding": null,
      "right": null,
      "top": null,
      "visibility": null,
      "width": null
     }
    },
    "5d76d8484c8a48c8aeb095126f001d68": {
     "model_module": "@jupyter-widgets/base",
     "model_module_version": "1.2.0",
     "model_name": "LayoutModel",
     "state": {
      "_model_module": "@jupyter-widgets/base",
      "_model_module_version": "1.2.0",
      "_model_name": "LayoutModel",
      "_view_count": null,
      "_view_module": "@jupyter-widgets/base",
      "_view_module_version": "1.2.0",
      "_view_name": "LayoutView",
      "align_content": null,
      "align_items": null,
      "align_self": null,
      "border": null,
      "bottom": null,
      "display": null,
      "flex": null,
      "flex_flow": null,
      "grid_area": null,
      "grid_auto_columns": null,
      "grid_auto_flow": null,
      "grid_auto_rows": null,
      "grid_column": null,
      "grid_gap": null,
      "grid_row": null,
      "grid_template_areas": null,
      "grid_template_columns": null,
      "grid_template_rows": null,
      "height": null,
      "justify_content": null,
      "justify_items": null,
      "left": null,
      "margin": null,
      "max_height": null,
      "max_width": null,
      "min_height": null,
      "min_width": null,
      "object_fit": null,
      "object_position": null,
      "order": null,
      "overflow": null,
      "overflow_x": null,
      "overflow_y": null,
      "padding": null,
      "right": null,
      "top": null,
      "visibility": null,
      "width": null
     }
    },
    "5e0f62774a9d46c79c19fd69d26bb32b": {
     "model_module": "@jupyter-widgets/controls",
     "model_module_version": "1.5.0",
     "model_name": "HTMLModel",
     "state": {
      "_dom_classes": [],
      "_model_module": "@jupyter-widgets/controls",
      "_model_module_version": "1.5.0",
      "_model_name": "HTMLModel",
      "_view_count": null,
      "_view_module": "@jupyter-widgets/controls",
      "_view_module_version": "1.5.0",
      "_view_name": "HTMLView",
      "description": "",
      "description_tooltip": null,
      "layout": "IPY_MODEL_7577af45129a4b62850bbba3f2eae43e",
      "placeholder": "​",
      "style": "IPY_MODEL_c5f64fa706bd498093a62496ed0fb3ba",
      "value": "Summarize dataset: 100%"
     }
    },
    "5e8d7a93949745379e42c82ea7852d6d": {
     "model_module": "@jupyter-widgets/controls",
     "model_module_version": "1.5.0",
     "model_name": "DescriptionStyleModel",
     "state": {
      "_model_module": "@jupyter-widgets/controls",
      "_model_module_version": "1.5.0",
      "_model_name": "DescriptionStyleModel",
      "_view_count": null,
      "_view_module": "@jupyter-widgets/base",
      "_view_module_version": "1.2.0",
      "_view_name": "StyleView",
      "description_width": ""
     }
    },
    "60c68a29bbb740c7bd95fa43b3c46b99": {
     "model_module": "@jupyter-widgets/base",
     "model_module_version": "1.2.0",
     "model_name": "LayoutModel",
     "state": {
      "_model_module": "@jupyter-widgets/base",
      "_model_module_version": "1.2.0",
      "_model_name": "LayoutModel",
      "_view_count": null,
      "_view_module": "@jupyter-widgets/base",
      "_view_module_version": "1.2.0",
      "_view_name": "LayoutView",
      "align_content": null,
      "align_items": null,
      "align_self": null,
      "border": null,
      "bottom": null,
      "display": null,
      "flex": null,
      "flex_flow": null,
      "grid_area": null,
      "grid_auto_columns": null,
      "grid_auto_flow": null,
      "grid_auto_rows": null,
      "grid_column": null,
      "grid_gap": null,
      "grid_row": null,
      "grid_template_areas": null,
      "grid_template_columns": null,
      "grid_template_rows": null,
      "height": null,
      "justify_content": null,
      "justify_items": null,
      "left": null,
      "margin": null,
      "max_height": null,
      "max_width": null,
      "min_height": null,
      "min_width": null,
      "object_fit": null,
      "object_position": null,
      "order": null,
      "overflow": null,
      "overflow_x": null,
      "overflow_y": null,
      "padding": null,
      "right": null,
      "top": null,
      "visibility": null,
      "width": null
     }
    },
    "6379f2ab00a246e78d309766e3a5953f": {
     "model_module": "@jupyter-widgets/controls",
     "model_module_version": "1.5.0",
     "model_name": "DescriptionStyleModel",
     "state": {
      "_model_module": "@jupyter-widgets/controls",
      "_model_module_version": "1.5.0",
      "_model_name": "DescriptionStyleModel",
      "_view_count": null,
      "_view_module": "@jupyter-widgets/base",
      "_view_module_version": "1.2.0",
      "_view_name": "StyleView",
      "description_width": ""
     }
    },
    "64d48c63eafa4018b590a15f8f3fb4d7": {
     "model_module": "@jupyter-widgets/controls",
     "model_module_version": "1.5.0",
     "model_name": "FloatProgressModel",
     "state": {
      "_dom_classes": [],
      "_model_module": "@jupyter-widgets/controls",
      "_model_module_version": "1.5.0",
      "_model_name": "FloatProgressModel",
      "_view_count": null,
      "_view_module": "@jupyter-widgets/controls",
      "_view_module_version": "1.5.0",
      "_view_name": "ProgressView",
      "bar_style": "success",
      "description": "",
      "description_tooltip": null,
      "layout": "IPY_MODEL_4619d240852445c69cc2a15fc66ed8a8",
      "max": 1,
      "min": 0,
      "orientation": "horizontal",
      "style": "IPY_MODEL_a820e265bcfd41578ad44d64f264fa50",
      "value": 1
     }
    },
    "65f1946b061048f58b4ec6793d62b17f": {
     "model_module": "@jupyter-widgets/controls",
     "model_module_version": "1.5.0",
     "model_name": "FloatProgressModel",
     "state": {
      "_dom_classes": [],
      "_model_module": "@jupyter-widgets/controls",
      "_model_module_version": "1.5.0",
      "_model_name": "FloatProgressModel",
      "_view_count": null,
      "_view_module": "@jupyter-widgets/controls",
      "_view_module_version": "1.5.0",
      "_view_name": "ProgressView",
      "bar_style": "success",
      "description": "",
      "description_tooltip": null,
      "layout": "IPY_MODEL_22afb613ad7e4297ad432aa59cdf5e16",
      "max": 1,
      "min": 0,
      "orientation": "horizontal",
      "style": "IPY_MODEL_db50018bcc054ff68b2c76e2d1a5084d",
      "value": 1
     }
    },
    "70b108c86bd645d0bc555761c032fbe7": {
     "model_module": "@jupyter-widgets/controls",
     "model_module_version": "1.5.0",
     "model_name": "DescriptionStyleModel",
     "state": {
      "_model_module": "@jupyter-widgets/controls",
      "_model_module_version": "1.5.0",
      "_model_name": "DescriptionStyleModel",
      "_view_count": null,
      "_view_module": "@jupyter-widgets/base",
      "_view_module_version": "1.2.0",
      "_view_name": "StyleView",
      "description_width": ""
     }
    },
    "730de23d00ce4c8dbbc7cfaff06ef9c4": {
     "model_module": "@jupyter-widgets/controls",
     "model_module_version": "1.5.0",
     "model_name": "HTMLModel",
     "state": {
      "_dom_classes": [],
      "_model_module": "@jupyter-widgets/controls",
      "_model_module_version": "1.5.0",
      "_model_name": "HTMLModel",
      "_view_count": null,
      "_view_module": "@jupyter-widgets/controls",
      "_view_module_version": "1.5.0",
      "_view_name": "HTMLView",
      "description": "",
      "description_tooltip": null,
      "layout": "IPY_MODEL_af21cd7e8f1a456aa729710cdc1ccf1c",
      "placeholder": "​",
      "style": "IPY_MODEL_089e3c335eeb415cb8324ade3970d16c",
      "value": "Generate report structure: 100%"
     }
    },
    "74e6165d56814e6b9ba84f11b3982379": {
     "model_module": "@jupyter-widgets/controls",
     "model_module_version": "1.5.0",
     "model_name": "ProgressStyleModel",
     "state": {
      "_model_module": "@jupyter-widgets/controls",
      "_model_module_version": "1.5.0",
      "_model_name": "ProgressStyleModel",
      "_view_count": null,
      "_view_module": "@jupyter-widgets/base",
      "_view_module_version": "1.2.0",
      "_view_name": "StyleView",
      "bar_color": null,
      "description_width": ""
     }
    },
    "7577af45129a4b62850bbba3f2eae43e": {
     "model_module": "@jupyter-widgets/base",
     "model_module_version": "1.2.0",
     "model_name": "LayoutModel",
     "state": {
      "_model_module": "@jupyter-widgets/base",
      "_model_module_version": "1.2.0",
      "_model_name": "LayoutModel",
      "_view_count": null,
      "_view_module": "@jupyter-widgets/base",
      "_view_module_version": "1.2.0",
      "_view_name": "LayoutView",
      "align_content": null,
      "align_items": null,
      "align_self": null,
      "border": null,
      "bottom": null,
      "display": null,
      "flex": null,
      "flex_flow": null,
      "grid_area": null,
      "grid_auto_columns": null,
      "grid_auto_flow": null,
      "grid_auto_rows": null,
      "grid_column": null,
      "grid_gap": null,
      "grid_row": null,
      "grid_template_areas": null,
      "grid_template_columns": null,
      "grid_template_rows": null,
      "height": null,
      "justify_content": null,
      "justify_items": null,
      "left": null,
      "margin": null,
      "max_height": null,
      "max_width": null,
      "min_height": null,
      "min_width": null,
      "object_fit": null,
      "object_position": null,
      "order": null,
      "overflow": null,
      "overflow_x": null,
      "overflow_y": null,
      "padding": null,
      "right": null,
      "top": null,
      "visibility": null,
      "width": null
     }
    },
    "7ebb017cae2d4ceb97576d2a2581857a": {
     "model_module": "@jupyter-widgets/base",
     "model_module_version": "1.2.0",
     "model_name": "LayoutModel",
     "state": {
      "_model_module": "@jupyter-widgets/base",
      "_model_module_version": "1.2.0",
      "_model_name": "LayoutModel",
      "_view_count": null,
      "_view_module": "@jupyter-widgets/base",
      "_view_module_version": "1.2.0",
      "_view_name": "LayoutView",
      "align_content": null,
      "align_items": null,
      "align_self": null,
      "border": null,
      "bottom": null,
      "display": null,
      "flex": null,
      "flex_flow": null,
      "grid_area": null,
      "grid_auto_columns": null,
      "grid_auto_flow": null,
      "grid_auto_rows": null,
      "grid_column": null,
      "grid_gap": null,
      "grid_row": null,
      "grid_template_areas": null,
      "grid_template_columns": null,
      "grid_template_rows": null,
      "height": null,
      "justify_content": null,
      "justify_items": null,
      "left": null,
      "margin": null,
      "max_height": null,
      "max_width": null,
      "min_height": null,
      "min_width": null,
      "object_fit": null,
      "object_position": null,
      "order": null,
      "overflow": null,
      "overflow_x": null,
      "overflow_y": null,
      "padding": null,
      "right": null,
      "top": null,
      "visibility": null,
      "width": null
     }
    },
    "80cf7db3d97a42ce9441485586f13cbb": {
     "model_module": "@jupyter-widgets/controls",
     "model_module_version": "1.5.0",
     "model_name": "HTMLModel",
     "state": {
      "_dom_classes": [],
      "_model_module": "@jupyter-widgets/controls",
      "_model_module_version": "1.5.0",
      "_model_name": "HTMLModel",
      "_view_count": null,
      "_view_module": "@jupyter-widgets/controls",
      "_view_module_version": "1.5.0",
      "_view_name": "HTMLView",
      "description": "",
      "description_tooltip": null,
      "layout": "IPY_MODEL_db62a19e5cbd4139a80430058e0f7db4",
      "placeholder": "​",
      "style": "IPY_MODEL_6379f2ab00a246e78d309766e3a5953f",
      "value": "Export report to file: 100%"
     }
    },
    "8278a79c963543b292564c5aef153857": {
     "model_module": "@jupyter-widgets/base",
     "model_module_version": "1.2.0",
     "model_name": "LayoutModel",
     "state": {
      "_model_module": "@jupyter-widgets/base",
      "_model_module_version": "1.2.0",
      "_model_name": "LayoutModel",
      "_view_count": null,
      "_view_module": "@jupyter-widgets/base",
      "_view_module_version": "1.2.0",
      "_view_name": "LayoutView",
      "align_content": null,
      "align_items": null,
      "align_self": null,
      "border": null,
      "bottom": null,
      "display": null,
      "flex": null,
      "flex_flow": null,
      "grid_area": null,
      "grid_auto_columns": null,
      "grid_auto_flow": null,
      "grid_auto_rows": null,
      "grid_column": null,
      "grid_gap": null,
      "grid_row": null,
      "grid_template_areas": null,
      "grid_template_columns": null,
      "grid_template_rows": null,
      "height": null,
      "justify_content": null,
      "justify_items": null,
      "left": null,
      "margin": null,
      "max_height": null,
      "max_width": null,
      "min_height": null,
      "min_width": null,
      "object_fit": null,
      "object_position": null,
      "order": null,
      "overflow": null,
      "overflow_x": null,
      "overflow_y": null,
      "padding": null,
      "right": null,
      "top": null,
      "visibility": null,
      "width": null
     }
    },
    "829ef518cb9249238e16cb0dec280422": {
     "model_module": "@jupyter-widgets/base",
     "model_module_version": "1.2.0",
     "model_name": "LayoutModel",
     "state": {
      "_model_module": "@jupyter-widgets/base",
      "_model_module_version": "1.2.0",
      "_model_name": "LayoutModel",
      "_view_count": null,
      "_view_module": "@jupyter-widgets/base",
      "_view_module_version": "1.2.0",
      "_view_name": "LayoutView",
      "align_content": null,
      "align_items": null,
      "align_self": null,
      "border": null,
      "bottom": null,
      "display": null,
      "flex": null,
      "flex_flow": null,
      "grid_area": null,
      "grid_auto_columns": null,
      "grid_auto_flow": null,
      "grid_auto_rows": null,
      "grid_column": null,
      "grid_gap": null,
      "grid_row": null,
      "grid_template_areas": null,
      "grid_template_columns": null,
      "grid_template_rows": null,
      "height": null,
      "justify_content": null,
      "justify_items": null,
      "left": null,
      "margin": null,
      "max_height": null,
      "max_width": null,
      "min_height": null,
      "min_width": null,
      "object_fit": null,
      "object_position": null,
      "order": null,
      "overflow": null,
      "overflow_x": null,
      "overflow_y": null,
      "padding": null,
      "right": null,
      "top": null,
      "visibility": null,
      "width": null
     }
    },
    "82af241d38d44131a33154180337699f": {
     "model_module": "@jupyter-widgets/controls",
     "model_module_version": "1.5.0",
     "model_name": "HBoxModel",
     "state": {
      "_dom_classes": [],
      "_model_module": "@jupyter-widgets/controls",
      "_model_module_version": "1.5.0",
      "_model_name": "HBoxModel",
      "_view_count": null,
      "_view_module": "@jupyter-widgets/controls",
      "_view_module_version": "1.5.0",
      "_view_name": "HBoxView",
      "box_style": "",
      "children": [
       "IPY_MODEL_feb1481fa5b9447d851818f707585297",
       "IPY_MODEL_ae5981aa8eb4411ba6b6e84fb2431f3b",
       "IPY_MODEL_ba2d0fe2a68242eb808ab72290f2b449"
      ],
      "layout": "IPY_MODEL_c031c2604ee74caaa19a574b4bba3e3b"
     }
    },
    "88dbd17b0be746d59593440f30e6b878": {
     "model_module": "@jupyter-widgets/controls",
     "model_module_version": "1.5.0",
     "model_name": "FloatProgressModel",
     "state": {
      "_dom_classes": [],
      "_model_module": "@jupyter-widgets/controls",
      "_model_module_version": "1.5.0",
      "_model_name": "FloatProgressModel",
      "_view_count": null,
      "_view_module": "@jupyter-widgets/controls",
      "_view_module_version": "1.5.0",
      "_view_name": "ProgressView",
      "bar_style": "success",
      "description": "",
      "description_tooltip": null,
      "layout": "IPY_MODEL_bdb69f9908b0471db14739fe79099cdd",
      "max": 1,
      "min": 0,
      "orientation": "horizontal",
      "style": "IPY_MODEL_e6e1bcff33ff47b1ad6b35c945f7c466",
      "value": 1
     }
    },
    "8a1e00fe3bfa43d5883c5e118b99f285": {
     "model_module": "@jupyter-widgets/base",
     "model_module_version": "1.2.0",
     "model_name": "LayoutModel",
     "state": {
      "_model_module": "@jupyter-widgets/base",
      "_model_module_version": "1.2.0",
      "_model_name": "LayoutModel",
      "_view_count": null,
      "_view_module": "@jupyter-widgets/base",
      "_view_module_version": "1.2.0",
      "_view_name": "LayoutView",
      "align_content": null,
      "align_items": null,
      "align_self": null,
      "border": null,
      "bottom": null,
      "display": null,
      "flex": null,
      "flex_flow": null,
      "grid_area": null,
      "grid_auto_columns": null,
      "grid_auto_flow": null,
      "grid_auto_rows": null,
      "grid_column": null,
      "grid_gap": null,
      "grid_row": null,
      "grid_template_areas": null,
      "grid_template_columns": null,
      "grid_template_rows": null,
      "height": null,
      "justify_content": null,
      "justify_items": null,
      "left": null,
      "margin": null,
      "max_height": null,
      "max_width": null,
      "min_height": null,
      "min_width": null,
      "object_fit": null,
      "object_position": null,
      "order": null,
      "overflow": null,
      "overflow_x": null,
      "overflow_y": null,
      "padding": null,
      "right": null,
      "top": null,
      "visibility": null,
      "width": null
     }
    },
    "8c933c0622f34a34b8c483709c835ed2": {
     "model_module": "@jupyter-widgets/controls",
     "model_module_version": "1.5.0",
     "model_name": "DescriptionStyleModel",
     "state": {
      "_model_module": "@jupyter-widgets/controls",
      "_model_module_version": "1.5.0",
      "_model_name": "DescriptionStyleModel",
      "_view_count": null,
      "_view_module": "@jupyter-widgets/base",
      "_view_module_version": "1.2.0",
      "_view_name": "StyleView",
      "description_width": ""
     }
    },
    "93bbce94a676498bbe57cbbb5623a7f8": {
     "model_module": "@jupyter-widgets/base",
     "model_module_version": "1.2.0",
     "model_name": "LayoutModel",
     "state": {
      "_model_module": "@jupyter-widgets/base",
      "_model_module_version": "1.2.0",
      "_model_name": "LayoutModel",
      "_view_count": null,
      "_view_module": "@jupyter-widgets/base",
      "_view_module_version": "1.2.0",
      "_view_name": "LayoutView",
      "align_content": null,
      "align_items": null,
      "align_self": null,
      "border": null,
      "bottom": null,
      "display": null,
      "flex": null,
      "flex_flow": null,
      "grid_area": null,
      "grid_auto_columns": null,
      "grid_auto_flow": null,
      "grid_auto_rows": null,
      "grid_column": null,
      "grid_gap": null,
      "grid_row": null,
      "grid_template_areas": null,
      "grid_template_columns": null,
      "grid_template_rows": null,
      "height": null,
      "justify_content": null,
      "justify_items": null,
      "left": null,
      "margin": null,
      "max_height": null,
      "max_width": null,
      "min_height": null,
      "min_width": null,
      "object_fit": null,
      "object_position": null,
      "order": null,
      "overflow": null,
      "overflow_x": null,
      "overflow_y": null,
      "padding": null,
      "right": null,
      "top": null,
      "visibility": null,
      "width": null
     }
    },
    "99578135c0e94571b8f238d897f56025": {
     "model_module": "@jupyter-widgets/controls",
     "model_module_version": "1.5.0",
     "model_name": "DescriptionStyleModel",
     "state": {
      "_model_module": "@jupyter-widgets/controls",
      "_model_module_version": "1.5.0",
      "_model_name": "DescriptionStyleModel",
      "_view_count": null,
      "_view_module": "@jupyter-widgets/base",
      "_view_module_version": "1.2.0",
      "_view_name": "StyleView",
      "description_width": ""
     }
    },
    "9a75d10814b840af986a274fc836da4a": {
     "model_module": "@jupyter-widgets/controls",
     "model_module_version": "1.5.0",
     "model_name": "DescriptionStyleModel",
     "state": {
      "_model_module": "@jupyter-widgets/controls",
      "_model_module_version": "1.5.0",
      "_model_name": "DescriptionStyleModel",
      "_view_count": null,
      "_view_module": "@jupyter-widgets/base",
      "_view_module_version": "1.2.0",
      "_view_name": "StyleView",
      "description_width": ""
     }
    },
    "9fedabdd372c46fe8557ddae204b88b1": {
     "model_module": "@jupyter-widgets/controls",
     "model_module_version": "1.5.0",
     "model_name": "ProgressStyleModel",
     "state": {
      "_model_module": "@jupyter-widgets/controls",
      "_model_module_version": "1.5.0",
      "_model_name": "ProgressStyleModel",
      "_view_count": null,
      "_view_module": "@jupyter-widgets/base",
      "_view_module_version": "1.2.0",
      "_view_name": "StyleView",
      "bar_color": null,
      "description_width": ""
     }
    },
    "a42188758fd84152905b374cda1c4a42": {
     "model_module": "@jupyter-widgets/base",
     "model_module_version": "1.2.0",
     "model_name": "LayoutModel",
     "state": {
      "_model_module": "@jupyter-widgets/base",
      "_model_module_version": "1.2.0",
      "_model_name": "LayoutModel",
      "_view_count": null,
      "_view_module": "@jupyter-widgets/base",
      "_view_module_version": "1.2.0",
      "_view_name": "LayoutView",
      "align_content": null,
      "align_items": null,
      "align_self": null,
      "border": null,
      "bottom": null,
      "display": null,
      "flex": null,
      "flex_flow": null,
      "grid_area": null,
      "grid_auto_columns": null,
      "grid_auto_flow": null,
      "grid_auto_rows": null,
      "grid_column": null,
      "grid_gap": null,
      "grid_row": null,
      "grid_template_areas": null,
      "grid_template_columns": null,
      "grid_template_rows": null,
      "height": null,
      "justify_content": null,
      "justify_items": null,
      "left": null,
      "margin": null,
      "max_height": null,
      "max_width": null,
      "min_height": null,
      "min_width": null,
      "object_fit": null,
      "object_position": null,
      "order": null,
      "overflow": null,
      "overflow_x": null,
      "overflow_y": null,
      "padding": null,
      "right": null,
      "top": null,
      "visibility": null,
      "width": null
     }
    },
    "a4e89fb200294ebdb5a5c1ce46b9f8e8": {
     "model_module": "@jupyter-widgets/controls",
     "model_module_version": "1.5.0",
     "model_name": "DescriptionStyleModel",
     "state": {
      "_model_module": "@jupyter-widgets/controls",
      "_model_module_version": "1.5.0",
      "_model_name": "DescriptionStyleModel",
      "_view_count": null,
      "_view_module": "@jupyter-widgets/base",
      "_view_module_version": "1.2.0",
      "_view_name": "StyleView",
      "description_width": ""
     }
    },
    "a820e265bcfd41578ad44d64f264fa50": {
     "model_module": "@jupyter-widgets/controls",
     "model_module_version": "1.5.0",
     "model_name": "ProgressStyleModel",
     "state": {
      "_model_module": "@jupyter-widgets/controls",
      "_model_module_version": "1.5.0",
      "_model_name": "ProgressStyleModel",
      "_view_count": null,
      "_view_module": "@jupyter-widgets/base",
      "_view_module_version": "1.2.0",
      "_view_name": "StyleView",
      "bar_color": null,
      "description_width": ""
     }
    },
    "ae5981aa8eb4411ba6b6e84fb2431f3b": {
     "model_module": "@jupyter-widgets/controls",
     "model_module_version": "1.5.0",
     "model_name": "FloatProgressModel",
     "state": {
      "_dom_classes": [],
      "_model_module": "@jupyter-widgets/controls",
      "_model_module_version": "1.5.0",
      "_model_name": "FloatProgressModel",
      "_view_count": null,
      "_view_module": "@jupyter-widgets/controls",
      "_view_module_version": "1.5.0",
      "_view_name": "ProgressView",
      "bar_style": "success",
      "description": "",
      "description_tooltip": null,
      "layout": "IPY_MODEL_d145a706f8904d2abbd027360dd4af50",
      "max": 5,
      "min": 0,
      "orientation": "horizontal",
      "style": "IPY_MODEL_f6d2b0a63d55480a81da129c9740c547",
      "value": 5
     }
    },
    "af21cd7e8f1a456aa729710cdc1ccf1c": {
     "model_module": "@jupyter-widgets/base",
     "model_module_version": "1.2.0",
     "model_name": "LayoutModel",
     "state": {
      "_model_module": "@jupyter-widgets/base",
      "_model_module_version": "1.2.0",
      "_model_name": "LayoutModel",
      "_view_count": null,
      "_view_module": "@jupyter-widgets/base",
      "_view_module_version": "1.2.0",
      "_view_name": "LayoutView",
      "align_content": null,
      "align_items": null,
      "align_self": null,
      "border": null,
      "bottom": null,
      "display": null,
      "flex": null,
      "flex_flow": null,
      "grid_area": null,
      "grid_auto_columns": null,
      "grid_auto_flow": null,
      "grid_auto_rows": null,
      "grid_column": null,
      "grid_gap": null,
      "grid_row": null,
      "grid_template_areas": null,
      "grid_template_columns": null,
      "grid_template_rows": null,
      "height": null,
      "justify_content": null,
      "justify_items": null,
      "left": null,
      "margin": null,
      "max_height": null,
      "max_width": null,
      "min_height": null,
      "min_width": null,
      "object_fit": null,
      "object_position": null,
      "order": null,
      "overflow": null,
      "overflow_x": null,
      "overflow_y": null,
      "padding": null,
      "right": null,
      "top": null,
      "visibility": null,
      "width": null
     }
    },
    "b1a5d948e7464a8ab38982d98c6d718a": {
     "model_module": "@jupyter-widgets/controls",
     "model_module_version": "1.5.0",
     "model_name": "HTMLModel",
     "state": {
      "_dom_classes": [],
      "_model_module": "@jupyter-widgets/controls",
      "_model_module_version": "1.5.0",
      "_model_name": "HTMLModel",
      "_view_count": null,
      "_view_module": "@jupyter-widgets/controls",
      "_view_module_version": "1.5.0",
      "_view_name": "HTMLView",
      "description": "",
      "description_tooltip": null,
      "layout": "IPY_MODEL_fce84288f25849d6995d946d1f556f0c",
      "placeholder": "​",
      "style": "IPY_MODEL_a4e89fb200294ebdb5a5c1ce46b9f8e8",
      "value": "Render HTML: 100%"
     }
    },
    "b30ecf85f580459293a9c81cabbab18f": {
     "model_module": "@jupyter-widgets/controls",
     "model_module_version": "1.5.0",
     "model_name": "DescriptionStyleModel",
     "state": {
      "_model_module": "@jupyter-widgets/controls",
      "_model_module_version": "1.5.0",
      "_model_name": "DescriptionStyleModel",
      "_view_count": null,
      "_view_module": "@jupyter-widgets/base",
      "_view_module_version": "1.2.0",
      "_view_name": "StyleView",
      "description_width": ""
     }
    },
    "ba2d0fe2a68242eb808ab72290f2b449": {
     "model_module": "@jupyter-widgets/controls",
     "model_module_version": "1.5.0",
     "model_name": "HTMLModel",
     "state": {
      "_dom_classes": [],
      "_model_module": "@jupyter-widgets/controls",
      "_model_module_version": "1.5.0",
      "_model_name": "HTMLModel",
      "_view_count": null,
      "_view_module": "@jupyter-widgets/controls",
      "_view_module_version": "1.5.0",
      "_view_name": "HTMLView",
      "description": "",
      "description_tooltip": null,
      "layout": "IPY_MODEL_37143584cd35431ca5f3f04b244706bb",
      "placeholder": "​",
      "style": "IPY_MODEL_0ec49f08c32a45b2b14504dc86bf9e09",
      "value": " 80/80 [01:13&lt;00:00,  2.22it/s, Completed]"
     }
    },
    "bc402338a0a744cbb6bafc78d1c14d95": {
     "model_module": "@jupyter-widgets/controls",
     "model_module_version": "1.5.0",
     "model_name": "DescriptionStyleModel",
     "state": {
      "_model_module": "@jupyter-widgets/controls",
      "_model_module_version": "1.5.0",
      "_model_name": "DescriptionStyleModel",
      "_view_count": null,
      "_view_module": "@jupyter-widgets/base",
      "_view_module_version": "1.2.0",
      "_view_name": "StyleView",
      "description_width": ""
     }
    },
    "bdb69f9908b0471db14739fe79099cdd": {
     "model_module": "@jupyter-widgets/base",
     "model_module_version": "1.2.0",
     "model_name": "LayoutModel",
     "state": {
      "_model_module": "@jupyter-widgets/base",
      "_model_module_version": "1.2.0",
      "_model_name": "LayoutModel",
      "_view_count": null,
      "_view_module": "@jupyter-widgets/base",
      "_view_module_version": "1.2.0",
      "_view_name": "LayoutView",
      "align_content": null,
      "align_items": null,
      "align_self": null,
      "border": null,
      "bottom": null,
      "display": null,
      "flex": null,
      "flex_flow": null,
      "grid_area": null,
      "grid_auto_columns": null,
      "grid_auto_flow": null,
      "grid_auto_rows": null,
      "grid_column": null,
      "grid_gap": null,
      "grid_row": null,
      "grid_template_areas": null,
      "grid_template_columns": null,
      "grid_template_rows": null,
      "height": null,
      "justify_content": null,
      "justify_items": null,
      "left": null,
      "margin": null,
      "max_height": null,
      "max_width": null,
      "min_height": null,
      "min_width": null,
      "object_fit": null,
      "object_position": null,
      "order": null,
      "overflow": null,
      "overflow_x": null,
      "overflow_y": null,
      "padding": null,
      "right": null,
      "top": null,
      "visibility": null,
      "width": null
     }
    },
    "be3127fcce6f441cbe9a06fc55879e7e": {
     "model_module": "@jupyter-widgets/controls",
     "model_module_version": "1.5.0",
     "model_name": "HTMLModel",
     "state": {
      "_dom_classes": [],
      "_model_module": "@jupyter-widgets/controls",
      "_model_module_version": "1.5.0",
      "_model_name": "HTMLModel",
      "_view_count": null,
      "_view_module": "@jupyter-widgets/controls",
      "_view_module_version": "1.5.0",
      "_view_name": "HTMLView",
      "description": "",
      "description_tooltip": null,
      "layout": "IPY_MODEL_93bbce94a676498bbe57cbbb5623a7f8",
      "placeholder": "​",
      "style": "IPY_MODEL_0bcc2b5495a34930aebb3815fc115cd4",
      "value": "Render HTML: 100%"
     }
    },
    "c031c2604ee74caaa19a574b4bba3e3b": {
     "model_module": "@jupyter-widgets/base",
     "model_module_version": "1.2.0",
     "model_name": "LayoutModel",
     "state": {
      "_model_module": "@jupyter-widgets/base",
      "_model_module_version": "1.2.0",
      "_model_name": "LayoutModel",
      "_view_count": null,
      "_view_module": "@jupyter-widgets/base",
      "_view_module_version": "1.2.0",
      "_view_name": "LayoutView",
      "align_content": null,
      "align_items": null,
      "align_self": null,
      "border": null,
      "bottom": null,
      "display": null,
      "flex": null,
      "flex_flow": null,
      "grid_area": null,
      "grid_auto_columns": null,
      "grid_auto_flow": null,
      "grid_auto_rows": null,
      "grid_column": null,
      "grid_gap": null,
      "grid_row": null,
      "grid_template_areas": null,
      "grid_template_columns": null,
      "grid_template_rows": null,
      "height": null,
      "justify_content": null,
      "justify_items": null,
      "left": null,
      "margin": null,
      "max_height": null,
      "max_width": null,
      "min_height": null,
      "min_width": null,
      "object_fit": null,
      "object_position": null,
      "order": null,
      "overflow": null,
      "overflow_x": null,
      "overflow_y": null,
      "padding": null,
      "right": null,
      "top": null,
      "visibility": null,
      "width": null
     }
    },
    "c5f64fa706bd498093a62496ed0fb3ba": {
     "model_module": "@jupyter-widgets/controls",
     "model_module_version": "1.5.0",
     "model_name": "DescriptionStyleModel",
     "state": {
      "_model_module": "@jupyter-widgets/controls",
      "_model_module_version": "1.5.0",
      "_model_name": "DescriptionStyleModel",
      "_view_count": null,
      "_view_module": "@jupyter-widgets/base",
      "_view_module_version": "1.2.0",
      "_view_name": "StyleView",
      "description_width": ""
     }
    },
    "ca089d2a8edc47a8b9ea4814116bc931": {
     "model_module": "@jupyter-widgets/controls",
     "model_module_version": "1.5.0",
     "model_name": "HTMLModel",
     "state": {
      "_dom_classes": [],
      "_model_module": "@jupyter-widgets/controls",
      "_model_module_version": "1.5.0",
      "_model_name": "HTMLModel",
      "_view_count": null,
      "_view_module": "@jupyter-widgets/controls",
      "_view_module_version": "1.5.0",
      "_view_name": "HTMLView",
      "description": "",
      "description_tooltip": null,
      "layout": "IPY_MODEL_829ef518cb9249238e16cb0dec280422",
      "placeholder": "​",
      "style": "IPY_MODEL_5e8d7a93949745379e42c82ea7852d6d",
      "value": " 1/1 [00:12&lt;00:00, 12.38s/it]"
     }
    },
    "cbcc7833678a416a96682c9ae5863260": {
     "model_module": "@jupyter-widgets/controls",
     "model_module_version": "1.5.0",
     "model_name": "HTMLModel",
     "state": {
      "_dom_classes": [],
      "_model_module": "@jupyter-widgets/controls",
      "_model_module_version": "1.5.0",
      "_model_name": "HTMLModel",
      "_view_count": null,
      "_view_module": "@jupyter-widgets/controls",
      "_view_module_version": "1.5.0",
      "_view_name": "HTMLView",
      "description": "",
      "description_tooltip": null,
      "layout": "IPY_MODEL_1a9f0ffd007e43dd913d881bca308fbd",
      "placeholder": "​",
      "style": "IPY_MODEL_149f0e9c7c5c49718153f32dd371972b",
      "value": " 1/1 [00:00&lt;00:00, 21.41it/s]"
     }
    },
    "cd21268a81d040f8af247765cb1a65e8": {
     "model_module": "@jupyter-widgets/controls",
     "model_module_version": "1.5.0",
     "model_name": "HTMLModel",
     "state": {
      "_dom_classes": [],
      "_model_module": "@jupyter-widgets/controls",
      "_model_module_version": "1.5.0",
      "_model_name": "HTMLModel",
      "_view_count": null,
      "_view_module": "@jupyter-widgets/controls",
      "_view_module_version": "1.5.0",
      "_view_name": "HTMLView",
      "description": "",
      "description_tooltip": null,
      "layout": "IPY_MODEL_7ebb017cae2d4ceb97576d2a2581857a",
      "placeholder": "​",
      "style": "IPY_MODEL_b30ecf85f580459293a9c81cabbab18f",
      "value": "Generate report structure: 100%"
     }
    },
    "cfe935d40f6e46d3bcf2c11800321639": {
     "model_module": "@jupyter-widgets/controls",
     "model_module_version": "1.5.0",
     "model_name": "HBoxModel",
     "state": {
      "_dom_classes": [],
      "_model_module": "@jupyter-widgets/controls",
      "_model_module_version": "1.5.0",
      "_model_name": "HBoxModel",
      "_view_count": null,
      "_view_module": "@jupyter-widgets/controls",
      "_view_module_version": "1.5.0",
      "_view_name": "HBoxView",
      "box_style": "",
      "children": [
       "IPY_MODEL_be3127fcce6f441cbe9a06fc55879e7e",
       "IPY_MODEL_083f41add2ea4d18a41735923ff7b7a1",
       "IPY_MODEL_de299d3ee3db460bace0e371e4c136f8"
      ],
      "layout": "IPY_MODEL_5432858dd5104506abc0659cd832861e"
     }
    },
    "d145a706f8904d2abbd027360dd4af50": {
     "model_module": "@jupyter-widgets/base",
     "model_module_version": "1.2.0",
     "model_name": "LayoutModel",
     "state": {
      "_model_module": "@jupyter-widgets/base",
      "_model_module_version": "1.2.0",
      "_model_name": "LayoutModel",
      "_view_count": null,
      "_view_module": "@jupyter-widgets/base",
      "_view_module_version": "1.2.0",
      "_view_name": "LayoutView",
      "align_content": null,
      "align_items": null,
      "align_self": null,
      "border": null,
      "bottom": null,
      "display": null,
      "flex": null,
      "flex_flow": null,
      "grid_area": null,
      "grid_auto_columns": null,
      "grid_auto_flow": null,
      "grid_auto_rows": null,
      "grid_column": null,
      "grid_gap": null,
      "grid_row": null,
      "grid_template_areas": null,
      "grid_template_columns": null,
      "grid_template_rows": null,
      "height": null,
      "justify_content": null,
      "justify_items": null,
      "left": null,
      "margin": null,
      "max_height": null,
      "max_width": null,
      "min_height": null,
      "min_width": null,
      "object_fit": null,
      "object_position": null,
      "order": null,
      "overflow": null,
      "overflow_x": null,
      "overflow_y": null,
      "padding": null,
      "right": null,
      "top": null,
      "visibility": null,
      "width": null
     }
    },
    "d1b7e27a4cab41cbb243c6e3e2e15926": {
     "model_module": "@jupyter-widgets/controls",
     "model_module_version": "1.5.0",
     "model_name": "HBoxModel",
     "state": {
      "_dom_classes": [],
      "_model_module": "@jupyter-widgets/controls",
      "_model_module_version": "1.5.0",
      "_model_name": "HBoxModel",
      "_view_count": null,
      "_view_module": "@jupyter-widgets/controls",
      "_view_module_version": "1.5.0",
      "_view_name": "HBoxView",
      "box_style": "",
      "children": [
       "IPY_MODEL_80cf7db3d97a42ce9441485586f13cbb",
       "IPY_MODEL_88dbd17b0be746d59593440f30e6b878",
       "IPY_MODEL_f552175eb92444bc8b1cc9f5827f3903"
      ],
      "layout": "IPY_MODEL_e3df782262cc4913bb9d5ef040a64d7a"
     }
    },
    "db50018bcc054ff68b2c76e2d1a5084d": {
     "model_module": "@jupyter-widgets/controls",
     "model_module_version": "1.5.0",
     "model_name": "ProgressStyleModel",
     "state": {
      "_model_module": "@jupyter-widgets/controls",
      "_model_module_version": "1.5.0",
      "_model_name": "ProgressStyleModel",
      "_view_count": null,
      "_view_module": "@jupyter-widgets/base",
      "_view_module_version": "1.2.0",
      "_view_name": "StyleView",
      "bar_color": null,
      "description_width": ""
     }
    },
    "db62a19e5cbd4139a80430058e0f7db4": {
     "model_module": "@jupyter-widgets/base",
     "model_module_version": "1.2.0",
     "model_name": "LayoutModel",
     "state": {
      "_model_module": "@jupyter-widgets/base",
      "_model_module_version": "1.2.0",
      "_model_name": "LayoutModel",
      "_view_count": null,
      "_view_module": "@jupyter-widgets/base",
      "_view_module_version": "1.2.0",
      "_view_name": "LayoutView",
      "align_content": null,
      "align_items": null,
      "align_self": null,
      "border": null,
      "bottom": null,
      "display": null,
      "flex": null,
      "flex_flow": null,
      "grid_area": null,
      "grid_auto_columns": null,
      "grid_auto_flow": null,
      "grid_auto_rows": null,
      "grid_column": null,
      "grid_gap": null,
      "grid_row": null,
      "grid_template_areas": null,
      "grid_template_columns": null,
      "grid_template_rows": null,
      "height": null,
      "justify_content": null,
      "justify_items": null,
      "left": null,
      "margin": null,
      "max_height": null,
      "max_width": null,
      "min_height": null,
      "min_width": null,
      "object_fit": null,
      "object_position": null,
      "order": null,
      "overflow": null,
      "overflow_x": null,
      "overflow_y": null,
      "padding": null,
      "right": null,
      "top": null,
      "visibility": null,
      "width": null
     }
    },
    "dc38356c269445e6b015c522d912c0dd": {
     "model_module": "@jupyter-widgets/base",
     "model_module_version": "1.2.0",
     "model_name": "LayoutModel",
     "state": {
      "_model_module": "@jupyter-widgets/base",
      "_model_module_version": "1.2.0",
      "_model_name": "LayoutModel",
      "_view_count": null,
      "_view_module": "@jupyter-widgets/base",
      "_view_module_version": "1.2.0",
      "_view_name": "LayoutView",
      "align_content": null,
      "align_items": null,
      "align_self": null,
      "border": null,
      "bottom": null,
      "display": null,
      "flex": null,
      "flex_flow": null,
      "grid_area": null,
      "grid_auto_columns": null,
      "grid_auto_flow": null,
      "grid_auto_rows": null,
      "grid_column": null,
      "grid_gap": null,
      "grid_row": null,
      "grid_template_areas": null,
      "grid_template_columns": null,
      "grid_template_rows": null,
      "height": null,
      "justify_content": null,
      "justify_items": null,
      "left": null,
      "margin": null,
      "max_height": null,
      "max_width": null,
      "min_height": null,
      "min_width": null,
      "object_fit": null,
      "object_position": null,
      "order": null,
      "overflow": null,
      "overflow_x": null,
      "overflow_y": null,
      "padding": null,
      "right": null,
      "top": null,
      "visibility": null,
      "width": null
     }
    },
    "dcd69d732ef345c0b7644e8087dd9e11": {
     "model_module": "@jupyter-widgets/base",
     "model_module_version": "1.2.0",
     "model_name": "LayoutModel",
     "state": {
      "_model_module": "@jupyter-widgets/base",
      "_model_module_version": "1.2.0",
      "_model_name": "LayoutModel",
      "_view_count": null,
      "_view_module": "@jupyter-widgets/base",
      "_view_module_version": "1.2.0",
      "_view_name": "LayoutView",
      "align_content": null,
      "align_items": null,
      "align_self": null,
      "border": null,
      "bottom": null,
      "display": null,
      "flex": null,
      "flex_flow": null,
      "grid_area": null,
      "grid_auto_columns": null,
      "grid_auto_flow": null,
      "grid_auto_rows": null,
      "grid_column": null,
      "grid_gap": null,
      "grid_row": null,
      "grid_template_areas": null,
      "grid_template_columns": null,
      "grid_template_rows": null,
      "height": null,
      "justify_content": null,
      "justify_items": null,
      "left": null,
      "margin": null,
      "max_height": null,
      "max_width": null,
      "min_height": null,
      "min_width": null,
      "object_fit": null,
      "object_position": null,
      "order": null,
      "overflow": null,
      "overflow_x": null,
      "overflow_y": null,
      "padding": null,
      "right": null,
      "top": null,
      "visibility": null,
      "width": null
     }
    },
    "de299d3ee3db460bace0e371e4c136f8": {
     "model_module": "@jupyter-widgets/controls",
     "model_module_version": "1.5.0",
     "model_name": "HTMLModel",
     "state": {
      "_dom_classes": [],
      "_model_module": "@jupyter-widgets/controls",
      "_model_module_version": "1.5.0",
      "_model_name": "HTMLModel",
      "_view_count": null,
      "_view_module": "@jupyter-widgets/controls",
      "_view_module_version": "1.5.0",
      "_view_name": "HTMLView",
      "description": "",
      "description_tooltip": null,
      "layout": "IPY_MODEL_5d76d8484c8a48c8aeb095126f001d68",
      "placeholder": "​",
      "style": "IPY_MODEL_99578135c0e94571b8f238d897f56025",
      "value": " 1/1 [00:03&lt;00:00,  3.55s/it]"
     }
    },
    "e0b35d9dbe4f453484bc463e6433bf3b": {
     "model_module": "@jupyter-widgets/controls",
     "model_module_version": "1.5.0",
     "model_name": "HTMLModel",
     "state": {
      "_dom_classes": [],
      "_model_module": "@jupyter-widgets/controls",
      "_model_module_version": "1.5.0",
      "_model_name": "HTMLModel",
      "_view_count": null,
      "_view_module": "@jupyter-widgets/controls",
      "_view_module_version": "1.5.0",
      "_view_name": "HTMLView",
      "description": "",
      "description_tooltip": null,
      "layout": "IPY_MODEL_a42188758fd84152905b374cda1c4a42",
      "placeholder": "​",
      "style": "IPY_MODEL_8c933c0622f34a34b8c483709c835ed2",
      "value": " 76/76 [00:50&lt;00:00,  2.55it/s, Completed]"
     }
    },
    "e3df782262cc4913bb9d5ef040a64d7a": {
     "model_module": "@jupyter-widgets/base",
     "model_module_version": "1.2.0",
     "model_name": "LayoutModel",
     "state": {
      "_model_module": "@jupyter-widgets/base",
      "_model_module_version": "1.2.0",
      "_model_name": "LayoutModel",
      "_view_count": null,
      "_view_module": "@jupyter-widgets/base",
      "_view_module_version": "1.2.0",
      "_view_name": "LayoutView",
      "align_content": null,
      "align_items": null,
      "align_self": null,
      "border": null,
      "bottom": null,
      "display": null,
      "flex": null,
      "flex_flow": null,
      "grid_area": null,
      "grid_auto_columns": null,
      "grid_auto_flow": null,
      "grid_auto_rows": null,
      "grid_column": null,
      "grid_gap": null,
      "grid_row": null,
      "grid_template_areas": null,
      "grid_template_columns": null,
      "grid_template_rows": null,
      "height": null,
      "justify_content": null,
      "justify_items": null,
      "left": null,
      "margin": null,
      "max_height": null,
      "max_width": null,
      "min_height": null,
      "min_width": null,
      "object_fit": null,
      "object_position": null,
      "order": null,
      "overflow": null,
      "overflow_x": null,
      "overflow_y": null,
      "padding": null,
      "right": null,
      "top": null,
      "visibility": null,
      "width": null
     }
    },
    "e6e1bcff33ff47b1ad6b35c945f7c466": {
     "model_module": "@jupyter-widgets/controls",
     "model_module_version": "1.5.0",
     "model_name": "ProgressStyleModel",
     "state": {
      "_model_module": "@jupyter-widgets/controls",
      "_model_module_version": "1.5.0",
      "_model_name": "ProgressStyleModel",
      "_view_count": null,
      "_view_module": "@jupyter-widgets/base",
      "_view_module_version": "1.2.0",
      "_view_name": "StyleView",
      "bar_color": null,
      "description_width": ""
     }
    },
    "e8c9a834fc064cd6aca0e335c9d33031": {
     "model_module": "@jupyter-widgets/controls",
     "model_module_version": "1.5.0",
     "model_name": "ProgressStyleModel",
     "state": {
      "_model_module": "@jupyter-widgets/controls",
      "_model_module_version": "1.5.0",
      "_model_name": "ProgressStyleModel",
      "_view_count": null,
      "_view_module": "@jupyter-widgets/base",
      "_view_module_version": "1.2.0",
      "_view_name": "StyleView",
      "bar_color": null,
      "description_width": ""
     }
    },
    "e974c2fb02d145a7bbb5fa570fcdddc5": {
     "model_module": "@jupyter-widgets/base",
     "model_module_version": "1.2.0",
     "model_name": "LayoutModel",
     "state": {
      "_model_module": "@jupyter-widgets/base",
      "_model_module_version": "1.2.0",
      "_model_name": "LayoutModel",
      "_view_count": null,
      "_view_module": "@jupyter-widgets/base",
      "_view_module_version": "1.2.0",
      "_view_name": "LayoutView",
      "align_content": null,
      "align_items": null,
      "align_self": null,
      "border": null,
      "bottom": null,
      "display": null,
      "flex": null,
      "flex_flow": null,
      "grid_area": null,
      "grid_auto_columns": null,
      "grid_auto_flow": null,
      "grid_auto_rows": null,
      "grid_column": null,
      "grid_gap": null,
      "grid_row": null,
      "grid_template_areas": null,
      "grid_template_columns": null,
      "grid_template_rows": null,
      "height": null,
      "justify_content": null,
      "justify_items": null,
      "left": null,
      "margin": null,
      "max_height": null,
      "max_width": null,
      "min_height": null,
      "min_width": null,
      "object_fit": null,
      "object_position": null,
      "order": null,
      "overflow": null,
      "overflow_x": null,
      "overflow_y": null,
      "padding": null,
      "right": null,
      "top": null,
      "visibility": null,
      "width": null
     }
    },
    "ee17b66fdd01419e8846493c63fee7a7": {
     "model_module": "@jupyter-widgets/controls",
     "model_module_version": "1.5.0",
     "model_name": "HTMLModel",
     "state": {
      "_dom_classes": [],
      "_model_module": "@jupyter-widgets/controls",
      "_model_module_version": "1.5.0",
      "_model_name": "HTMLModel",
      "_view_count": null,
      "_view_module": "@jupyter-widgets/controls",
      "_view_module_version": "1.5.0",
      "_view_name": "HTMLView",
      "description": "",
      "description_tooltip": null,
      "layout": "IPY_MODEL_41ddd427a57045219ded345ed6ffc62e",
      "placeholder": "​",
      "style": "IPY_MODEL_bc402338a0a744cbb6bafc78d1c14d95",
      "value": " 1/1 [00:02&lt;00:00,  2.78s/it]"
     }
    },
    "ee6d1045db824cf289fe7aac4a1833bc": {
     "model_module": "@jupyter-widgets/controls",
     "model_module_version": "1.5.0",
     "model_name": "HTMLModel",
     "state": {
      "_dom_classes": [],
      "_model_module": "@jupyter-widgets/controls",
      "_model_module_version": "1.5.0",
      "_model_name": "HTMLModel",
      "_view_count": null,
      "_view_module": "@jupyter-widgets/controls",
      "_view_module_version": "1.5.0",
      "_view_name": "HTMLView",
      "description": "",
      "description_tooltip": null,
      "layout": "IPY_MODEL_286a7c56a3024421a1d247ff4f3d5433",
      "placeholder": "​",
      "style": "IPY_MODEL_f893e14c5c9a4ab2901fdefc35b2407f",
      "value": "Export report to file: 100%"
     }
    },
    "f2af64c8f4fb42a6ba213e000b46fdea": {
     "model_module": "@jupyter-widgets/base",
     "model_module_version": "1.2.0",
     "model_name": "LayoutModel",
     "state": {
      "_model_module": "@jupyter-widgets/base",
      "_model_module_version": "1.2.0",
      "_model_name": "LayoutModel",
      "_view_count": null,
      "_view_module": "@jupyter-widgets/base",
      "_view_module_version": "1.2.0",
      "_view_name": "LayoutView",
      "align_content": null,
      "align_items": null,
      "align_self": null,
      "border": null,
      "bottom": null,
      "display": null,
      "flex": null,
      "flex_flow": null,
      "grid_area": null,
      "grid_auto_columns": null,
      "grid_auto_flow": null,
      "grid_auto_rows": null,
      "grid_column": null,
      "grid_gap": null,
      "grid_row": null,
      "grid_template_areas": null,
      "grid_template_columns": null,
      "grid_template_rows": null,
      "height": null,
      "justify_content": null,
      "justify_items": null,
      "left": null,
      "margin": null,
      "max_height": null,
      "max_width": null,
      "min_height": null,
      "min_width": null,
      "object_fit": null,
      "object_position": null,
      "order": null,
      "overflow": null,
      "overflow_x": null,
      "overflow_y": null,
      "padding": null,
      "right": null,
      "top": null,
      "visibility": null,
      "width": null
     }
    },
    "f359324a7e0d4103981301e817a21cb4": {
     "model_module": "@jupyter-widgets/base",
     "model_module_version": "1.2.0",
     "model_name": "LayoutModel",
     "state": {
      "_model_module": "@jupyter-widgets/base",
      "_model_module_version": "1.2.0",
      "_model_name": "LayoutModel",
      "_view_count": null,
      "_view_module": "@jupyter-widgets/base",
      "_view_module_version": "1.2.0",
      "_view_name": "LayoutView",
      "align_content": null,
      "align_items": null,
      "align_self": null,
      "border": null,
      "bottom": null,
      "display": null,
      "flex": null,
      "flex_flow": null,
      "grid_area": null,
      "grid_auto_columns": null,
      "grid_auto_flow": null,
      "grid_auto_rows": null,
      "grid_column": null,
      "grid_gap": null,
      "grid_row": null,
      "grid_template_areas": null,
      "grid_template_columns": null,
      "grid_template_rows": null,
      "height": null,
      "justify_content": null,
      "justify_items": null,
      "left": null,
      "margin": null,
      "max_height": null,
      "max_width": null,
      "min_height": null,
      "min_width": null,
      "object_fit": null,
      "object_position": null,
      "order": null,
      "overflow": null,
      "overflow_x": null,
      "overflow_y": null,
      "padding": null,
      "right": null,
      "top": null,
      "visibility": null,
      "width": null
     }
    },
    "f36a405b1cf24c5284f2dbf9ad787912": {
     "model_module": "@jupyter-widgets/controls",
     "model_module_version": "1.5.0",
     "model_name": "DescriptionStyleModel",
     "state": {
      "_model_module": "@jupyter-widgets/controls",
      "_model_module_version": "1.5.0",
      "_model_name": "DescriptionStyleModel",
      "_view_count": null,
      "_view_module": "@jupyter-widgets/base",
      "_view_module_version": "1.2.0",
      "_view_name": "StyleView",
      "description_width": ""
     }
    },
    "f552175eb92444bc8b1cc9f5827f3903": {
     "model_module": "@jupyter-widgets/controls",
     "model_module_version": "1.5.0",
     "model_name": "HTMLModel",
     "state": {
      "_dom_classes": [],
      "_model_module": "@jupyter-widgets/controls",
      "_model_module_version": "1.5.0",
      "_model_name": "HTMLModel",
      "_view_count": null,
      "_view_module": "@jupyter-widgets/controls",
      "_view_module_version": "1.5.0",
      "_view_name": "HTMLView",
      "description": "",
      "description_tooltip": null,
      "layout": "IPY_MODEL_515720a6f5664c6f831a632914dce6fb",
      "placeholder": "​",
      "style": "IPY_MODEL_9a75d10814b840af986a274fc836da4a",
      "value": " 1/1 [00:00&lt;00:00, 25.11it/s]"
     }
    },
    "f6d2b0a63d55480a81da129c9740c547": {
     "model_module": "@jupyter-widgets/controls",
     "model_module_version": "1.5.0",
     "model_name": "ProgressStyleModel",
     "state": {
      "_model_module": "@jupyter-widgets/controls",
      "_model_module_version": "1.5.0",
      "_model_name": "ProgressStyleModel",
      "_view_count": null,
      "_view_module": "@jupyter-widgets/base",
      "_view_module_version": "1.2.0",
      "_view_name": "StyleView",
      "bar_color": null,
      "description_width": ""
     }
    },
    "f893e14c5c9a4ab2901fdefc35b2407f": {
     "model_module": "@jupyter-widgets/controls",
     "model_module_version": "1.5.0",
     "model_name": "DescriptionStyleModel",
     "state": {
      "_model_module": "@jupyter-widgets/controls",
      "_model_module_version": "1.5.0",
      "_model_name": "DescriptionStyleModel",
      "_view_count": null,
      "_view_module": "@jupyter-widgets/base",
      "_view_module_version": "1.2.0",
      "_view_name": "StyleView",
      "description_width": ""
     }
    },
    "fac56a825e6b462bae31e4bfc0418cb9": {
     "model_module": "@jupyter-widgets/controls",
     "model_module_version": "1.5.0",
     "model_name": "HBoxModel",
     "state": {
      "_dom_classes": [],
      "_model_module": "@jupyter-widgets/controls",
      "_model_module_version": "1.5.0",
      "_model_name": "HBoxModel",
      "_view_count": null,
      "_view_module": "@jupyter-widgets/controls",
      "_view_module_version": "1.5.0",
      "_view_name": "HBoxView",
      "box_style": "",
      "children": [
       "IPY_MODEL_ee6d1045db824cf289fe7aac4a1833bc",
       "IPY_MODEL_65f1946b061048f58b4ec6793d62b17f",
       "IPY_MODEL_cbcc7833678a416a96682c9ae5863260"
      ],
      "layout": "IPY_MODEL_8a1e00fe3bfa43d5883c5e118b99f285"
     }
    },
    "fce84288f25849d6995d946d1f556f0c": {
     "model_module": "@jupyter-widgets/base",
     "model_module_version": "1.2.0",
     "model_name": "LayoutModel",
     "state": {
      "_model_module": "@jupyter-widgets/base",
      "_model_module_version": "1.2.0",
      "_model_name": "LayoutModel",
      "_view_count": null,
      "_view_module": "@jupyter-widgets/base",
      "_view_module_version": "1.2.0",
      "_view_name": "LayoutView",
      "align_content": null,
      "align_items": null,
      "align_self": null,
      "border": null,
      "bottom": null,
      "display": null,
      "flex": null,
      "flex_flow": null,
      "grid_area": null,
      "grid_auto_columns": null,
      "grid_auto_flow": null,
      "grid_auto_rows": null,
      "grid_column": null,
      "grid_gap": null,
      "grid_row": null,
      "grid_template_areas": null,
      "grid_template_columns": null,
      "grid_template_rows": null,
      "height": null,
      "justify_content": null,
      "justify_items": null,
      "left": null,
      "margin": null,
      "max_height": null,
      "max_width": null,
      "min_height": null,
      "min_width": null,
      "object_fit": null,
      "object_position": null,
      "order": null,
      "overflow": null,
      "overflow_x": null,
      "overflow_y": null,
      "padding": null,
      "right": null,
      "top": null,
      "visibility": null,
      "width": null
     }
    },
    "fd9f6878993848ddbcec647b6c53a3b0": {
     "model_module": "@jupyter-widgets/controls",
     "model_module_version": "1.5.0",
     "model_name": "HBoxModel",
     "state": {
      "_dom_classes": [],
      "_model_module": "@jupyter-widgets/controls",
      "_model_module_version": "1.5.0",
      "_model_name": "HBoxModel",
      "_view_count": null,
      "_view_module": "@jupyter-widgets/controls",
      "_view_module_version": "1.5.0",
      "_view_name": "HBoxView",
      "box_style": "",
      "children": [
       "IPY_MODEL_730de23d00ce4c8dbbc7cfaff06ef9c4",
       "IPY_MODEL_26b3135413b9480795b3b4c9cd7930ff",
       "IPY_MODEL_0330d5482d614f35b7e5c3e0ee246ffc"
      ],
      "layout": "IPY_MODEL_f2af64c8f4fb42a6ba213e000b46fdea"
     }
    },
    "feb1481fa5b9447d851818f707585297": {
     "model_module": "@jupyter-widgets/controls",
     "model_module_version": "1.5.0",
     "model_name": "HTMLModel",
     "state": {
      "_dom_classes": [],
      "_model_module": "@jupyter-widgets/controls",
      "_model_module_version": "1.5.0",
      "_model_name": "HTMLModel",
      "_view_count": null,
      "_view_module": "@jupyter-widgets/controls",
      "_view_module_version": "1.5.0",
      "_view_name": "HTMLView",
      "description": "",
      "description_tooltip": null,
      "layout": "IPY_MODEL_23e324f7f089460ea1d8ef39eed9b1af",
      "placeholder": "​",
      "style": "IPY_MODEL_f36a405b1cf24c5284f2dbf9ad787912",
      "value": "Summarize dataset: 100%"
     }
    },
    "fef99f330a1f48c79dd9d1c1a87c6763": {
     "model_module": "@jupyter-widgets/controls",
     "model_module_version": "1.5.0",
     "model_name": "HBoxModel",
     "state": {
      "_dom_classes": [],
      "_model_module": "@jupyter-widgets/controls",
      "_model_module_version": "1.5.0",
      "_model_name": "HBoxModel",
      "_view_count": null,
      "_view_module": "@jupyter-widgets/controls",
      "_view_module_version": "1.5.0",
      "_view_name": "HBoxView",
      "box_style": "",
      "children": [
       "IPY_MODEL_b1a5d948e7464a8ab38982d98c6d718a",
       "IPY_MODEL_64d48c63eafa4018b590a15f8f3fb4d7",
       "IPY_MODEL_ee17b66fdd01419e8846493c63fee7a7"
      ],
      "layout": "IPY_MODEL_60c68a29bbb740c7bd95fa43b3c46b99"
     }
    }
   }
  }
 },
 "nbformat": 4,
 "nbformat_minor": 5
}
